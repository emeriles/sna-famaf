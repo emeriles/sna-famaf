{
 "cells": [
  {
   "cell_type": "code",
   "execution_count": 35,
   "metadata": {},
   "outputs": [],
   "source": [
    "csv_path = '../../database/dayli_collections/dayli_col.csv'"
   ]
  },
  {
   "cell_type": "code",
   "execution_count": 1,
   "metadata": {},
   "outputs": [],
   "source": [
    "import pandas as pd\n",
    "import pickle\n",
    "from db import DBHandler\n",
    "import numpy as np\n",
    "import matplotlib.pyplot as plt\n",
    "%matplotlib inline"
   ]
  },
  {
   "cell_type": "code",
   "execution_count": 2,
   "metadata": {},
   "outputs": [
    {
     "name": "stdout",
     "output_type": "stream",
     "text": [
      "CPU times: user 2min 21s, sys: 499 ms, total: 2min 22s\n",
      "Wall time: 2min 22s\n"
     ]
    }
   ],
   "source": [
    "%%time\n",
    "\n",
    "dtypes = {\n",
    "    'user.id_str': str,\n",
    "    'id_str': str,\n",
    "    'text': str,\n",
    "    'retweeted_status.id_str': str ,\n",
    "    'retweeted_status.user.id_str': str,\n",
    "    'retweet_count': int,\n",
    "    'quoted_status_id_str': str,\n",
    "}\n",
    "df = pd.read_csv(csv_path, dtype=dtypes)\n",
    "\n",
    "# parse dates\n",
    "datetime_cols = [c for c in df.columns if 'created_at' in c]\n",
    "for c in datetime_cols:\n",
    "    df[c] = pd.to_datetime(df[c])\n",
    "\n",
    "# reemplazar nombre de columnas: . por __ para sintactic sugar de pandas.\n",
    "df.rename(columns=lambda x: x.replace('.', '__'), inplace=True)"
   ]
  },
  {
   "cell_type": "code",
   "execution_count": 3,
   "metadata": {},
   "outputs": [
    {
     "data": {
      "text/html": [
       "<div>\n",
       "<style scoped>\n",
       "    .dataframe tbody tr th:only-of-type {\n",
       "        vertical-align: middle;\n",
       "    }\n",
       "\n",
       "    .dataframe tbody tr th {\n",
       "        vertical-align: top;\n",
       "    }\n",
       "\n",
       "    .dataframe thead th {\n",
       "        text-align: right;\n",
       "    }\n",
       "</style>\n",
       "<table border=\"1\" class=\"dataframe\">\n",
       "  <thead>\n",
       "    <tr style=\"text-align: right;\">\n",
       "      <th></th>\n",
       "      <th>created_at</th>\n",
       "      <th>user__id_str</th>\n",
       "      <th>id_str</th>\n",
       "      <th>text</th>\n",
       "      <th>retweeted_status__id_str</th>\n",
       "      <th>retweeted_status__user__id_str</th>\n",
       "      <th>retweeted_status__created_at</th>\n",
       "      <th>retweet_count</th>\n",
       "      <th>quoted_status_id_str</th>\n",
       "    </tr>\n",
       "  </thead>\n",
       "  <tbody>\n",
       "    <tr>\n",
       "      <th>378490</th>\n",
       "      <td>2018-11-04 01:00:00</td>\n",
       "      <td>118732136</td>\n",
       "      <td>1058886546021994496</td>\n",
       "      <td>Horror en San Marcos Sierras\\nEl Show de la Ma...</td>\n",
       "      <td>NaN</td>\n",
       "      <td>NaN</td>\n",
       "      <td>NaT</td>\n",
       "      <td>0</td>\n",
       "      <td>NaN</td>\n",
       "    </tr>\n",
       "    <tr>\n",
       "      <th>378491</th>\n",
       "      <td>2018-11-04 00:00:00</td>\n",
       "      <td>118732136</td>\n",
       "      <td>1058871446255079424</td>\n",
       "      <td>Preocupan los casos de violencia intrafamiliar...</td>\n",
       "      <td>NaN</td>\n",
       "      <td>NaN</td>\n",
       "      <td>NaT</td>\n",
       "      <td>0</td>\n",
       "      <td>NaN</td>\n",
       "    </tr>\n",
       "    <tr>\n",
       "      <th>378492</th>\n",
       "      <td>2018-11-04 23:52:00</td>\n",
       "      <td>309812848</td>\n",
       "      <td>1059231820942794752</td>\n",
       "      <td>#LaCornisa Tras más de una década de apología ...</td>\n",
       "      <td>NaN</td>\n",
       "      <td>NaN</td>\n",
       "      <td>NaT</td>\n",
       "      <td>4</td>\n",
       "      <td>NaN</td>\n",
       "    </tr>\n",
       "    <tr>\n",
       "      <th>378493</th>\n",
       "      <td>2018-11-04 23:31:00</td>\n",
       "      <td>309812848</td>\n",
       "      <td>1059226536136658950</td>\n",
       "      <td>Seguimos con un país en #LaCornisa, pero sólo ...</td>\n",
       "      <td>NaN</td>\n",
       "      <td>NaN</td>\n",
       "      <td>NaT</td>\n",
       "      <td>8</td>\n",
       "      <td>NaN</td>\n",
       "    </tr>\n",
       "    <tr>\n",
       "      <th>378494</th>\n",
       "      <td>2018-11-04 14:52:33</td>\n",
       "      <td>84644827</td>\n",
       "      <td>1059096066493239296</td>\n",
       "      <td>RT @Guillevelez1: Entre el nuevo álbum de Juan...</td>\n",
       "      <td>1055847600337887233</td>\n",
       "      <td>909103393</td>\n",
       "      <td>2018-10-26 15:44:19</td>\n",
       "      <td>2</td>\n",
       "      <td>NaN</td>\n",
       "    </tr>\n",
       "  </tbody>\n",
       "</table>\n",
       "</div>"
      ],
      "text/plain": [
       "                created_at user__id_str               id_str  \\\n",
       "378490 2018-11-04 01:00:00    118732136  1058886546021994496   \n",
       "378491 2018-11-04 00:00:00    118732136  1058871446255079424   \n",
       "378492 2018-11-04 23:52:00    309812848  1059231820942794752   \n",
       "378493 2018-11-04 23:31:00    309812848  1059226536136658950   \n",
       "378494 2018-11-04 14:52:33     84644827  1059096066493239296   \n",
       "\n",
       "                                                     text  \\\n",
       "378490  Horror en San Marcos Sierras\\nEl Show de la Ma...   \n",
       "378491  Preocupan los casos de violencia intrafamiliar...   \n",
       "378492  #LaCornisa Tras más de una década de apología ...   \n",
       "378493  Seguimos con un país en #LaCornisa, pero sólo ...   \n",
       "378494  RT @Guillevelez1: Entre el nuevo álbum de Juan...   \n",
       "\n",
       "       retweeted_status__id_str retweeted_status__user__id_str  \\\n",
       "378490                      NaN                            NaN   \n",
       "378491                      NaN                            NaN   \n",
       "378492                      NaN                            NaN   \n",
       "378493                      NaN                            NaN   \n",
       "378494      1055847600337887233                      909103393   \n",
       "\n",
       "       retweeted_status__created_at  retweet_count quoted_status_id_str  \n",
       "378490                          NaT              0                  NaN  \n",
       "378491                          NaT              0                  NaN  \n",
       "378492                          NaT              4                  NaN  \n",
       "378493                          NaT              8                  NaN  \n",
       "378494          2018-10-26 15:44:19              2                  NaN  "
      ]
     },
     "execution_count": 3,
     "metadata": {},
     "output_type": "execute_result"
    }
   ],
   "source": [
    "df.tail()"
   ]
  },
  {
   "cell_type": "code",
   "execution_count": 4,
   "metadata": {
    "scrolled": false
   },
   "outputs": [],
   "source": [
    "### READ FROM MONGODB CONNECTION\n",
    "\n",
    "\n",
    "# h = DBHandler(port=27017)\n",
    "\n",
    "# columns = ['created_at', 'id_str', 'retweet_count', 'retweeted_status__id_str', 'retweeted_status__created_at']\n",
    "# separator = '__'\n",
    "# project = ({f_name: '$' + f_name.replace(separator, '.') for f_name in columns})\n",
    "# project.update({'retweeted_status': '$retweeted_status.id_str'})\n",
    "\n",
    "\n",
    "# cursor = h.tweet_collection.aggregate([\n",
    "#     {'$project': project}\n",
    "# ])\n",
    "# df = pd.DataFrame(list(cursor))\n",
    "\n",
    "# # datatype conversion\n",
    "# datetime_cols = [c for c in df.columns if 'created_at' in c]\n",
    "# for c in datetime_cols:\n",
    "#     df[c] = pd.to_datetime(df[c])"
   ]
  },
  {
   "cell_type": "code",
   "execution_count": 5,
   "metadata": {},
   "outputs": [],
   "source": [
    "# usefull aliases\n",
    "def df_only_rt(data_f):\n",
    "    return data_f[data_f.retweeted_status__id_str.notna()]\n",
    "\n",
    "def df_not_rt(data_f):\n",
    "    return data_f[data_f.retweeted_status__id_str.isna()]\n",
    "\n",
    "def df_commented(data_f):\n",
    "    return data_f[data_f.quoted_status_id_str.notna()]"
   ]
  },
  {
   "cell_type": "markdown",
   "metadata": {},
   "source": [
    "### Basic counts"
   ]
  },
  {
   "cell_type": "code",
   "execution_count": 6,
   "metadata": {},
   "outputs": [
    {
     "name": "stdout",
     "output_type": "stream",
     "text": [
      "Hay 4171 usuarios en el dataset.\n",
      "Hay 378488 tweets en el dataset.\n",
      "       retweet_count\n",
      "count  378495.000000\n",
      "mean      230.279607\n",
      "std      3104.433470\n",
      "min         0.000000\n",
      "25%         0.000000\n",
      "50%         2.000000\n",
      "75%        17.000000\n",
      "max    385289.000000\n",
      "CPU times: user 730 ms, sys: 0 ns, total: 730 ms\n",
      "Wall time: 783 ms\n"
     ]
    }
   ],
   "source": [
    "%%time\n",
    "quantity_of_users_on_ds = df.user__id_str.value_counts().count()\n",
    "quantity_of_tweets_on_ds = df.id_str.value_counts().count()\n",
    "print('Hay {} usuarios en el dataset.'.format(quantity_of_users_on_ds))\n",
    "print('Hay {} tweets en el dataset.'.format(quantity_of_tweets_on_ds))\n",
    "print(df.describe())"
   ]
  },
  {
   "cell_type": "markdown",
   "metadata": {},
   "source": [
    "# Recorte 1: tomar solo retweets que relacionan nuestros usuarios\n",
    "\n",
    "Para algunos puntos desarrollados se tendrá en cuenta un recorte de dataset: Éste consiste en tomar, de todos los tweets recogidos, sólo aquellos que relacionan nuestros usuarios considerados para el estudio.\n",
    "\n",
    "Se usará 'Global' para referirse a la totalidad de los tweets, y 'Recorte 1' para referirse a la selección mencionada.\n",
    "\n",
    "(Problema 1: el campo retweeted_status devuelve el tweet original, no el tweet que se retweeteo. Es decir que si se trata de un RT de un RT, la relación retweeted_status ignora los intermedios y señala el tweet original.)"
   ]
  },
  {
   "cell_type": "code",
   "execution_count": 7,
   "metadata": {
    "scrolled": false
   },
   "outputs": [
    {
     "name": "stdout",
     "output_type": "stream",
     "text": [
      "(25455, 25455, 26851)\n",
      "CPU times: user 530 ms, sys: 4.01 ms, total: 534 ms\n",
      "Wall time: 550 ms\n"
     ]
    }
   ],
   "source": [
    "%%time\n",
    "# df.id_str tiene tweets originales de nuestros usuarios, por haber levantado timelines.\n",
    "\n",
    "# estas tres cuentas dan cosas raras!!! (mirar la cantidad tmb, parecida a la cantidad de tweets-no-rt)\n",
    "a = df.retweeted_status__id_str.isin(df.id_str).sum(), \\\n",
    "df.retweeted_status__id_str.isin(df_not_rt(df).id_str).sum(), \\\n",
    "df.retweeted_status__user__id_str.isin(df.user__id_str).sum()\n",
    "print(a)\n",
    "\n",
    "# df[~ df.retweeted_status__id_str.isin(df_not_rt().id_str) & \\\n",
    "#    df.retweeted_status__user__id_str.isin(df.user__id_str)]"
   ]
  },
  {
   "cell_type": "code",
   "execution_count": 8,
   "metadata": {
    "scrolled": true
   },
   "outputs": [
    {
     "data": {
      "text/html": [
       "<div>\n",
       "<style scoped>\n",
       "    .dataframe tbody tr th:only-of-type {\n",
       "        vertical-align: middle;\n",
       "    }\n",
       "\n",
       "    .dataframe tbody tr th {\n",
       "        vertical-align: top;\n",
       "    }\n",
       "\n",
       "    .dataframe thead th {\n",
       "        text-align: right;\n",
       "    }\n",
       "</style>\n",
       "<table border=\"1\" class=\"dataframe\">\n",
       "  <thead>\n",
       "    <tr style=\"text-align: right;\">\n",
       "      <th></th>\n",
       "      <th>created_at</th>\n",
       "      <th>user__id_str</th>\n",
       "      <th>id_str</th>\n",
       "      <th>text</th>\n",
       "      <th>retweeted_status__id_str</th>\n",
       "      <th>retweeted_status__user__id_str</th>\n",
       "      <th>retweeted_status__created_at</th>\n",
       "      <th>retweet_count</th>\n",
       "      <th>quoted_status_id_str</th>\n",
       "    </tr>\n",
       "  </thead>\n",
       "  <tbody>\n",
       "    <tr>\n",
       "      <th>21911</th>\n",
       "      <td>2018-10-28 23:57:00</td>\n",
       "      <td>69416519</td>\n",
       "      <td>1056696363952431105</td>\n",
       "      <td>Guillermo analiza cambiar un delantero y el es...</td>\n",
       "      <td>NaN</td>\n",
       "      <td>NaN</td>\n",
       "      <td>NaT</td>\n",
       "      <td>0</td>\n",
       "      <td>NaN</td>\n",
       "    </tr>\n",
       "    <tr>\n",
       "      <th>21912</th>\n",
       "      <td>2018-10-28 23:55:00</td>\n",
       "      <td>69416519</td>\n",
       "      <td>1056695861164556289</td>\n",
       "      <td>La historia de \"El Paisa\": de custodio de un r...</td>\n",
       "      <td>NaN</td>\n",
       "      <td>NaN</td>\n",
       "      <td>NaT</td>\n",
       "      <td>3</td>\n",
       "      <td>NaN</td>\n",
       "    </tr>\n",
       "    <tr>\n",
       "      <th>21913</th>\n",
       "      <td>2018-10-28 23:53:36</td>\n",
       "      <td>69416519</td>\n",
       "      <td>1056695510004916225</td>\n",
       "      <td>IBM compró la desarrolladora de software de có...</td>\n",
       "      <td>NaN</td>\n",
       "      <td>NaN</td>\n",
       "      <td>NaT</td>\n",
       "      <td>9</td>\n",
       "      <td>NaN</td>\n",
       "    </tr>\n",
       "    <tr>\n",
       "      <th>21914</th>\n",
       "      <td>2018-10-28 23:50:00</td>\n",
       "      <td>69416519</td>\n",
       "      <td>1056694604337078272</td>\n",
       "      <td>Martín Lousteau inauguró una muestra sobre Raú...</td>\n",
       "      <td>NaN</td>\n",
       "      <td>NaN</td>\n",
       "      <td>NaT</td>\n",
       "      <td>2</td>\n",
       "      <td>NaN</td>\n",
       "    </tr>\n",
       "    <tr>\n",
       "      <th>21915</th>\n",
       "      <td>2018-10-28 23:45:00</td>\n",
       "      <td>69416519</td>\n",
       "      <td>1056693344221323264</td>\n",
       "      <td>La Villa Olímpica después de los Juegos: la il...</td>\n",
       "      <td>NaN</td>\n",
       "      <td>NaN</td>\n",
       "      <td>NaT</td>\n",
       "      <td>11</td>\n",
       "      <td>NaN</td>\n",
       "    </tr>\n",
       "    <tr>\n",
       "      <th>21916</th>\n",
       "      <td>2018-10-28 23:43:02</td>\n",
       "      <td>69416519</td>\n",
       "      <td>1056692851541766144</td>\n",
       "      <td>Jair Bolsonaro se impuso en segunda vuelta y e...</td>\n",
       "      <td>NaN</td>\n",
       "      <td>NaN</td>\n",
       "      <td>NaT</td>\n",
       "      <td>23</td>\n",
       "      <td>NaN</td>\n",
       "    </tr>\n",
       "    <tr>\n",
       "      <th>21917</th>\n",
       "      <td>2018-10-28 23:40:00</td>\n",
       "      <td>69416519</td>\n",
       "      <td>1056692086357946368</td>\n",
       "      <td>La nueva vida del Pastor Giménez, de líder esp...</td>\n",
       "      <td>NaN</td>\n",
       "      <td>NaN</td>\n",
       "      <td>NaT</td>\n",
       "      <td>1</td>\n",
       "      <td>NaN</td>\n",
       "    </tr>\n",
       "    <tr>\n",
       "      <th>21918</th>\n",
       "      <td>2018-10-28 23:35:00</td>\n",
       "      <td>69416519</td>\n",
       "      <td>1056690827685031936</td>\n",
       "      <td>Con un triplete de Luis Suárez, el Barcelona h...</td>\n",
       "      <td>NaN</td>\n",
       "      <td>NaN</td>\n",
       "      <td>NaT</td>\n",
       "      <td>5</td>\n",
       "      <td>NaN</td>\n",
       "    </tr>\n",
       "    <tr>\n",
       "      <th>21919</th>\n",
       "      <td>2018-10-28 23:30:00</td>\n",
       "      <td>69416519</td>\n",
       "      <td>1056689569175748608</td>\n",
       "      <td>La vida austera y el triste final de Ramón Val...</td>\n",
       "      <td>NaN</td>\n",
       "      <td>NaN</td>\n",
       "      <td>NaT</td>\n",
       "      <td>16</td>\n",
       "      <td>NaN</td>\n",
       "    </tr>\n",
       "    <tr>\n",
       "      <th>21920</th>\n",
       "      <td>2018-10-28 23:27:00</td>\n",
       "      <td>69416519</td>\n",
       "      <td>1056688814712852481</td>\n",
       "      <td>Qué se sabe y qué no de la tragedia que acabó ...</td>\n",
       "      <td>NaN</td>\n",
       "      <td>NaN</td>\n",
       "      <td>NaT</td>\n",
       "      <td>6</td>\n",
       "      <td>NaN</td>\n",
       "    </tr>\n",
       "    <tr>\n",
       "      <th>21921</th>\n",
       "      <td>2018-10-28 23:25:00</td>\n",
       "      <td>69416519</td>\n",
       "      <td>1056688311144607744</td>\n",
       "      <td>Exclusivo: el contenido de los pendrives que d...</td>\n",
       "      <td>NaN</td>\n",
       "      <td>NaN</td>\n",
       "      <td>NaT</td>\n",
       "      <td>30</td>\n",
       "      <td>NaN</td>\n",
       "    </tr>\n",
       "    <tr>\n",
       "      <th>21922</th>\n",
       "      <td>2018-10-28 23:20:00</td>\n",
       "      <td>69416519</td>\n",
       "      <td>1056687052887113729</td>\n",
       "      <td>Macri viajará a Bahía Blanca para la partida d...</td>\n",
       "      <td>NaN</td>\n",
       "      <td>NaN</td>\n",
       "      <td>NaT</td>\n",
       "      <td>5</td>\n",
       "      <td>NaN</td>\n",
       "    </tr>\n",
       "    <tr>\n",
       "      <th>21923</th>\n",
       "      <td>2018-10-28 23:15:00</td>\n",
       "      <td>69416519</td>\n",
       "      <td>1056685795237605376</td>\n",
       "      <td>#BrasilDecide Quienes fueron electos gobernado...</td>\n",
       "      <td>NaN</td>\n",
       "      <td>NaN</td>\n",
       "      <td>NaT</td>\n",
       "      <td>6</td>\n",
       "      <td>NaN</td>\n",
       "    </tr>\n",
       "    <tr>\n",
       "      <th>21924</th>\n",
       "      <td>2018-10-28 23:14:59</td>\n",
       "      <td>69416519</td>\n",
       "      <td>1056685790217019394</td>\n",
       "      <td>Mauricio Macri felicitó a Bolsonaro: \"Deseo qu...</td>\n",
       "      <td>NaN</td>\n",
       "      <td>NaN</td>\n",
       "      <td>NaT</td>\n",
       "      <td>17</td>\n",
       "      <td>NaN</td>\n",
       "    </tr>\n",
       "    <tr>\n",
       "      <th>21925</th>\n",
       "      <td>2018-10-28 23:11:03</td>\n",
       "      <td>69416519</td>\n",
       "      <td>1056684802198384643</td>\n",
       "      <td>Así estalló San Pablo al conocerse la victoria...</td>\n",
       "      <td>NaN</td>\n",
       "      <td>NaN</td>\n",
       "      <td>NaT</td>\n",
       "      <td>20</td>\n",
       "      <td>NaN</td>\n",
       "    </tr>\n",
       "    <tr>\n",
       "      <th>21926</th>\n",
       "      <td>2018-10-28 23:10:00</td>\n",
       "      <td>69416519</td>\n",
       "      <td>1056684536375865344</td>\n",
       "      <td>\"Quedate con ella porque no pasa la noche\": la...</td>\n",
       "      <td>NaN</td>\n",
       "      <td>NaN</td>\n",
       "      <td>NaT</td>\n",
       "      <td>4</td>\n",
       "      <td>NaN</td>\n",
       "    </tr>\n",
       "    <tr>\n",
       "      <th>21927</th>\n",
       "      <td>2018-10-28 23:07:27</td>\n",
       "      <td>69416519</td>\n",
       "      <td>1056683894358052865</td>\n",
       "      <td>Las primeras palabras del entrenador del Leice...</td>\n",
       "      <td>NaN</td>\n",
       "      <td>NaN</td>\n",
       "      <td>NaT</td>\n",
       "      <td>1</td>\n",
       "      <td>NaN</td>\n",
       "    </tr>\n",
       "    <tr>\n",
       "      <th>21928</th>\n",
       "      <td>2018-10-28 23:05:00</td>\n",
       "      <td>69416519</td>\n",
       "      <td>1056683278764253184</td>\n",
       "      <td>Encontraron un cuerpo en un arroyo en Tandil: ...</td>\n",
       "      <td>NaN</td>\n",
       "      <td>NaN</td>\n",
       "      <td>NaT</td>\n",
       "      <td>8</td>\n",
       "      <td>NaN</td>\n",
       "    </tr>\n",
       "    <tr>\n",
       "      <th>21929</th>\n",
       "      <td>2018-10-28 23:02:55</td>\n",
       "      <td>69416519</td>\n",
       "      <td>1056682752865636353</td>\n",
       "      <td>Jair Bolsonaro: \"Cumpliremos la misión de resc...</td>\n",
       "      <td>NaN</td>\n",
       "      <td>NaN</td>\n",
       "      <td>NaT</td>\n",
       "      <td>179</td>\n",
       "      <td>NaN</td>\n",
       "    </tr>\n",
       "    <tr>\n",
       "      <th>21930</th>\n",
       "      <td>2018-10-28 22:55:00</td>\n",
       "      <td>69416519</td>\n",
       "      <td>1056680761418493952</td>\n",
       "      <td>[OPINIÓN] El alegre camino hacia un Bolsonaro ...</td>\n",
       "      <td>NaN</td>\n",
       "      <td>NaN</td>\n",
       "      <td>NaT</td>\n",
       "      <td>7</td>\n",
       "      <td>NaN</td>\n",
       "    </tr>\n",
       "    <tr>\n",
       "      <th>21931</th>\n",
       "      <td>2018-10-28 22:50:01</td>\n",
       "      <td>69416519</td>\n",
       "      <td>1056679509649281024</td>\n",
       "      <td>Adrián Dárgelos, líder de Babasónicos: \"La gen...</td>\n",
       "      <td>NaN</td>\n",
       "      <td>NaN</td>\n",
       "      <td>NaT</td>\n",
       "      <td>6</td>\n",
       "      <td>NaN</td>\n",
       "    </tr>\n",
       "    <tr>\n",
       "      <th>21932</th>\n",
       "      <td>2018-10-28 22:48:51</td>\n",
       "      <td>69416519</td>\n",
       "      <td>1056679214785744896</td>\n",
       "      <td>Jair Bolsonaro: \"Cumpliremos la misión de resc...</td>\n",
       "      <td>NaN</td>\n",
       "      <td>NaN</td>\n",
       "      <td>NaT</td>\n",
       "      <td>6</td>\n",
       "      <td>NaN</td>\n",
       "    </tr>\n",
       "    <tr>\n",
       "      <th>21933</th>\n",
       "      <td>2018-10-28 22:45:00</td>\n",
       "      <td>69416519</td>\n",
       "      <td>1056678247096815616</td>\n",
       "      <td>Benjamín Vicuña y La China Suárez serán los pr...</td>\n",
       "      <td>NaN</td>\n",
       "      <td>NaN</td>\n",
       "      <td>NaT</td>\n",
       "      <td>1</td>\n",
       "      <td>NaN</td>\n",
       "    </tr>\n",
       "    <tr>\n",
       "      <th>21934</th>\n",
       "      <td>2018-10-28 22:44:12</td>\n",
       "      <td>69416519</td>\n",
       "      <td>1056678044977586177</td>\n",
       "      <td>AHORA | Habla en vivo Jair Bolsonaro https://t...</td>\n",
       "      <td>NaN</td>\n",
       "      <td>NaN</td>\n",
       "      <td>NaT</td>\n",
       "      <td>5</td>\n",
       "      <td>NaN</td>\n",
       "    </tr>\n",
       "    <tr>\n",
       "      <th>21935</th>\n",
       "      <td>2018-10-28 22:43:00</td>\n",
       "      <td>69416519</td>\n",
       "      <td>1056677741565763584</td>\n",
       "      <td>\"La Principesa\": lanzan una versión inclusiva ...</td>\n",
       "      <td>NaN</td>\n",
       "      <td>NaN</td>\n",
       "      <td>NaT</td>\n",
       "      <td>13</td>\n",
       "      <td>NaN</td>\n",
       "    </tr>\n",
       "    <tr>\n",
       "      <th>21936</th>\n",
       "      <td>2018-10-28 22:41:00</td>\n",
       "      <td>69416519</td>\n",
       "      <td>1056677238026919936</td>\n",
       "      <td>6 grandes dudas y desafíos que se abren con la...</td>\n",
       "      <td>NaN</td>\n",
       "      <td>NaN</td>\n",
       "      <td>NaT</td>\n",
       "      <td>5</td>\n",
       "      <td>NaN</td>\n",
       "    </tr>\n",
       "    <tr>\n",
       "      <th>21937</th>\n",
       "      <td>2018-10-28 22:40:00</td>\n",
       "      <td>69416519</td>\n",
       "      <td>1056676986301571072</td>\n",
       "      <td>Educación financiera a marzo: solo un 24% de l...</td>\n",
       "      <td>NaN</td>\n",
       "      <td>NaN</td>\n",
       "      <td>NaT</td>\n",
       "      <td>3</td>\n",
       "      <td>NaN</td>\n",
       "    </tr>\n",
       "    <tr>\n",
       "      <th>21938</th>\n",
       "      <td>2018-10-28 22:37:00</td>\n",
       "      <td>69416519</td>\n",
       "      <td>1056676231532371969</td>\n",
       "      <td>El mensaje de Lionel Messi para el Barcelona y...</td>\n",
       "      <td>NaN</td>\n",
       "      <td>NaN</td>\n",
       "      <td>NaT</td>\n",
       "      <td>3</td>\n",
       "      <td>NaN</td>\n",
       "    </tr>\n",
       "    <tr>\n",
       "      <th>21939</th>\n",
       "      <td>2018-10-28 22:35:00</td>\n",
       "      <td>69416519</td>\n",
       "      <td>1056675728656424960</td>\n",
       "      <td>El millonario británico que lleva 32 años pres...</td>\n",
       "      <td>NaN</td>\n",
       "      <td>NaN</td>\n",
       "      <td>NaT</td>\n",
       "      <td>5</td>\n",
       "      <td>NaN</td>\n",
       "    </tr>\n",
       "    <tr>\n",
       "      <th>21940</th>\n",
       "      <td>2018-10-28 22:34:27</td>\n",
       "      <td>69416519</td>\n",
       "      <td>1056675589040599040</td>\n",
       "      <td>Quién es Vichai Srivaddhanaprabha, el dueño de...</td>\n",
       "      <td>NaN</td>\n",
       "      <td>NaN</td>\n",
       "      <td>NaT</td>\n",
       "      <td>7</td>\n",
       "      <td>NaN</td>\n",
       "    </tr>\n",
       "    <tr>\n",
       "      <th>...</th>\n",
       "      <td>...</td>\n",
       "      <td>...</td>\n",
       "      <td>...</td>\n",
       "      <td>...</td>\n",
       "      <td>...</td>\n",
       "      <td>...</td>\n",
       "      <td>...</td>\n",
       "      <td>...</td>\n",
       "      <td>...</td>\n",
       "    </tr>\n",
       "    <tr>\n",
       "      <th>363007</th>\n",
       "      <td>2018-11-04 00:50:12</td>\n",
       "      <td>69416519</td>\n",
       "      <td>1058884080551559168</td>\n",
       "      <td>RT @InfobaeDeportes: #Superliga Gol de Boca. L...</td>\n",
       "      <td>1058884046154014723</td>\n",
       "      <td>181250955</td>\n",
       "      <td>2018-11-04 00:50:04</td>\n",
       "      <td>7</td>\n",
       "      <td>NaN</td>\n",
       "    </tr>\n",
       "    <tr>\n",
       "      <th>363008</th>\n",
       "      <td>2018-11-04 00:50:00</td>\n",
       "      <td>69416519</td>\n",
       "      <td>1058884029108211712</td>\n",
       "      <td>Mauricio Macri y Theresa May se reunirán a sol...</td>\n",
       "      <td>NaN</td>\n",
       "      <td>NaN</td>\n",
       "      <td>NaT</td>\n",
       "      <td>2</td>\n",
       "      <td>NaN</td>\n",
       "    </tr>\n",
       "    <tr>\n",
       "      <th>363009</th>\n",
       "      <td>2018-11-04 00:48:00</td>\n",
       "      <td>69416519</td>\n",
       "      <td>1058883525766574080</td>\n",
       "      <td>Bernardo Neustadt: los secretos, la furia y la...</td>\n",
       "      <td>NaN</td>\n",
       "      <td>NaN</td>\n",
       "      <td>NaT</td>\n",
       "      <td>3</td>\n",
       "      <td>NaN</td>\n",
       "    </tr>\n",
       "    <tr>\n",
       "      <th>363010</th>\n",
       "      <td>2018-11-04 00:46:00</td>\n",
       "      <td>69416519</td>\n",
       "      <td>1058883022257188864</td>\n",
       "      <td>Instagram, en la cocina: las cuentas \"foodie\" ...</td>\n",
       "      <td>NaN</td>\n",
       "      <td>NaN</td>\n",
       "      <td>NaT</td>\n",
       "      <td>3</td>\n",
       "      <td>NaN</td>\n",
       "    </tr>\n",
       "    <tr>\n",
       "      <th>363011</th>\n",
       "      <td>2018-11-04 00:45:00</td>\n",
       "      <td>69416519</td>\n",
       "      <td>1058882771152785408</td>\n",
       "      <td>Era barrabrava y ladrón: tres balazos, una sil...</td>\n",
       "      <td>NaN</td>\n",
       "      <td>NaN</td>\n",
       "      <td>NaT</td>\n",
       "      <td>11</td>\n",
       "      <td>NaN</td>\n",
       "    </tr>\n",
       "    <tr>\n",
       "      <th>363012</th>\n",
       "      <td>2018-11-04 00:41:00</td>\n",
       "      <td>69416519</td>\n",
       "      <td>1058881764880498688</td>\n",
       "      <td>Donald Trump encontró una herramienta financie...</td>\n",
       "      <td>NaN</td>\n",
       "      <td>NaN</td>\n",
       "      <td>NaT</td>\n",
       "      <td>8</td>\n",
       "      <td>NaN</td>\n",
       "    </tr>\n",
       "    <tr>\n",
       "      <th>363013</th>\n",
       "      <td>2018-11-04 00:39:40</td>\n",
       "      <td>69416519</td>\n",
       "      <td>1058881427620724736</td>\n",
       "      <td>RT @InfobaeDeportes: #Superliga En 30 minutos ...</td>\n",
       "      <td>1058881379465904129</td>\n",
       "      <td>181250955</td>\n",
       "      <td>2018-11-04 00:39:28</td>\n",
       "      <td>2</td>\n",
       "      <td>NaN</td>\n",
       "    </tr>\n",
       "    <tr>\n",
       "      <th>363014</th>\n",
       "      <td>2018-11-04 00:37:00</td>\n",
       "      <td>69416519</td>\n",
       "      <td>1058880757903560704</td>\n",
       "      <td>Cómo unos perfiles generados por computadora s...</td>\n",
       "      <td>NaN</td>\n",
       "      <td>NaN</td>\n",
       "      <td>NaT</td>\n",
       "      <td>1</td>\n",
       "      <td>NaN</td>\n",
       "    </tr>\n",
       "    <tr>\n",
       "      <th>363015</th>\n",
       "      <td>2018-11-04 00:35:16</td>\n",
       "      <td>69416519</td>\n",
       "      <td>1058880321691754497</td>\n",
       "      <td>RT @InfobaeDeportes: #Superliga Gol de Boca. L...</td>\n",
       "      <td>1058880289286619137</td>\n",
       "      <td>181250955</td>\n",
       "      <td>2018-11-04 00:35:08</td>\n",
       "      <td>2</td>\n",
       "      <td>NaN</td>\n",
       "    </tr>\n",
       "    <tr>\n",
       "      <th>363016</th>\n",
       "      <td>2018-11-04 00:35:00</td>\n",
       "      <td>69416519</td>\n",
       "      <td>1058880254708772864</td>\n",
       "      <td>La nafta subió 10% en dólares y Argentina se m...</td>\n",
       "      <td>NaN</td>\n",
       "      <td>NaN</td>\n",
       "      <td>NaT</td>\n",
       "      <td>4</td>\n",
       "      <td>NaN</td>\n",
       "    </tr>\n",
       "    <tr>\n",
       "      <th>363017</th>\n",
       "      <td>2018-11-04 00:33:43</td>\n",
       "      <td>69416519</td>\n",
       "      <td>1058879931927674880</td>\n",
       "      <td>Así fue el conmovedor minuto de silencio del L...</td>\n",
       "      <td>NaN</td>\n",
       "      <td>NaN</td>\n",
       "      <td>NaT</td>\n",
       "      <td>0</td>\n",
       "      <td>NaN</td>\n",
       "    </tr>\n",
       "    <tr>\n",
       "      <th>363018</th>\n",
       "      <td>2018-11-04 00:32:00</td>\n",
       "      <td>69416519</td>\n",
       "      <td>1058879499683745794</td>\n",
       "      <td>Vinos, playas y parques temáticos: tres recorr...</td>\n",
       "      <td>NaN</td>\n",
       "      <td>NaN</td>\n",
       "      <td>NaT</td>\n",
       "      <td>1</td>\n",
       "      <td>NaN</td>\n",
       "    </tr>\n",
       "    <tr>\n",
       "      <th>363019</th>\n",
       "      <td>2018-11-04 00:31:56</td>\n",
       "      <td>69416519</td>\n",
       "      <td>1058879484236054531</td>\n",
       "      <td>RT @InfobaeDeportes: #Superliga Gol de Boca. L...</td>\n",
       "      <td>1058879444520181760</td>\n",
       "      <td>181250955</td>\n",
       "      <td>2018-11-04 00:31:47</td>\n",
       "      <td>1</td>\n",
       "      <td>NaN</td>\n",
       "    </tr>\n",
       "    <tr>\n",
       "      <th>363020</th>\n",
       "      <td>2018-11-04 00:31:00</td>\n",
       "      <td>69416519</td>\n",
       "      <td>1058879247576494080</td>\n",
       "      <td>Entrevista exclusiva con Debbie Harry, de Blon...</td>\n",
       "      <td>NaN</td>\n",
       "      <td>NaN</td>\n",
       "      <td>NaT</td>\n",
       "      <td>1</td>\n",
       "      <td>NaN</td>\n",
       "    </tr>\n",
       "    <tr>\n",
       "      <th>363021</th>\n",
       "      <td>2018-11-04 00:30:00</td>\n",
       "      <td>69416519</td>\n",
       "      <td>1058878996006473728</td>\n",
       "      <td>Graciela Camaño: \"El peronismo está explotado ...</td>\n",
       "      <td>NaN</td>\n",
       "      <td>NaN</td>\n",
       "      <td>NaT</td>\n",
       "      <td>2</td>\n",
       "      <td>NaN</td>\n",
       "    </tr>\n",
       "    <tr>\n",
       "      <th>363022</th>\n",
       "      <td>2018-11-04 00:28:00</td>\n",
       "      <td>69416519</td>\n",
       "      <td>1058878492610347008</td>\n",
       "      <td>El príncipe Carlos cumple 70 años: una vida gr...</td>\n",
       "      <td>NaN</td>\n",
       "      <td>NaN</td>\n",
       "      <td>NaT</td>\n",
       "      <td>1</td>\n",
       "      <td>NaN</td>\n",
       "    </tr>\n",
       "    <tr>\n",
       "      <th>363023</th>\n",
       "      <td>2018-11-04 00:27:00</td>\n",
       "      <td>69416519</td>\n",
       "      <td>1058878240918462464</td>\n",
       "      <td>Experta de Harvard en Programas de Participaci...</td>\n",
       "      <td>NaN</td>\n",
       "      <td>NaN</td>\n",
       "      <td>NaT</td>\n",
       "      <td>0</td>\n",
       "      <td>NaN</td>\n",
       "    </tr>\n",
       "    <tr>\n",
       "      <th>363024</th>\n",
       "      <td>2018-11-04 00:25:00</td>\n",
       "      <td>69416519</td>\n",
       "      <td>1058877737715154945</td>\n",
       "      <td>Cómo el ELN y otros grupos criminales colombia...</td>\n",
       "      <td>NaN</td>\n",
       "      <td>NaN</td>\n",
       "      <td>NaT</td>\n",
       "      <td>2</td>\n",
       "      <td>NaN</td>\n",
       "    </tr>\n",
       "    <tr>\n",
       "      <th>363025</th>\n",
       "      <td>2018-11-04 00:22:34</td>\n",
       "      <td>69416519</td>\n",
       "      <td>1058877125715988480</td>\n",
       "      <td>RT @InfobaeDeportes: #Superliga En 15 minutos ...</td>\n",
       "      <td>1058877067645931521</td>\n",
       "      <td>181250955</td>\n",
       "      <td>2018-11-04 00:22:20</td>\n",
       "      <td>1</td>\n",
       "      <td>NaN</td>\n",
       "    </tr>\n",
       "    <tr>\n",
       "      <th>363026</th>\n",
       "      <td>2018-11-04 00:21:00</td>\n",
       "      <td>69416519</td>\n",
       "      <td>1058876731061403648</td>\n",
       "      <td>Su tía fue la anfitriona de una fiesta nazi en...</td>\n",
       "      <td>NaN</td>\n",
       "      <td>NaN</td>\n",
       "      <td>NaT</td>\n",
       "      <td>6</td>\n",
       "      <td>NaN</td>\n",
       "    </tr>\n",
       "    <tr>\n",
       "      <th>363027</th>\n",
       "      <td>2018-11-04 00:19:00</td>\n",
       "      <td>69416519</td>\n",
       "      <td>1058876227874942977</td>\n",
       "      <td>Convocan a pilotos privados de drones para col...</td>\n",
       "      <td>NaN</td>\n",
       "      <td>NaN</td>\n",
       "      <td>NaT</td>\n",
       "      <td>1</td>\n",
       "      <td>NaN</td>\n",
       "    </tr>\n",
       "    <tr>\n",
       "      <th>363028</th>\n",
       "      <td>2018-11-04 00:15:00</td>\n",
       "      <td>69416519</td>\n",
       "      <td>1058875221120184321</td>\n",
       "      <td>Los detalles de la sanción a Marcelo Gallardo,...</td>\n",
       "      <td>NaN</td>\n",
       "      <td>NaN</td>\n",
       "      <td>NaT</td>\n",
       "      <td>2</td>\n",
       "      <td>NaN</td>\n",
       "    </tr>\n",
       "    <tr>\n",
       "      <th>363029</th>\n",
       "      <td>2018-11-04 00:11:00</td>\n",
       "      <td>69416519</td>\n",
       "      <td>1058874214352973824</td>\n",
       "      <td>Juli Minoves, presidente de la Internacional L...</td>\n",
       "      <td>NaN</td>\n",
       "      <td>NaN</td>\n",
       "      <td>NaT</td>\n",
       "      <td>18</td>\n",
       "      <td>NaN</td>\n",
       "    </tr>\n",
       "    <tr>\n",
       "      <th>363030</th>\n",
       "      <td>2018-11-04 00:08:22</td>\n",
       "      <td>69416519</td>\n",
       "      <td>1058873553792196608</td>\n",
       "      <td>RT @InfobaeDeportes: #Superliga Comenzó el seg...</td>\n",
       "      <td>1058873507734609920</td>\n",
       "      <td>181250955</td>\n",
       "      <td>2018-11-04 00:08:11</td>\n",
       "      <td>1</td>\n",
       "      <td>NaN</td>\n",
       "    </tr>\n",
       "    <tr>\n",
       "      <th>363031</th>\n",
       "      <td>2018-11-04 00:07:01</td>\n",
       "      <td>69416519</td>\n",
       "      <td>1058873212157624320</td>\n",
       "      <td>Mariano Mayer: \"La prioridad hasta fin de año ...</td>\n",
       "      <td>NaN</td>\n",
       "      <td>NaN</td>\n",
       "      <td>NaT</td>\n",
       "      <td>0</td>\n",
       "      <td>NaN</td>\n",
       "    </tr>\n",
       "    <tr>\n",
       "      <th>363032</th>\n",
       "      <td>2018-11-04 00:05:00</td>\n",
       "      <td>69416519</td>\n",
       "      <td>1058872704575537152</td>\n",
       "      <td>El regreso de los otros combatientes de Siria ...</td>\n",
       "      <td>NaN</td>\n",
       "      <td>NaN</td>\n",
       "      <td>NaT</td>\n",
       "      <td>0</td>\n",
       "      <td>NaN</td>\n",
       "    </tr>\n",
       "    <tr>\n",
       "      <th>363033</th>\n",
       "      <td>2018-11-04 00:04:00</td>\n",
       "      <td>69416519</td>\n",
       "      <td>1058872453194084352</td>\n",
       "      <td>Quiénes serán los invitados de Mirtha Legrand ...</td>\n",
       "      <td>NaN</td>\n",
       "      <td>NaN</td>\n",
       "      <td>NaT</td>\n",
       "      <td>0</td>\n",
       "      <td>NaN</td>\n",
       "    </tr>\n",
       "    <tr>\n",
       "      <th>363034</th>\n",
       "      <td>2018-11-04 00:03:01</td>\n",
       "      <td>69416519</td>\n",
       "      <td>1058872206246248448</td>\n",
       "      <td>El día de Marcelo Tinelli en Bolívar: recorrió...</td>\n",
       "      <td>NaN</td>\n",
       "      <td>NaN</td>\n",
       "      <td>NaT</td>\n",
       "      <td>0</td>\n",
       "      <td>NaN</td>\n",
       "    </tr>\n",
       "    <tr>\n",
       "      <th>363035</th>\n",
       "      <td>2018-11-04 00:01:00</td>\n",
       "      <td>69416519</td>\n",
       "      <td>1058871698211123201</td>\n",
       "      <td>Ronnie Arias: \"Los Martín Fierro a la radio lo...</td>\n",
       "      <td>NaN</td>\n",
       "      <td>NaN</td>\n",
       "      <td>NaT</td>\n",
       "      <td>0</td>\n",
       "      <td>NaN</td>\n",
       "    </tr>\n",
       "    <tr>\n",
       "      <th>363036</th>\n",
       "      <td>2018-11-04 00:00:00</td>\n",
       "      <td>69416519</td>\n",
       "      <td>1058871448402423808</td>\n",
       "      <td>Moderna de Pueblo, la escritora española que e...</td>\n",
       "      <td>NaN</td>\n",
       "      <td>NaN</td>\n",
       "      <td>NaT</td>\n",
       "      <td>1</td>\n",
       "      <td>NaN</td>\n",
       "    </tr>\n",
       "  </tbody>\n",
       "</table>\n",
       "<p>2890 rows × 9 columns</p>\n",
       "</div>"
      ],
      "text/plain": [
       "                created_at user__id_str               id_str  \\\n",
       "21911  2018-10-28 23:57:00     69416519  1056696363952431105   \n",
       "21912  2018-10-28 23:55:00     69416519  1056695861164556289   \n",
       "21913  2018-10-28 23:53:36     69416519  1056695510004916225   \n",
       "21914  2018-10-28 23:50:00     69416519  1056694604337078272   \n",
       "21915  2018-10-28 23:45:00     69416519  1056693344221323264   \n",
       "21916  2018-10-28 23:43:02     69416519  1056692851541766144   \n",
       "21917  2018-10-28 23:40:00     69416519  1056692086357946368   \n",
       "21918  2018-10-28 23:35:00     69416519  1056690827685031936   \n",
       "21919  2018-10-28 23:30:00     69416519  1056689569175748608   \n",
       "21920  2018-10-28 23:27:00     69416519  1056688814712852481   \n",
       "21921  2018-10-28 23:25:00     69416519  1056688311144607744   \n",
       "21922  2018-10-28 23:20:00     69416519  1056687052887113729   \n",
       "21923  2018-10-28 23:15:00     69416519  1056685795237605376   \n",
       "21924  2018-10-28 23:14:59     69416519  1056685790217019394   \n",
       "21925  2018-10-28 23:11:03     69416519  1056684802198384643   \n",
       "21926  2018-10-28 23:10:00     69416519  1056684536375865344   \n",
       "21927  2018-10-28 23:07:27     69416519  1056683894358052865   \n",
       "21928  2018-10-28 23:05:00     69416519  1056683278764253184   \n",
       "21929  2018-10-28 23:02:55     69416519  1056682752865636353   \n",
       "21930  2018-10-28 22:55:00     69416519  1056680761418493952   \n",
       "21931  2018-10-28 22:50:01     69416519  1056679509649281024   \n",
       "21932  2018-10-28 22:48:51     69416519  1056679214785744896   \n",
       "21933  2018-10-28 22:45:00     69416519  1056678247096815616   \n",
       "21934  2018-10-28 22:44:12     69416519  1056678044977586177   \n",
       "21935  2018-10-28 22:43:00     69416519  1056677741565763584   \n",
       "21936  2018-10-28 22:41:00     69416519  1056677238026919936   \n",
       "21937  2018-10-28 22:40:00     69416519  1056676986301571072   \n",
       "21938  2018-10-28 22:37:00     69416519  1056676231532371969   \n",
       "21939  2018-10-28 22:35:00     69416519  1056675728656424960   \n",
       "21940  2018-10-28 22:34:27     69416519  1056675589040599040   \n",
       "...                    ...          ...                  ...   \n",
       "363007 2018-11-04 00:50:12     69416519  1058884080551559168   \n",
       "363008 2018-11-04 00:50:00     69416519  1058884029108211712   \n",
       "363009 2018-11-04 00:48:00     69416519  1058883525766574080   \n",
       "363010 2018-11-04 00:46:00     69416519  1058883022257188864   \n",
       "363011 2018-11-04 00:45:00     69416519  1058882771152785408   \n",
       "363012 2018-11-04 00:41:00     69416519  1058881764880498688   \n",
       "363013 2018-11-04 00:39:40     69416519  1058881427620724736   \n",
       "363014 2018-11-04 00:37:00     69416519  1058880757903560704   \n",
       "363015 2018-11-04 00:35:16     69416519  1058880321691754497   \n",
       "363016 2018-11-04 00:35:00     69416519  1058880254708772864   \n",
       "363017 2018-11-04 00:33:43     69416519  1058879931927674880   \n",
       "363018 2018-11-04 00:32:00     69416519  1058879499683745794   \n",
       "363019 2018-11-04 00:31:56     69416519  1058879484236054531   \n",
       "363020 2018-11-04 00:31:00     69416519  1058879247576494080   \n",
       "363021 2018-11-04 00:30:00     69416519  1058878996006473728   \n",
       "363022 2018-11-04 00:28:00     69416519  1058878492610347008   \n",
       "363023 2018-11-04 00:27:00     69416519  1058878240918462464   \n",
       "363024 2018-11-04 00:25:00     69416519  1058877737715154945   \n",
       "363025 2018-11-04 00:22:34     69416519  1058877125715988480   \n",
       "363026 2018-11-04 00:21:00     69416519  1058876731061403648   \n",
       "363027 2018-11-04 00:19:00     69416519  1058876227874942977   \n",
       "363028 2018-11-04 00:15:00     69416519  1058875221120184321   \n",
       "363029 2018-11-04 00:11:00     69416519  1058874214352973824   \n",
       "363030 2018-11-04 00:08:22     69416519  1058873553792196608   \n",
       "363031 2018-11-04 00:07:01     69416519  1058873212157624320   \n",
       "363032 2018-11-04 00:05:00     69416519  1058872704575537152   \n",
       "363033 2018-11-04 00:04:00     69416519  1058872453194084352   \n",
       "363034 2018-11-04 00:03:01     69416519  1058872206246248448   \n",
       "363035 2018-11-04 00:01:00     69416519  1058871698211123201   \n",
       "363036 2018-11-04 00:00:00     69416519  1058871448402423808   \n",
       "\n",
       "                                                     text  \\\n",
       "21911   Guillermo analiza cambiar un delantero y el es...   \n",
       "21912   La historia de \"El Paisa\": de custodio de un r...   \n",
       "21913   IBM compró la desarrolladora de software de có...   \n",
       "21914   Martín Lousteau inauguró una muestra sobre Raú...   \n",
       "21915   La Villa Olímpica después de los Juegos: la il...   \n",
       "21916   Jair Bolsonaro se impuso en segunda vuelta y e...   \n",
       "21917   La nueva vida del Pastor Giménez, de líder esp...   \n",
       "21918   Con un triplete de Luis Suárez, el Barcelona h...   \n",
       "21919   La vida austera y el triste final de Ramón Val...   \n",
       "21920   Qué se sabe y qué no de la tragedia que acabó ...   \n",
       "21921   Exclusivo: el contenido de los pendrives que d...   \n",
       "21922   Macri viajará a Bahía Blanca para la partida d...   \n",
       "21923   #BrasilDecide Quienes fueron electos gobernado...   \n",
       "21924   Mauricio Macri felicitó a Bolsonaro: \"Deseo qu...   \n",
       "21925   Así estalló San Pablo al conocerse la victoria...   \n",
       "21926   \"Quedate con ella porque no pasa la noche\": la...   \n",
       "21927   Las primeras palabras del entrenador del Leice...   \n",
       "21928   Encontraron un cuerpo en un arroyo en Tandil: ...   \n",
       "21929   Jair Bolsonaro: \"Cumpliremos la misión de resc...   \n",
       "21930   [OPINIÓN] El alegre camino hacia un Bolsonaro ...   \n",
       "21931   Adrián Dárgelos, líder de Babasónicos: \"La gen...   \n",
       "21932   Jair Bolsonaro: \"Cumpliremos la misión de resc...   \n",
       "21933   Benjamín Vicuña y La China Suárez serán los pr...   \n",
       "21934   AHORA | Habla en vivo Jair Bolsonaro https://t...   \n",
       "21935   \"La Principesa\": lanzan una versión inclusiva ...   \n",
       "21936   6 grandes dudas y desafíos que se abren con la...   \n",
       "21937   Educación financiera a marzo: solo un 24% de l...   \n",
       "21938   El mensaje de Lionel Messi para el Barcelona y...   \n",
       "21939   El millonario británico que lleva 32 años pres...   \n",
       "21940   Quién es Vichai Srivaddhanaprabha, el dueño de...   \n",
       "...                                                   ...   \n",
       "363007  RT @InfobaeDeportes: #Superliga Gol de Boca. L...   \n",
       "363008  Mauricio Macri y Theresa May se reunirán a sol...   \n",
       "363009  Bernardo Neustadt: los secretos, la furia y la...   \n",
       "363010  Instagram, en la cocina: las cuentas \"foodie\" ...   \n",
       "363011  Era barrabrava y ladrón: tres balazos, una sil...   \n",
       "363012  Donald Trump encontró una herramienta financie...   \n",
       "363013  RT @InfobaeDeportes: #Superliga En 30 minutos ...   \n",
       "363014  Cómo unos perfiles generados por computadora s...   \n",
       "363015  RT @InfobaeDeportes: #Superliga Gol de Boca. L...   \n",
       "363016  La nafta subió 10% en dólares y Argentina se m...   \n",
       "363017  Así fue el conmovedor minuto de silencio del L...   \n",
       "363018  Vinos, playas y parques temáticos: tres recorr...   \n",
       "363019  RT @InfobaeDeportes: #Superliga Gol de Boca. L...   \n",
       "363020  Entrevista exclusiva con Debbie Harry, de Blon...   \n",
       "363021  Graciela Camaño: \"El peronismo está explotado ...   \n",
       "363022  El príncipe Carlos cumple 70 años: una vida gr...   \n",
       "363023  Experta de Harvard en Programas de Participaci...   \n",
       "363024  Cómo el ELN y otros grupos criminales colombia...   \n",
       "363025  RT @InfobaeDeportes: #Superliga En 15 minutos ...   \n",
       "363026  Su tía fue la anfitriona de una fiesta nazi en...   \n",
       "363027  Convocan a pilotos privados de drones para col...   \n",
       "363028  Los detalles de la sanción a Marcelo Gallardo,...   \n",
       "363029  Juli Minoves, presidente de la Internacional L...   \n",
       "363030  RT @InfobaeDeportes: #Superliga Comenzó el seg...   \n",
       "363031  Mariano Mayer: \"La prioridad hasta fin de año ...   \n",
       "363032  El regreso de los otros combatientes de Siria ...   \n",
       "363033  Quiénes serán los invitados de Mirtha Legrand ...   \n",
       "363034  El día de Marcelo Tinelli en Bolívar: recorrió...   \n",
       "363035  Ronnie Arias: \"Los Martín Fierro a la radio lo...   \n",
       "363036  Moderna de Pueblo, la escritora española que e...   \n",
       "\n",
       "       retweeted_status__id_str retweeted_status__user__id_str  \\\n",
       "21911                       NaN                            NaN   \n",
       "21912                       NaN                            NaN   \n",
       "21913                       NaN                            NaN   \n",
       "21914                       NaN                            NaN   \n",
       "21915                       NaN                            NaN   \n",
       "21916                       NaN                            NaN   \n",
       "21917                       NaN                            NaN   \n",
       "21918                       NaN                            NaN   \n",
       "21919                       NaN                            NaN   \n",
       "21920                       NaN                            NaN   \n",
       "21921                       NaN                            NaN   \n",
       "21922                       NaN                            NaN   \n",
       "21923                       NaN                            NaN   \n",
       "21924                       NaN                            NaN   \n",
       "21925                       NaN                            NaN   \n",
       "21926                       NaN                            NaN   \n",
       "21927                       NaN                            NaN   \n",
       "21928                       NaN                            NaN   \n",
       "21929                       NaN                            NaN   \n",
       "21930                       NaN                            NaN   \n",
       "21931                       NaN                            NaN   \n",
       "21932                       NaN                            NaN   \n",
       "21933                       NaN                            NaN   \n",
       "21934                       NaN                            NaN   \n",
       "21935                       NaN                            NaN   \n",
       "21936                       NaN                            NaN   \n",
       "21937                       NaN                            NaN   \n",
       "21938                       NaN                            NaN   \n",
       "21939                       NaN                            NaN   \n",
       "21940                       NaN                            NaN   \n",
       "...                         ...                            ...   \n",
       "363007      1058884046154014723                      181250955   \n",
       "363008                      NaN                            NaN   \n",
       "363009                      NaN                            NaN   \n",
       "363010                      NaN                            NaN   \n",
       "363011                      NaN                            NaN   \n",
       "363012                      NaN                            NaN   \n",
       "363013      1058881379465904129                      181250955   \n",
       "363014                      NaN                            NaN   \n",
       "363015      1058880289286619137                      181250955   \n",
       "363016                      NaN                            NaN   \n",
       "363017                      NaN                            NaN   \n",
       "363018                      NaN                            NaN   \n",
       "363019      1058879444520181760                      181250955   \n",
       "363020                      NaN                            NaN   \n",
       "363021                      NaN                            NaN   \n",
       "363022                      NaN                            NaN   \n",
       "363023                      NaN                            NaN   \n",
       "363024                      NaN                            NaN   \n",
       "363025      1058877067645931521                      181250955   \n",
       "363026                      NaN                            NaN   \n",
       "363027                      NaN                            NaN   \n",
       "363028                      NaN                            NaN   \n",
       "363029                      NaN                            NaN   \n",
       "363030      1058873507734609920                      181250955   \n",
       "363031                      NaN                            NaN   \n",
       "363032                      NaN                            NaN   \n",
       "363033                      NaN                            NaN   \n",
       "363034                      NaN                            NaN   \n",
       "363035                      NaN                            NaN   \n",
       "363036                      NaN                            NaN   \n",
       "\n",
       "       retweeted_status__created_at  retweet_count quoted_status_id_str  \n",
       "21911                           NaT              0                  NaN  \n",
       "21912                           NaT              3                  NaN  \n",
       "21913                           NaT              9                  NaN  \n",
       "21914                           NaT              2                  NaN  \n",
       "21915                           NaT             11                  NaN  \n",
       "21916                           NaT             23                  NaN  \n",
       "21917                           NaT              1                  NaN  \n",
       "21918                           NaT              5                  NaN  \n",
       "21919                           NaT             16                  NaN  \n",
       "21920                           NaT              6                  NaN  \n",
       "21921                           NaT             30                  NaN  \n",
       "21922                           NaT              5                  NaN  \n",
       "21923                           NaT              6                  NaN  \n",
       "21924                           NaT             17                  NaN  \n",
       "21925                           NaT             20                  NaN  \n",
       "21926                           NaT              4                  NaN  \n",
       "21927                           NaT              1                  NaN  \n",
       "21928                           NaT              8                  NaN  \n",
       "21929                           NaT            179                  NaN  \n",
       "21930                           NaT              7                  NaN  \n",
       "21931                           NaT              6                  NaN  \n",
       "21932                           NaT              6                  NaN  \n",
       "21933                           NaT              1                  NaN  \n",
       "21934                           NaT              5                  NaN  \n",
       "21935                           NaT             13                  NaN  \n",
       "21936                           NaT              5                  NaN  \n",
       "21937                           NaT              3                  NaN  \n",
       "21938                           NaT              3                  NaN  \n",
       "21939                           NaT              5                  NaN  \n",
       "21940                           NaT              7                  NaN  \n",
       "...                             ...            ...                  ...  \n",
       "363007          2018-11-04 00:50:04              7                  NaN  \n",
       "363008                          NaT              2                  NaN  \n",
       "363009                          NaT              3                  NaN  \n",
       "363010                          NaT              3                  NaN  \n",
       "363011                          NaT             11                  NaN  \n",
       "363012                          NaT              8                  NaN  \n",
       "363013          2018-11-04 00:39:28              2                  NaN  \n",
       "363014                          NaT              1                  NaN  \n",
       "363015          2018-11-04 00:35:08              2                  NaN  \n",
       "363016                          NaT              4                  NaN  \n",
       "363017                          NaT              0                  NaN  \n",
       "363018                          NaT              1                  NaN  \n",
       "363019          2018-11-04 00:31:47              1                  NaN  \n",
       "363020                          NaT              1                  NaN  \n",
       "363021                          NaT              2                  NaN  \n",
       "363022                          NaT              1                  NaN  \n",
       "363023                          NaT              0                  NaN  \n",
       "363024                          NaT              2                  NaN  \n",
       "363025          2018-11-04 00:22:20              1                  NaN  \n",
       "363026                          NaT              6                  NaN  \n",
       "363027                          NaT              1                  NaN  \n",
       "363028                          NaT              2                  NaN  \n",
       "363029                          NaT             18                  NaN  \n",
       "363030          2018-11-04 00:08:11              1                  NaN  \n",
       "363031                          NaT              0                  NaN  \n",
       "363032                          NaT              0                  NaN  \n",
       "363033                          NaT              0                  NaN  \n",
       "363034                          NaT              0                  NaN  \n",
       "363035                          NaT              0                  NaN  \n",
       "363036                          NaT              1                  NaN  \n",
       "\n",
       "[2890 rows x 9 columns]"
      ]
     },
     "execution_count": 8,
     "metadata": {},
     "output_type": "execute_result"
    }
   ],
   "source": [
    "df[df.user__id_str == str(69416519)]"
   ]
  },
  {
   "cell_type": "code",
   "execution_count": 9,
   "metadata": {},
   "outputs": [],
   "source": [
    "### PROTOTYPE-FILTERING\n",
    "def df_cut1(data_f):\n",
    "    # tweets originales, o RT que su tweet original está en el dataset.\n",
    "    return data_f[data_f.retweeted_status__id_str.isin(df.id_str) | data_f.retweeted_status__id_str.isna()] # df.id_str -> porque quiero todos mis usuarios!"
   ]
  },
  {
   "cell_type": "markdown",
   "metadata": {},
   "source": [
    "### 1 Proporciones de RT sobre tweets totales"
   ]
  },
  {
   "cell_type": "code",
   "execution_count": 10,
   "metadata": {
    "scrolled": false
   },
   "outputs": [],
   "source": [
    "def print_dataset_proportions(data_f):\n",
    "    cant_rt = df_only_rt(data_f).shape[0]\n",
    "    cant_orig = df_not_rt(data_f).shape[0]\n",
    "    cant_resp = df_commented(data_f).shape[0]\n",
    "    total = data_f.shape[0]\n",
    "    print('Cantidad de tweets originales: \\t\\t{}'.format(cant_orig))\n",
    "    print('Cantidad de RT en el Dataset: \\t\\t{}'.format(cant_rt))\n",
    "    print('Cantidad de respuestas a tweets: \\t{}'.format(cant_resp))\n",
    "    print('Total: \\t\\t\\t\\t\\t{}\\n'.format(total))\n",
    "    cants = pd.DataFrame({'cantidades': [cant_orig, cant_rt , cant_resp]},\n",
    "                         index=['originales', 'retweets', 'respuestas'])\n",
    "    ax = (cants/1000).plot.bar(y='cantidades', figsize=(5, 5), legend=[])\n",
    "    ax.set_title('Cantidades de tweets (miles)')\n",
    "\n",
    "    print('Proporcion de RT sobre total: \\t\\t\\t{}'.format(cant_rt / total))\n",
    "    print('Proporcion de Tweets originales sobre total: \\t{}'.format(cant_orig / total))\n",
    "    print('Proporcion de Tweets originales sobre total: \\t{}\\n'.format(cant_resp / total))\n",
    "\n",
    "    commented_and_retweeted = data_f[(data_f.quoted_status_id_str.notna()) & \\\n",
    "                                     (data_f.retweeted_status__id_str.notna())]\\\n",
    "                                    .shape[0]\n",
    "    commented_and_not_rt = data_f[(data_f.quoted_status_id_str.notna()) & \\\n",
    "                                  (data_f.retweeted_status__id_str.isna())] \\\n",
    "                                 .shape[0]\n",
    "    print('Cantidad tweets comentados y retweeteados: \\t{}'.format(commented_and_retweeted))\n",
    "    print('Cantidad tweets comentados y NO retweeteados: \\t{}'.format(commented_and_not_rt))\n",
    "    print('Intersecciones no vacías?????????? TODO: hacer pruebas de cuál es la diferencia!')"
   ]
  },
  {
   "cell_type": "markdown",
   "metadata": {},
   "source": [
    "### 1.0 Proporciones de RT sobre tweets totales (Global)"
   ]
  },
  {
   "cell_type": "code",
   "execution_count": 11,
   "metadata": {
    "scrolled": false
   },
   "outputs": [
    {
     "name": "stdout",
     "output_type": "stream",
     "text": [
      "Cantidad de tweets originales: \t\t267784\n",
      "Cantidad de RT en el Dataset: \t\t110711\n",
      "Cantidad de respuestas a tweets: \t30065\n",
      "Total: \t\t\t\t\t378495\n",
      "\n",
      "Proporcion de RT sobre total: \t\t\t0.2925032034769284\n",
      "Proporcion de Tweets originales sobre total: \t0.7074967965230716\n",
      "Proporcion de Tweets originales sobre total: \t0.07943301760921545\n",
      "\n",
      "Cantidad tweets comentados y retweeteados: \t10972\n",
      "Cantidad tweets comentados y NO retweeteados: \t19093\n",
      "Intersecciones no vacías?????????? TODO: hacer pruebas de cuál es la diferencia!\n",
      "CPU times: user 486 ms, sys: 3.95 ms, total: 490 ms\n",
      "Wall time: 571 ms\n"
     ]
    },
    {
     "data": {
      "image/png": "[encoded data removed]",
      "text/plain": [
       "<Figure size 360x360 with 1 Axes>"
      ]
     },
     "metadata": {
      "needs_background": "light"
     },
     "output_type": "display_data"
    }
   ],
   "source": [
    "%%time\n",
    "print_dataset_proportions(df)"
   ]
  },
  {
   "cell_type": "markdown",
   "metadata": {},
   "source": [
    "### 1.1 Proporciones de RT sobre tweets totales (Recorte 1)"
   ]
  },
  {
   "cell_type": "code",
   "execution_count": 12,
   "metadata": {},
   "outputs": [
    {
     "name": "stdout",
     "output_type": "stream",
     "text": [
      "Cantidad de tweets originales: \t\t267784\n",
      "Cantidad de RT en el Dataset: \t\t25455\n",
      "Cantidad de respuestas a tweets: \t22164\n",
      "Total: \t\t\t\t\t293239\n",
      "\n",
      "Proporcion de RT sobre total: \t\t\t0.08680632521595012\n",
      "Proporcion de Tweets originales sobre total: \t0.9131936747840499\n",
      "Proporcion de Tweets originales sobre total: \t0.07558339784271532\n",
      "\n",
      "Cantidad tweets comentados y retweeteados: \t3071\n",
      "Cantidad tweets comentados y NO retweeteados: \t19093\n",
      "Intersecciones no vacías?????????? TODO: hacer pruebas de cuál es la diferencia!\n",
      "CPU times: user 786 ms, sys: 59.9 ms, total: 845 ms\n",
      "Wall time: 851 ms\n"
     ]
    },
    {
     "data": {
      "image/png": "[encoded data removed]",
      "text/plain": [
       "<Figure size 360x360 with 1 Axes>"
      ]
     },
     "metadata": {
      "needs_background": "light"
     },
     "output_type": "display_data"
    }
   ],
   "source": [
    "%%time\n",
    "df_cutted = df_cut1(df)\n",
    "print_dataset_proportions(df_cutted)"
   ]
  },
  {
   "cell_type": "markdown",
   "metadata": {},
   "source": [
    "### 2 Promedio de conteos de retweets (usando retweet_count de la API de twitter)"
   ]
  },
  {
   "cell_type": "code",
   "execution_count": 13,
   "metadata": {},
   "outputs": [],
   "source": [
    "def print_global_retweet_counts(data_f):\n",
    "    avg_retweets_all = data_f.retweet_count.mean()\n",
    "    print('Promedio de retweet counts (todo el dataset): \\t\\t{}'.format(avg_retweets_all))\n",
    "\n",
    "    avg_retweets_nort = df_not_rt(data_f).retweet_count.mean()\n",
    "    print('Promedio de retweet counts (solo tweets originales): \\t{}'.format(avg_retweets_nort))\n",
    "\n",
    "    # as retweets may point to the same tweet, we drop duplicates keeping the most updated one (oldest)\n",
    "    avg_retweets_onlyrt =  df_only_rt(data_f).sort_values('created_at').drop_duplicates('retweeted_status__id_str', keep='last')\\\n",
    "        .retweet_count.mean()\n",
    "    print('Promedio de retweet counts (solo retweets): \\t\\t{}'.format(avg_retweets_onlyrt))"
   ]
  },
  {
   "cell_type": "markdown",
   "metadata": {},
   "source": [
    "### 2.0 Promedio de conteos de retweets (Global)"
   ]
  },
  {
   "cell_type": "code",
   "execution_count": 14,
   "metadata": {},
   "outputs": [
    {
     "name": "stdout",
     "output_type": "stream",
     "text": [
      "Promedio de retweet counts (todo el dataset): \t\t230.27960739243582\n",
      "Promedio de retweet counts (solo tweets originales): \t20.10311669106444\n",
      "Promedio de retweet counts (solo retweets): \t\t340.61649884960786\n",
      "CPU times: user 396 ms, sys: 4 ms, total: 400 ms\n",
      "Wall time: 476 ms\n"
     ]
    }
   ],
   "source": [
    "%%time\n",
    "print_global_retweet_counts(df)"
   ]
  },
  {
   "cell_type": "markdown",
   "metadata": {},
   "source": [
    "### 2.1 Promedio de conteos de retweets (Recorte 1)"
   ]
  },
  {
   "cell_type": "code",
   "execution_count": 15,
   "metadata": {},
   "outputs": [
    {
     "name": "stdout",
     "output_type": "stream",
     "text": [
      "Promedio de retweet counts (todo el dataset): \t\t43.183539706519255\n",
      "Promedio de retweet counts (solo tweets originales): \t20.10311669106444\n",
      "Promedio de retweet counts (solo retweets): \t\t127.1447774501063\n",
      "CPU times: user 571 ms, sys: 271 µs, total: 571 ms\n",
      "Wall time: 589 ms\n"
     ]
    }
   ],
   "source": [
    "%%time\n",
    "df_cutted = df_cut1(df)\n",
    "print_global_retweet_counts(df_cutted)"
   ]
  },
  {
   "cell_type": "markdown",
   "metadata": {},
   "source": [
    "# Recorte 2: tomar sólo usuarios para los que se trajo el máximo de tweets por fetch_timeline\n",
    "\n",
    "[Aquí](https://developer.twitter.com/en/docs/tweets/timelines/api-reference/get-statuses-user_timeline.html) se puede ver que 3,200 es el máximo de tweets que se puede traer. Se filtra entonces los usuarios para los cuales se extrajo esa cantidad de tweets.\n",
    "\n",
    "Se usará 'Recorte 2' para referirse a esa filtrado de tweets"
   ]
  },
  {
   "cell_type": "code",
   "execution_count": 16,
   "metadata": {},
   "outputs": [],
   "source": [
    "def df_cut2(data_f, max_tweets=3200):\n",
    "    _df_tweets_per_user = data_f.user__id_str.groupby(data_f.user__id_str).count()\n",
    "    data_f['tweets_on_dataset'] = _df_tweets_per_user[data_f.user__id_str.values].values\n",
    "    return data_f[data_f.tweets_on_dataset >= max_tweets]"
   ]
  },
  {
   "cell_type": "markdown",
   "metadata": {},
   "source": [
    "\n",
    "### 3 Ventanas de tiempo recogidas"
   ]
  },
  {
   "cell_type": "code",
   "execution_count": 17,
   "metadata": {},
   "outputs": [],
   "source": [
    "def print_time_windows(data_f):\n",
    "    print('Tweet más temprano en el tiempo: \\t{}'.format(data_f.created_at.min()))\n",
    "    print('Tweet más tardío en el tiempo: \\t\\t{}'.format(data_f.created_at.max()))\n",
    "\n",
    "    max_of_mins = data_f.created_at.groupby(data_f.user__id_str).min().max()\n",
    "    print('Menor fecha de tweet disponible para todos los usuarios: {}'.format(max_of_mins))"
   ]
  },
  {
   "cell_type": "markdown",
   "metadata": {},
   "source": [
    "### 3.0 Ventanas de tiempo recogidas (Global)"
   ]
  },
  {
   "cell_type": "code",
   "execution_count": 18,
   "metadata": {},
   "outputs": [
    {
     "name": "stdout",
     "output_type": "stream",
     "text": [
      "Tweet más temprano en el tiempo: \t2018-10-28 00:00:00\n",
      "Tweet más tardío en el tiempo: \t\t2018-11-04 23:59:56\n",
      "Menor fecha de tweet disponible para todos los usuarios: 2018-11-04 23:45:16\n",
      "CPU times: user 80 ms, sys: 0 ns, total: 80 ms\n",
      "Wall time: 82.1 ms\n"
     ]
    }
   ],
   "source": [
    "%%time\n",
    "print_time_windows(df)"
   ]
  },
  {
   "cell_type": "markdown",
   "metadata": {},
   "source": [
    "### 3.1 Ventanas de tiempo recogidas (Recorte 1)"
   ]
  },
  {
   "cell_type": "code",
   "execution_count": 19,
   "metadata": {
    "scrolled": false
   },
   "outputs": [
    {
     "name": "stdout",
     "output_type": "stream",
     "text": [
      "Tweet más temprano en el tiempo: \t2018-10-28 00:00:00\n",
      "Tweet más tardío en el tiempo: \t\t2018-11-04 23:59:55\n",
      "Menor fecha de tweet disponible para todos los usuarios: 2018-11-04 23:10:38\n",
      "CPU times: user 476 ms, sys: 15.9 ms, total: 492 ms\n",
      "Wall time: 527 ms\n"
     ]
    }
   ],
   "source": [
    "%%time\n",
    "df_cutted = df_cut1(df)\n",
    "print_time_windows(df_cutted)"
   ]
  },
  {
   "cell_type": "markdown",
   "metadata": {},
   "source": [
    "### 3.2 Ventanas de tiempo recogidas (Recorte 2)"
   ]
  },
  {
   "cell_type": "code",
   "execution_count": 20,
   "metadata": {
    "scrolled": false
   },
   "outputs": [
    {
     "name": "stdout",
     "output_type": "stream",
     "text": [
      "Tweet más temprano en el tiempo: \t2018-10-28 00:01:22\n",
      "Tweet más tardío en el tiempo: \t\t2018-11-04 23:57:40\n",
      "Menor fecha de tweet disponible para todos los usuarios: 2018-10-28 00:10:08\n",
      "CPU times: user 232 ms, sys: 8 ms, total: 240 ms\n",
      "Wall time: 291 ms\n"
     ]
    }
   ],
   "source": [
    "%%time\n",
    "df_cutted = df_cut2(df)\n",
    "print_time_windows(df_cutted)"
   ]
  },
  {
   "cell_type": "code",
   "execution_count": 21,
   "metadata": {},
   "outputs": [
    {
     "name": "stdout",
     "output_type": "stream",
     "text": [
      "Usuarios que tienen (igual) o más que el límite de tweets: 7578\n"
     ]
    }
   ],
   "source": [
    "############### ??????????????\n",
    "### 7578 usuarios que metieron mas de 3200 tweets en una semana?????\n",
    "users_on_tweet_limit = df_cutted.id_str.count()\n",
    "print('Usuarios que tienen (igual) o más que el límite de tweets: {}'.format(users_on_tweet_limit))"
   ]
  },
  {
   "cell_type": "markdown",
   "metadata": {},
   "source": [
    "### 4 Histograma de tweets y retweets por fecha"
   ]
  },
  {
   "cell_type": "code",
   "execution_count": 22,
   "metadata": {
    "scrolled": false
   },
   "outputs": [],
   "source": [
    "def plot_tweets_and_retweets_by_date(data_f):\n",
    "    fig, ax = plt.subplots(figsize=(10,5))\n",
    "    (data_f.created_at.groupby(data_f[\"created_at\"].dt.date).count()/1000).plot(kind=\"line\", ax=ax, rot=90, legend=True, label='Todos los tweets')\n",
    "    (data_f.created_at.groupby(df_only_rt(data_f)[\"created_at\"].dt.date).count()/1000).plot(kind=\"line\", ax=ax, rot=90, legend=True, label='Solo RT')\n",
    "    (data_f.created_at.groupby(df_commented(data_f)[\"created_at\"].dt.date).count()/1000).plot(kind=\"line\", ax=ax, rot=90, legend=True, label='Solo con commentarios')\n",
    "    ax.set_title('Histograma de tweets por fecha')\n",
    "    ax.set_ylabel('cantidad (miles)')\n",
    "    ax.set_xlabel('fecha')"
   ]
  },
  {
   "cell_type": "markdown",
   "metadata": {},
   "source": [
    "### 4.0 Histograma de tweets y retweets por fecha (Global)"
   ]
  },
  {
   "cell_type": "code",
   "execution_count": 23,
   "metadata": {},
   "outputs": [
    {
     "name": "stdout",
     "output_type": "stream",
     "text": [
      "CPU times: user 838 ms, sys: 16 ms, total: 854 ms\n",
      "Wall time: 920 ms\n"
     ]
    },
    {
     "data": {
      "image/png": "[encoded data removed]",
      "text/plain": [
       "<Figure size 720x360 with 1 Axes>"
      ]
     },
     "metadata": {
      "needs_background": "light"
     },
     "output_type": "display_data"
    }
   ],
   "source": [
    "%%time\n",
    "plot_tweets_and_retweets_by_date(df)"
   ]
  },
  {
   "cell_type": "markdown",
   "metadata": {},
   "source": [
    "### 4.1 Histograma de tweets y retweets por fecha (Recorte 1)"
   ]
  },
  {
   "cell_type": "code",
   "execution_count": 24,
   "metadata": {
    "scrolled": false
   },
   "outputs": [
    {
     "name": "stdout",
     "output_type": "stream",
     "text": [
      "CPU times: user 1.07 s, sys: 19.9 ms, total: 1.09 s\n",
      "Wall time: 1.12 s\n"
     ]
    },
    {
     "data": {
      "image/png": "[encoded data removed]",
      "text/plain": [
       "<Figure size 720x360 with 1 Axes>"
      ]
     },
     "metadata": {
      "needs_background": "light"
     },
     "output_type": "display_data"
    }
   ],
   "source": [
    "%%time\n",
    "df_cutted = df_cut1(df)\n",
    "plot_tweets_and_retweets_by_date(df_cutted)"
   ]
  },
  {
   "cell_type": "markdown",
   "metadata": {},
   "source": [
    "### 4.2 Histograma de tweets y retweets por fecha (Recorte 2)"
   ]
  },
  {
   "cell_type": "code",
   "execution_count": 25,
   "metadata": {
    "scrolled": false
   },
   "outputs": [
    {
     "name": "stdout",
     "output_type": "stream",
     "text": [
      "CPU times: user 665 ms, sys: 8.03 ms, total: 673 ms\n",
      "Wall time: 673 ms\n"
     ]
    },
    {
     "data": {
      "image/png": "[encoded data removed]",
      "text/plain": [
       "<Figure size 720x360 with 1 Axes>"
      ]
     },
     "metadata": {
      "needs_background": "light"
     },
     "output_type": "display_data"
    }
   ],
   "source": [
    "%%time\n",
    "df_cutted = df_cut2(df)\n",
    "plot_tweets_and_retweets_by_date(df)"
   ]
  },
  {
   "cell_type": "markdown",
   "metadata": {},
   "source": [
    "### 5 Histograma de tweets y retweets por hora\n",
    "\n",
    "Nota: se dejan afuera las primeras n horas por exceder los ordenes de magnitud para el ploteo"
   ]
  },
  {
   "cell_type": "code",
   "execution_count": 26,
   "metadata": {},
   "outputs": [],
   "source": [
    "def plot_retweets_per_hour(data_f):\n",
    "    data_f = data_f.copy()\n",
    "    data_f['time_diff'] = df_only_rt(data_f).created_at - df_only_rt(data_f).retweeted_status__created_at\n",
    "    # agregar columna de primer aparicion en el dataset (created at oo si es RT, primer RT en el grupo)\n",
    "    counts_per_hour = df_only_rt(data_f).time_diff.groupby((df_only_rt(data_f).time_diff / np.timedelta64(1, 'D')).round(0)).count()\n",
    "    \n",
    "    def _find_first_n_outliers():\n",
    "        head = counts_per_hour[0]\n",
    "        for i in range(1, len(counts_per_hour)):\n",
    "            if head < 2 * counts_per_hour[i]:\n",
    "                break\n",
    "            head = counts_per_hour[i]\n",
    "        return i\n",
    "    n_head_outliers = _find_first_n_outliers()\n",
    "    first_n_hours_considered = 56\n",
    "\n",
    "    print(counts_per_hour.head(n_head_outliers))\n",
    "    print('Hay {} valores a plotear'.format(counts_per_hour.count()))\n",
    "    counts_per_hour.head(first_n_hours_considered)[n_head_outliers:].plot(kind=\"line\")"
   ]
  },
  {
   "cell_type": "markdown",
   "metadata": {},
   "source": [
    "### 5.0 Histograma de tweets y retweets por hora"
   ]
  },
  {
   "cell_type": "code",
   "execution_count": 27,
   "metadata": {
    "scrolled": false
   },
   "outputs": [
    {
     "name": "stdout",
     "output_type": "stream",
     "text": [
      "time_diff\n",
      "0.0    89496\n",
      "1.0    15610\n",
      "2.0     2305\n",
      "3.0      655\n",
      "Name: time_diff, dtype: int64\n",
      "Hay 497 valores a plotear\n",
      "CPU times: user 348 ms, sys: 8.11 ms, total: 356 ms\n",
      "Wall time: 364 ms\n"
     ]
    },
    {
     "data": {
      "image/png": "[encoded data removed]",
      "text/plain": [
       "<Figure size 432x288 with 1 Axes>"
      ]
     },
     "metadata": {
      "needs_background": "light"
     },
     "output_type": "display_data"
    }
   ],
   "source": [
    "%%time\n",
    "counts = plot_retweets_per_hour(df)### Histograma de tweets y retweets por hora"
   ]
  },
  {
   "cell_type": "markdown",
   "metadata": {},
   "source": [
    "### 5.1 Histograma de tweets y retweets por hora (Recorte 1)"
   ]
  },
  {
   "cell_type": "code",
   "execution_count": 28,
   "metadata": {
    "scrolled": false
   },
   "outputs": [
    {
     "name": "stdout",
     "output_type": "stream",
     "text": [
      "time_diff\n",
      "0.0    21379\n",
      "1.0     3645\n",
      "2.0      308\n",
      "3.0       67\n",
      "Name: time_diff, dtype: int64\n",
      "Hay 8 valores a plotear\n",
      "CPU times: user 516 ms, sys: 104 ms, total: 620 ms\n",
      "Wall time: 501 ms\n"
     ]
    },
    {
     "data": {
      "image/png": "[encoded data removed]",
      "text/plain": [
       "<Figure size 432x288 with 1 Axes>"
      ]
     },
     "metadata": {
      "needs_background": "light"
     },
     "output_type": "display_data"
    }
   ],
   "source": [
    "%%time\n",
    "df_cutted = df_cut1(df)\n",
    "counts = plot_retweets_per_hour(df_cutted)"
   ]
  },
  {
   "cell_type": "markdown",
   "metadata": {},
   "source": [
    "### 5.2 Histograma de tweets y retweets por hora (Recorte 2)"
   ]
  },
  {
   "cell_type": "code",
   "execution_count": 29,
   "metadata": {
    "scrolled": false
   },
   "outputs": [
    {
     "name": "stdout",
     "output_type": "stream",
     "text": [
      "time_diff\n",
      "0.0    47\n",
      "1.0    21\n",
      "Name: time_diff, dtype: int64\n",
      "Hay 3 valores a plotear\n",
      "CPU times: user 277 ms, sys: 79.9 ms, total: 356 ms\n",
      "Wall time: 240 ms\n"
     ]
    },
    {
     "data": {
      "image/png": "[encoded data removed]",
      "text/plain": [
       "<Figure size 432x288 with 1 Axes>"
      ]
     },
     "metadata": {
      "needs_background": "light"
     },
     "output_type": "display_data"
    }
   ],
   "source": [
    "%%time\n",
    "df_cutted = df_cut2(df)\n",
    "counts = plot_retweets_per_hour(df_cutted)"
   ]
  },
  {
   "cell_type": "code",
   "execution_count": null,
   "metadata": {},
   "outputs": [],
   "source": [
    "\n"
   ]
  },
  {
   "cell_type": "markdown",
   "metadata": {},
   "source": [
    "### Retweets por hora de los primeros n tweets"
   ]
  },
  {
   "cell_type": "code",
   "execution_count": 30,
   "metadata": {
    "scrolled": false
   },
   "outputs": [],
   "source": [
    "# TODO\n",
    "\n",
    "# n = 5\n",
    "# top_retweeted = df.nlargest(5, 'retweet_count')\n",
    "# top_retweeted"
   ]
  },
  {
   "cell_type": "markdown",
   "metadata": {},
   "source": [
    "Primer intento: ¿los tweets con más retweet counts aparecen en los storylines de otros users considerados?"
   ]
  },
  {
   "cell_type": "code",
   "execution_count": 31,
   "metadata": {},
   "outputs": [],
   "source": [
    "# for t_id in top_retweeted.id_str:\n",
    "#     retweeted = df[df.retweeted_status__id_str == str(t_id)]\n",
    "#     print(retweeted.shape[0])"
   ]
  },
  {
   "cell_type": "markdown",
   "metadata": {},
   "source": [
    "Segundo intento: considerar los top retweet_counts que sí ..."
   ]
  },
  {
   "cell_type": "code",
   "execution_count": 32,
   "metadata": {
    "scrolled": false
   },
   "outputs": [],
   "source": [
    "# for t_id in top_retweeted.id_str:\n",
    "#     retweeted = df[df.retweeted_status__id_str == str(t_id)]\n",
    "#     retweeted['time_diff'] = retweeted.created_at - retweeted.retweeted_status__created_at\n",
    "#     retweeted.time_diff.groupby((retweeted.time_diff / np.timedelta64(1, 'h')).round(0)).count().plot(kind=\"bar\")"
   ]
  },
  {
   "cell_type": "code",
   "execution_count": 33,
   "metadata": {},
   "outputs": [],
   "source": [
    "# retweeted = df[df.retweeted_status__id_str == str(1056986168024330240)]\n",
    "# retweeted.created_at.groupby(retweeted[\"created_at\"].dt.hour).count().plot(kind=\"line\")"
   ]
  },
  {
   "cell_type": "code",
   "execution_count": 34,
   "metadata": {},
   "outputs": [],
   "source": [
    "# row_max_rt = df.retweet_count.idxmax()\n",
    "# print(df.iloc[row_max_rt, :])\n",
    "# print(row_max_rt)\n",
    "# print(type(row_max_rt))"
   ]
  }
 ],
 "metadata": {
  "kernelspec": {
   "display_name": "Python 3",
   "language": "python",
   "name": "python3"
  },
  "language_info": {
   "codemirror_mode": {
    "name": "ipython",
    "version": 3
   },
   "file_extension": ".py",
   "mimetype": "text/x-python",
   "name": "python",
   "nbconvert_exporter": "python",
   "pygments_lexer": "ipython3",
   "version": "3.6.6"
  }
 },
 "nbformat": 4,
 "nbformat_minor": 2
}
