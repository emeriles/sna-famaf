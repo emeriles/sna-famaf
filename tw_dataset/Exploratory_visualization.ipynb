{
 "cells": [
  {
   "cell_type": "code",
   "execution_count": 1,
   "metadata": {},
   "outputs": [],
   "source": [
    "import pandas as pd\n",
    "import pickle\n",
    "from db import DBHandler\n",
    "import numpy as np\n",
    "%matplotlib inline"
   ]
  },
  {
   "cell_type": "code",
   "execution_count": 2,
   "metadata": {},
   "outputs": [],
   "source": [
    "### READ FROM CSV\n",
    "csv_path = '../../database/dayli_collections/dayli_col.csv'\n",
    "\n",
    "dtypes = {\n",
    "    'user.id_str': str,\n",
    "    'id_str': str,\n",
    "    'text': str,\n",
    "    'retweeted_status.id_str': str ,\n",
    "    'retweeted_status.user.id_str': str,\n",
    "    'retweet_count': int,\n",
    "    'in_reply_to_status_id_str': str,\n",
    "}\n",
    "parse_dates = ['created_at', 'retweeted_status.created_at']\n",
    "df = pd.read_csv(csv_path, dtype=dtypes, parse_dates=parse_dates)\n",
    "df.rename(columns=lambda x: x.replace('.', '__'), inplace=True)"
   ]
  },
  {
   "cell_type": "code",
   "execution_count": 3,
   "metadata": {},
   "outputs": [
    {
     "data": {
      "text/html": [
       "<div>\n",
       "<style scoped>\n",
       "    .dataframe tbody tr th:only-of-type {\n",
       "        vertical-align: middle;\n",
       "    }\n",
       "\n",
       "    .dataframe tbody tr th {\n",
       "        vertical-align: top;\n",
       "    }\n",
       "\n",
       "    .dataframe thead th {\n",
       "        text-align: right;\n",
       "    }\n",
       "</style>\n",
       "<table border=\"1\" class=\"dataframe\">\n",
       "  <thead>\n",
       "    <tr style=\"text-align: right;\">\n",
       "      <th></th>\n",
       "      <th>created_at</th>\n",
       "      <th>user__id_str</th>\n",
       "      <th>id_str</th>\n",
       "      <th>text</th>\n",
       "      <th>retweeted_status__id_str</th>\n",
       "      <th>retweeted_status__user__id_str</th>\n",
       "      <th>retweeted_status__created_at</th>\n",
       "      <th>retweet_count</th>\n",
       "      <th>in_reply_to_status_id_str</th>\n",
       "    </tr>\n",
       "  </thead>\n",
       "  <tbody>\n",
       "    <tr>\n",
       "      <th>378490</th>\n",
       "      <td>2018-11-04 01:00:00</td>\n",
       "      <td>118732136</td>\n",
       "      <td>1058886546021994496</td>\n",
       "      <td>Horror en San Marcos Sierras\\nEl Show de la Ma...</td>\n",
       "      <td>NaN</td>\n",
       "      <td>NaN</td>\n",
       "      <td>NaT</td>\n",
       "      <td>0</td>\n",
       "      <td>NaN</td>\n",
       "    </tr>\n",
       "    <tr>\n",
       "      <th>378491</th>\n",
       "      <td>2018-11-04 00:00:00</td>\n",
       "      <td>118732136</td>\n",
       "      <td>1058871446255079424</td>\n",
       "      <td>Preocupan los casos de violencia intrafamiliar...</td>\n",
       "      <td>NaN</td>\n",
       "      <td>NaN</td>\n",
       "      <td>NaT</td>\n",
       "      <td>0</td>\n",
       "      <td>NaN</td>\n",
       "    </tr>\n",
       "    <tr>\n",
       "      <th>378492</th>\n",
       "      <td>2018-11-04 23:52:00</td>\n",
       "      <td>309812848</td>\n",
       "      <td>1059231820942794752</td>\n",
       "      <td>#LaCornisa Tras más de una década de apología ...</td>\n",
       "      <td>NaN</td>\n",
       "      <td>NaN</td>\n",
       "      <td>NaT</td>\n",
       "      <td>4</td>\n",
       "      <td>NaN</td>\n",
       "    </tr>\n",
       "    <tr>\n",
       "      <th>378493</th>\n",
       "      <td>2018-11-04 23:31:00</td>\n",
       "      <td>309812848</td>\n",
       "      <td>1059226536136658950</td>\n",
       "      <td>Seguimos con un país en #LaCornisa, pero sólo ...</td>\n",
       "      <td>NaN</td>\n",
       "      <td>NaN</td>\n",
       "      <td>NaT</td>\n",
       "      <td>8</td>\n",
       "      <td>NaN</td>\n",
       "    </tr>\n",
       "    <tr>\n",
       "      <th>378494</th>\n",
       "      <td>2018-11-04 14:52:33</td>\n",
       "      <td>84644827</td>\n",
       "      <td>1059096066493239296</td>\n",
       "      <td>RT @Guillevelez1: Entre el nuevo álbum de Juan...</td>\n",
       "      <td>1055847600337887233</td>\n",
       "      <td>909103393</td>\n",
       "      <td>2018-10-26 15:44:19</td>\n",
       "      <td>2</td>\n",
       "      <td>NaN</td>\n",
       "    </tr>\n",
       "  </tbody>\n",
       "</table>\n",
       "</div>"
      ],
      "text/plain": [
       "                created_at user__id_str               id_str  \\\n",
       "378490 2018-11-04 01:00:00    118732136  1058886546021994496   \n",
       "378491 2018-11-04 00:00:00    118732136  1058871446255079424   \n",
       "378492 2018-11-04 23:52:00    309812848  1059231820942794752   \n",
       "378493 2018-11-04 23:31:00    309812848  1059226536136658950   \n",
       "378494 2018-11-04 14:52:33     84644827  1059096066493239296   \n",
       "\n",
       "                                                     text  \\\n",
       "378490  Horror en San Marcos Sierras\\nEl Show de la Ma...   \n",
       "378491  Preocupan los casos de violencia intrafamiliar...   \n",
       "378492  #LaCornisa Tras más de una década de apología ...   \n",
       "378493  Seguimos con un país en #LaCornisa, pero sólo ...   \n",
       "378494  RT @Guillevelez1: Entre el nuevo álbum de Juan...   \n",
       "\n",
       "       retweeted_status__id_str retweeted_status__user__id_str  \\\n",
       "378490                      NaN                            NaN   \n",
       "378491                      NaN                            NaN   \n",
       "378492                      NaN                            NaN   \n",
       "378493                      NaN                            NaN   \n",
       "378494      1055847600337887233                      909103393   \n",
       "\n",
       "       retweeted_status__created_at  retweet_count in_reply_to_status_id_str  \n",
       "378490                          NaT              0                       NaN  \n",
       "378491                          NaT              0                       NaN  \n",
       "378492                          NaT              4                       NaN  \n",
       "378493                          NaT              8                       NaN  \n",
       "378494          2018-10-26 15:44:19              2                       NaN  "
      ]
     },
     "execution_count": 3,
     "metadata": {},
     "output_type": "execute_result"
    }
   ],
   "source": [
    "df.tail()"
   ]
  },
  {
   "cell_type": "code",
   "execution_count": 6,
   "metadata": {},
   "outputs": [
    {
     "name": "stdout",
     "output_type": "stream",
     "text": [
      "conecting to db\n"
     ]
    },
    {
     "data": {
      "text/plain": [
       "{'created_at': '$created_at',\n",
       " 'id_str': '$id_str',\n",
       " 'retweet_count': '$retweet_count',\n",
       " 'retweeted_status__id_str': '$retweeted_status.id_str',\n",
       " 'retweeted_status__created_at': '$retweeted_status.created_at',\n",
       " 'retweeted_status': '$retweeted_status.id_str'}"
      ]
     },
     "execution_count": 6,
     "metadata": {},
     "output_type": "execute_result"
    }
   ],
   "source": [
    "### READ FROM MONGODB CONNECTION\n",
    "\n",
    "\n",
    "# h = DBHandler(port=27017)\n",
    "\n",
    "# columns = ['created_at', 'id_str', 'retweet_count', 'retweeted_status__id_str', 'retweeted_status__created_at']\n",
    "# separator = '__'\n",
    "# project = ({f_name: '$' + f_name.replace(separator, '.') for f_name in columns})\n",
    "# project.update({'retweeted_status': '$retweeted_status.id_str'})\n",
    "\n",
    "\n",
    "# cursor = h.tweet_collection.aggregate([\n",
    "#     {'$project': project}\n",
    "# ])\n",
    "# df = pd.DataFrame(list(cursor))\n",
    "\n",
    "# # datatype conversion\n",
    "# datetime_cols = [c for c in df.columns if 'created_at' in c]\n",
    "# for c in datetime_cols:\n",
    "#     df[c] = pd.to_datetime(df[c])"
   ]
  },
  {
   "cell_type": "code",
   "execution_count": 7,
   "metadata": {},
   "outputs": [],
   "source": [
    "# usefull aliases\n",
    "def df_only_rt():\n",
    "    return df[df.retweeted_status__id_str.notna()]\n",
    "\n",
    "def df_not_rt():\n",
    "    return df[df.retweeted_status__id_str.isna()]"
   ]
  },
  {
   "cell_type": "code",
   "execution_count": 8,
   "metadata": {},
   "outputs": [
    {
     "name": "stdout",
     "output_type": "stream",
     "text": [
      "Cantidad de RT en el Dataset: 110711\tCantidad de tweets originales: 267784\tTotal: 378495\n",
      "Proporcion de RT sobre total: 0.2925032034769284\n",
      "Proporcion de Tweets originales sobre total: 0.7074967965230716\n"
     ]
    }
   ],
   "source": [
    "### Proporciones de RT sobre tweets totales\n",
    "# TODO: plot this in some way\n",
    "cant_rt = df_only_rt().shape[0]\n",
    "cant_orig = df_not_rt().shape[0]\n",
    "total = df.shape[0]\n",
    "print('Cantidad de RT en el Dataset: {}\\tCantidad de tweets originales: {}\\tTotal: {}'.format(cant_rt, cant_orig, total))\n",
    "print('Proporcion de RT sobre total: {}'.format(cant_rt / total))\n",
    "print('Proporcion de Tweets originales sobre total: {}'.format(cant_orig / total))"
   ]
  },
  {
   "cell_type": "code",
   "execution_count": 9,
   "metadata": {},
   "outputs": [
    {
     "name": "stdout",
     "output_type": "stream",
     "text": [
      "Promedio de retweet counts (todo el dataset): 230.27960739243582\n",
      "Promedio de retweet counts (solo tweets originales): 20.10311669106444\n",
      "Promedio de retweet counts (solo retweets): 738.647352114966\n"
     ]
    }
   ],
   "source": [
    "### Promedio de retweets contando retweets\n",
    "avg_retweets_all = df.retweet_count.mean()\n",
    "print('Promedio de retweet counts (todo el dataset): {}'.format(avg_retweets_all))\n",
    "### Promedio de retweets SIN retweets\n",
    "avg_retweets_nort = df_not_rt().retweet_count.mean()\n",
    "print('Promedio de retweet counts (solo tweets originales): {}'.format(avg_retweets_nort))\n",
    "avg_retweets_onlyrt = df_only_rt().retweet_count.mean()\n",
    "print('Promedio de retweet counts (solo retweets): {}'.format(avg_retweets_onlyrt))\n",
    "# cual es la cuenta que debería dar??"
   ]
  },
  {
   "cell_type": "code",
   "execution_count": 6,
   "metadata": {},
   "outputs": [
    {
     "name": "stdout",
     "output_type": "stream",
     "text": [
      "Tweet más temprano en el tiempo: 2018-10-28 00:00:00\n",
      "Tweet más tardío en el tiempo: 2018-11-04 23:59:56\n"
     ]
    }
   ],
   "source": [
    "### Ventanas de tiempo recogidas.\n",
    "print('Tweet más temprano en el tiempo: {}'.format(df.created_at.min()))\n",
    "print('Tweet más tardío en el tiempo: {}'.format(df.created_at.max()))\n",
    "### TODO: lo mismo pero discriminado por usuario"
   ]
  },
  {
   "cell_type": "code",
   "execution_count": null,
   "metadata": {},
   "outputs": [],
   "source": []
  },
  {
   "cell_type": "code",
   "execution_count": 11,
   "metadata": {},
   "outputs": [
    {
     "data": {
      "text/plain": [
       "<matplotlib.axes._subplots.AxesSubplot at 0x7f2c992a4c18>"
      ]
     },
     "execution_count": 11,
     "metadata": {},
     "output_type": "execute_result"
    },
    {
     "data": {
      "image/png": "[encoded data removed]",
      "text/plain": [
       "<Figure size 432x288 with 1 Axes>"
      ]
     },
     "metadata": {
      "needs_background": "light"
     },
     "output_type": "display_data"
    }
   ],
   "source": [
    "### histogram of all tweets by date\n",
    "df.created_at.groupby(df[\"created_at\"].dt.date).count().plot(kind=\"bar\")"
   ]
  },
  {
   "cell_type": "code",
   "execution_count": 12,
   "metadata": {
    "scrolled": true
   },
   "outputs": [
    {
     "data": {
      "text/plain": [
       "<matplotlib.axes._subplots.AxesSubplot at 0x7f2c96452828>"
      ]
     },
     "execution_count": 12,
     "metadata": {},
     "output_type": "execute_result"
    },
    {
     "data": {
      "image/png": "[encoded data removed]",
      "text/plain": [
       "<Figure size 432x288 with 1 Axes>"
      ]
     },
     "metadata": {
      "needs_background": "light"
     },
     "output_type": "display_data"
    }
   ],
   "source": [
    "### only retweets\n",
    "df.created_at.groupby(df_only_rt()[\"created_at\"].dt.date).count().plot(kind=\"bar\")"
   ]
  },
  {
   "cell_type": "code",
   "execution_count": 13,
   "metadata": {},
   "outputs": [
    {
     "name": "stdout",
     "output_type": "stream",
     "text": [
      "created_at                                                      2018-10-29 14:35:04\n",
      "user__id_str                                                               92430621\n",
      "id_str                                                          1056917339290054656\n",
      "text                              RT @ErickHdz56: Flip your phone upside down ht...\n",
      "retweeted_status__id_str                                        1056643476840955905\n",
      "retweeted_status__user__id_str                                   772540557289586689\n",
      "retweeted_status__created_at                                    2018-10-28 20:26:51\n",
      "retweet_count                                                                385289\n",
      "in_reply_to_status_id_str                                                       NaN\n",
      "Name: 49764, dtype: object\n",
      "49764\n",
      "<class 'int'>\n"
     ]
    }
   ],
   "source": [
    "row_max_rt = df.retweet_count.idxmax()\n",
    "print(df.iloc[row_max_rt, :])\n",
    "print(row_max_rt)\n",
    "print(type(row_max_rt))"
   ]
  },
  {
   "cell_type": "code",
   "execution_count": 15,
   "metadata": {},
   "outputs": [
    {
     "data": {
      "text/plain": [
       "<matplotlib.axes._subplots.AxesSubplot at 0x7f2c9680d898>"
      ]
     },
     "execution_count": 15,
     "metadata": {},
     "output_type": "execute_result"
    },
    {
     "data": {
      "image/png": "[encoded data removed]",
      "text/plain": [
       "<Figure size 432x288 with 1 Axes>"
      ]
     },
     "metadata": {
      "needs_background": "light"
     },
     "output_type": "display_data"
    }
   ],
   "source": [
    "retweeted = df[df.retweeted_status__id_str == str(1056986168024330240)]\n",
    "retweeted.created_at.groupby(retweeted[\"created_at\"].dt.hour).count().plot(kind=\"bar\")\n"
   ]
  },
  {
   "cell_type": "code",
   "execution_count": 16,
   "metadata": {},
   "outputs": [
    {
     "name": "stderr",
     "output_type": "stream",
     "text": [
      "/home/emanuel/.virtualenvs/sna-famaf/lib/python3.6/site-packages/ipykernel_launcher.py:3: SettingWithCopyWarning: \n",
      "A value is trying to be set on a copy of a slice from a DataFrame.\n",
      "Try using .loc[row_indexer,col_indexer] = value instead\n",
      "\n",
      "See the caveats in the documentation: http://pandas.pydata.org/pandas-docs/stable/indexing.html#indexing-view-versus-copy\n",
      "  This is separate from the ipykernel package so we can avoid doing imports until\n"
     ]
    },
    {
     "data": {
      "text/plain": [
       "<matplotlib.axes._subplots.AxesSubplot at 0x7f2c97c54048>"
      ]
     },
     "execution_count": 16,
     "metadata": {},
     "output_type": "execute_result"
    },
    {
     "data": {
      "image/png": "[encoded data removed]",
      "text/plain": [
       "<Figure size 432x288 with 1 Axes>"
      ]
     },
     "metadata": {
      "needs_background": "light"
     },
     "output_type": "display_data"
    }
   ],
   "source": [
    "import numpy as np\n",
    "retweeted = df[df.retweeted_status__id_str == str(1056986168024330240)]\n",
    "retweeted['time_diff'] = retweeted.created_at - retweeted.retweeted_status__created_at\n",
    "# retweeted.created_at.groupby(retweeted[\"created_at\"].dt.hour).count().plot(kind=\"bar\")\n",
    "# retweeted.groupby(retweeted.time_diff.dt / np.timedelta64(1, 'D')).count().plot(kind=\"bar\")\n",
    "retweeted.time_diff.groupby((retweeted.time_diff / np.timedelta64(1, 'h')).round(0)).count().plot(kind=\"bar\")"
   ]
  },
  {
   "cell_type": "code",
   "execution_count": 66,
   "metadata": {},
   "outputs": [
    {
     "data": {
      "text/plain": [
       "numpy.timedelta64(3,'m')"
      ]
     },
     "execution_count": 66,
     "metadata": {},
     "output_type": "execute_result"
    }
   ],
   "source": [
    "np.timedelta64(3, 'm')"
   ]
  },
  {
   "cell_type": "code",
   "execution_count": 34,
   "metadata": {},
   "outputs": [
    {
     "data": {
      "text/html": [
       "<div>\n",
       "<style scoped>\n",
       "    .dataframe tbody tr th:only-of-type {\n",
       "        vertical-align: middle;\n",
       "    }\n",
       "\n",
       "    .dataframe tbody tr th {\n",
       "        vertical-align: top;\n",
       "    }\n",
       "\n",
       "    .dataframe thead th {\n",
       "        text-align: right;\n",
       "    }\n",
       "</style>\n",
       "<table border=\"1\" class=\"dataframe\">\n",
       "  <thead>\n",
       "    <tr style=\"text-align: right;\">\n",
       "      <th></th>\n",
       "      <th>_id</th>\n",
       "      <th>created_at</th>\n",
       "      <th>id_str</th>\n",
       "      <th>retweet_count</th>\n",
       "      <th>retweeted_status</th>\n",
       "      <th>retweeted_status__created_at</th>\n",
       "      <th>retweeted_status__id_str</th>\n",
       "    </tr>\n",
       "  </thead>\n",
       "  <tbody>\n",
       "    <tr>\n",
       "      <th>49764</th>\n",
       "      <td>5bd7bd47ea61302900870c56</td>\n",
       "      <td>2018-10-29 14:35:04</td>\n",
       "      <td>1056917339290054656</td>\n",
       "      <td>385289</td>\n",
       "      <td>1056643476840955905</td>\n",
       "      <td>2018-10-28 20:26:51</td>\n",
       "      <td>1056643476840955905</td>\n",
       "    </tr>\n",
       "    <tr>\n",
       "      <th>185157</th>\n",
       "      <td>5bda6590ea6130079e644e4c</td>\n",
       "      <td>2018-10-31 02:18:03</td>\n",
       "      <td>1057456638439890949</td>\n",
       "      <td>323799</td>\n",
       "      <td>1056986168024330240</td>\n",
       "      <td>2018-10-29 19:08:34</td>\n",
       "      <td>1056986168024330240</td>\n",
       "    </tr>\n",
       "    <tr>\n",
       "      <th>174178</th>\n",
       "      <td>5bda63a0ea6130079e642369</td>\n",
       "      <td>2018-10-31 10:18:01</td>\n",
       "      <td>1057577426228776961</td>\n",
       "      <td>323712</td>\n",
       "      <td>1056986168024330240</td>\n",
       "      <td>2018-10-29 19:08:34</td>\n",
       "      <td>1056986168024330240</td>\n",
       "    </tr>\n",
       "    <tr>\n",
       "      <th>144863</th>\n",
       "      <td>5bd917e9ea613048d9e84750</td>\n",
       "      <td>2018-10-30 02:21:08</td>\n",
       "      <td>1057095025652350977</td>\n",
       "      <td>258793</td>\n",
       "      <td>1056986168024330240</td>\n",
       "      <td>2018-10-29 19:08:34</td>\n",
       "      <td>1056986168024330240</td>\n",
       "    </tr>\n",
       "    <tr>\n",
       "      <th>143782</th>\n",
       "      <td>5bd917c5ea613048d9e84317</td>\n",
       "      <td>2018-10-30 12:08:24</td>\n",
       "      <td>1057242817330855937</td>\n",
       "      <td>258741</td>\n",
       "      <td>1056986168024330240</td>\n",
       "      <td>2018-10-29 19:08:34</td>\n",
       "      <td>1056986168024330240</td>\n",
       "    </tr>\n",
       "    <tr>\n",
       "      <th>143743</th>\n",
       "      <td>5bd917c2ea613048d9e842f0</td>\n",
       "      <td>2018-10-30 03:55:24</td>\n",
       "      <td>1057118746739908610</td>\n",
       "      <td>258735</td>\n",
       "      <td>1056986168024330240</td>\n",
       "      <td>2018-10-29 19:08:34</td>\n",
       "      <td>1056986168024330240</td>\n",
       "    </tr>\n",
       "    <tr>\n",
       "      <th>142014</th>\n",
       "      <td>5bd9177fea613048d9e83c2f</td>\n",
       "      <td>2018-10-30 01:34:45</td>\n",
       "      <td>1057083352170278912</td>\n",
       "      <td>258637</td>\n",
       "      <td>1056986168024330240</td>\n",
       "      <td>2018-10-29 19:08:34</td>\n",
       "      <td>1056986168024330240</td>\n",
       "    </tr>\n",
       "    <tr>\n",
       "      <th>136832</th>\n",
       "      <td>5bd9165fea613048d9e827f1</td>\n",
       "      <td>2018-10-30 02:40:27</td>\n",
       "      <td>1057099886984867840</td>\n",
       "      <td>258257</td>\n",
       "      <td>1056986168024330240</td>\n",
       "      <td>2018-10-29 19:08:34</td>\n",
       "      <td>1056986168024330240</td>\n",
       "    </tr>\n",
       "    <tr>\n",
       "      <th>136156</th>\n",
       "      <td>5bd9163bea613048d9e8254d</td>\n",
       "      <td>2018-10-30 23:57:22</td>\n",
       "      <td>1057421232356749312</td>\n",
       "      <td>258189</td>\n",
       "      <td>1056986168024330240</td>\n",
       "      <td>2018-10-29 19:08:34</td>\n",
       "      <td>1056986168024330240</td>\n",
       "    </tr>\n",
       "    <tr>\n",
       "      <th>134167</th>\n",
       "      <td>5bd915bcea613048d9e81d88</td>\n",
       "      <td>2018-10-30 18:40:20</td>\n",
       "      <td>1057341447601561601</td>\n",
       "      <td>258001</td>\n",
       "      <td>1056986168024330240</td>\n",
       "      <td>2018-10-29 19:08:34</td>\n",
       "      <td>1056986168024330240</td>\n",
       "    </tr>\n",
       "  </tbody>\n",
       "</table>\n",
       "</div>"
      ],
      "text/plain": [
       "                             _id          created_at               id_str  \\\n",
       "49764   5bd7bd47ea61302900870c56 2018-10-29 14:35:04  1056917339290054656   \n",
       "185157  5bda6590ea6130079e644e4c 2018-10-31 02:18:03  1057456638439890949   \n",
       "174178  5bda63a0ea6130079e642369 2018-10-31 10:18:01  1057577426228776961   \n",
       "144863  5bd917e9ea613048d9e84750 2018-10-30 02:21:08  1057095025652350977   \n",
       "143782  5bd917c5ea613048d9e84317 2018-10-30 12:08:24  1057242817330855937   \n",
       "143743  5bd917c2ea613048d9e842f0 2018-10-30 03:55:24  1057118746739908610   \n",
       "142014  5bd9177fea613048d9e83c2f 2018-10-30 01:34:45  1057083352170278912   \n",
       "136832  5bd9165fea613048d9e827f1 2018-10-30 02:40:27  1057099886984867840   \n",
       "136156  5bd9163bea613048d9e8254d 2018-10-30 23:57:22  1057421232356749312   \n",
       "134167  5bd915bcea613048d9e81d88 2018-10-30 18:40:20  1057341447601561601   \n",
       "\n",
       "        retweet_count     retweeted_status retweeted_status__created_at  \\\n",
       "49764          385289  1056643476840955905          2018-10-28 20:26:51   \n",
       "185157         323799  1056986168024330240          2018-10-29 19:08:34   \n",
       "174178         323712  1056986168024330240          2018-10-29 19:08:34   \n",
       "144863         258793  1056986168024330240          2018-10-29 19:08:34   \n",
       "143782         258741  1056986168024330240          2018-10-29 19:08:34   \n",
       "143743         258735  1056986168024330240          2018-10-29 19:08:34   \n",
       "142014         258637  1056986168024330240          2018-10-29 19:08:34   \n",
       "136832         258257  1056986168024330240          2018-10-29 19:08:34   \n",
       "136156         258189  1056986168024330240          2018-10-29 19:08:34   \n",
       "134167         258001  1056986168024330240          2018-10-29 19:08:34   \n",
       "\n",
       "       retweeted_status__id_str  \n",
       "49764       1056643476840955905  \n",
       "185157      1056986168024330240  \n",
       "174178      1056986168024330240  \n",
       "144863      1056986168024330240  \n",
       "143782      1056986168024330240  \n",
       "143743      1056986168024330240  \n",
       "142014      1056986168024330240  \n",
       "136832      1056986168024330240  \n",
       "136156      1056986168024330240  \n",
       "134167      1056986168024330240  "
      ]
     },
     "execution_count": 34,
     "metadata": {},
     "output_type": "execute_result"
    }
   ],
   "source": [
    "top_retweeted = df.nlargest(10, 'retweet_count')"
   ]
  }
 ],
 "metadata": {
  "kernelspec": {
   "display_name": "Python 3",
   "language": "python",
   "name": "python3"
  },
  "language_info": {
   "codemirror_mode": {
    "name": "ipython",
    "version": 3
   },
   "file_extension": ".py",
   "mimetype": "text/x-python",
   "name": "python",
   "nbconvert_exporter": "python",
   "pygments_lexer": "ipython3",
   "version": "3.6.6"
  }
 },
 "nbformat": 4,
 "nbformat_minor": 2
}
