{
 "cells": [
  {
   "cell_type": "code",
   "execution_count": 1,
   "metadata": {},
   "outputs": [],
   "source": [
    "import pandas as pd\n",
    "import pickle\n",
    "from db import DBHandler\n",
    "import numpy as np\n",
    "%matplotlib inline\n",
    "# TODO: put tittles!"
   ]
  },
  {
   "cell_type": "code",
   "execution_count": 2,
   "metadata": {},
   "outputs": [],
   "source": [
    "### READ FROM CSV\n",
    "csv_path = '../../database/dayli_collections/dayli_col.csv'\n",
    "\n",
    "dtypes = {\n",
    "    'user.id_str': str,\n",
    "    'id_str': str,\n",
    "    'text': str,\n",
    "    'retweeted_status.id_str': str ,\n",
    "    'retweeted_status.user.id_str': str,\n",
    "    'retweet_count': int,\n",
    "    'in_reply_to_status_id_str': str,\n",
    "}\n",
    "parse_dates = ['created_at', 'retweeted_status.created_at']\n",
    "df = pd.read_csv(csv_path, dtype=dtypes, parse_dates=parse_dates)\n",
    "# reemplazar nombre de columnas: . por __ para sintactic sugar de pandas.\n",
    "df.rename(columns=lambda x: x.replace('.', '__'), inplace=True)"
   ]
  },
  {
   "cell_type": "code",
   "execution_count": 3,
   "metadata": {},
   "outputs": [
    {
     "data": {
      "text/html": [
       "<div>\n",
       "<style scoped>\n",
       "    .dataframe tbody tr th:only-of-type {\n",
       "        vertical-align: middle;\n",
       "    }\n",
       "\n",
       "    .dataframe tbody tr th {\n",
       "        vertical-align: top;\n",
       "    }\n",
       "\n",
       "    .dataframe thead th {\n",
       "        text-align: right;\n",
       "    }\n",
       "</style>\n",
       "<table border=\"1\" class=\"dataframe\">\n",
       "  <thead>\n",
       "    <tr style=\"text-align: right;\">\n",
       "      <th></th>\n",
       "      <th>created_at</th>\n",
       "      <th>user__id_str</th>\n",
       "      <th>id_str</th>\n",
       "      <th>text</th>\n",
       "      <th>retweeted_status__id_str</th>\n",
       "      <th>retweeted_status__user__id_str</th>\n",
       "      <th>retweeted_status__created_at</th>\n",
       "      <th>retweet_count</th>\n",
       "      <th>in_reply_to_status_id_str</th>\n",
       "    </tr>\n",
       "  </thead>\n",
       "  <tbody>\n",
       "    <tr>\n",
       "      <th>378490</th>\n",
       "      <td>2018-11-04 01:00:00</td>\n",
       "      <td>118732136</td>\n",
       "      <td>1058886546021994496</td>\n",
       "      <td>Horror en San Marcos Sierras\\nEl Show de la Ma...</td>\n",
       "      <td>NaN</td>\n",
       "      <td>NaN</td>\n",
       "      <td>NaT</td>\n",
       "      <td>0</td>\n",
       "      <td>NaN</td>\n",
       "    </tr>\n",
       "    <tr>\n",
       "      <th>378491</th>\n",
       "      <td>2018-11-04 00:00:00</td>\n",
       "      <td>118732136</td>\n",
       "      <td>1058871446255079424</td>\n",
       "      <td>Preocupan los casos de violencia intrafamiliar...</td>\n",
       "      <td>NaN</td>\n",
       "      <td>NaN</td>\n",
       "      <td>NaT</td>\n",
       "      <td>0</td>\n",
       "      <td>NaN</td>\n",
       "    </tr>\n",
       "    <tr>\n",
       "      <th>378492</th>\n",
       "      <td>2018-11-04 23:52:00</td>\n",
       "      <td>309812848</td>\n",
       "      <td>1059231820942794752</td>\n",
       "      <td>#LaCornisa Tras más de una década de apología ...</td>\n",
       "      <td>NaN</td>\n",
       "      <td>NaN</td>\n",
       "      <td>NaT</td>\n",
       "      <td>4</td>\n",
       "      <td>NaN</td>\n",
       "    </tr>\n",
       "    <tr>\n",
       "      <th>378493</th>\n",
       "      <td>2018-11-04 23:31:00</td>\n",
       "      <td>309812848</td>\n",
       "      <td>1059226536136658950</td>\n",
       "      <td>Seguimos con un país en #LaCornisa, pero sólo ...</td>\n",
       "      <td>NaN</td>\n",
       "      <td>NaN</td>\n",
       "      <td>NaT</td>\n",
       "      <td>8</td>\n",
       "      <td>NaN</td>\n",
       "    </tr>\n",
       "    <tr>\n",
       "      <th>378494</th>\n",
       "      <td>2018-11-04 14:52:33</td>\n",
       "      <td>84644827</td>\n",
       "      <td>1059096066493239296</td>\n",
       "      <td>RT @Guillevelez1: Entre el nuevo álbum de Juan...</td>\n",
       "      <td>1055847600337887233</td>\n",
       "      <td>909103393</td>\n",
       "      <td>2018-10-26 15:44:19</td>\n",
       "      <td>2</td>\n",
       "      <td>NaN</td>\n",
       "    </tr>\n",
       "  </tbody>\n",
       "</table>\n",
       "</div>"
      ],
      "text/plain": [
       "                created_at user__id_str               id_str  \\\n",
       "378490 2018-11-04 01:00:00    118732136  1058886546021994496   \n",
       "378491 2018-11-04 00:00:00    118732136  1058871446255079424   \n",
       "378492 2018-11-04 23:52:00    309812848  1059231820942794752   \n",
       "378493 2018-11-04 23:31:00    309812848  1059226536136658950   \n",
       "378494 2018-11-04 14:52:33     84644827  1059096066493239296   \n",
       "\n",
       "                                                     text  \\\n",
       "378490  Horror en San Marcos Sierras\\nEl Show de la Ma...   \n",
       "378491  Preocupan los casos de violencia intrafamiliar...   \n",
       "378492  #LaCornisa Tras más de una década de apología ...   \n",
       "378493  Seguimos con un país en #LaCornisa, pero sólo ...   \n",
       "378494  RT @Guillevelez1: Entre el nuevo álbum de Juan...   \n",
       "\n",
       "       retweeted_status__id_str retweeted_status__user__id_str  \\\n",
       "378490                      NaN                            NaN   \n",
       "378491                      NaN                            NaN   \n",
       "378492                      NaN                            NaN   \n",
       "378493                      NaN                            NaN   \n",
       "378494      1055847600337887233                      909103393   \n",
       "\n",
       "       retweeted_status__created_at  retweet_count in_reply_to_status_id_str  \n",
       "378490                          NaT              0                       NaN  \n",
       "378491                          NaT              0                       NaN  \n",
       "378492                          NaT              4                       NaN  \n",
       "378493                          NaT              8                       NaN  \n",
       "378494          2018-10-26 15:44:19              2                       NaN  "
      ]
     },
     "execution_count": 3,
     "metadata": {},
     "output_type": "execute_result"
    }
   ],
   "source": [
    "df.tail()"
   ]
  },
  {
   "cell_type": "code",
   "execution_count": 6,
   "metadata": {
    "scrolled": false
   },
   "outputs": [
    {
     "name": "stdout",
     "output_type": "stream",
     "text": [
      "conecting to db\n"
     ]
    },
    {
     "data": {
      "text/plain": [
       "{'created_at': '$created_at',\n",
       " 'id_str': '$id_str',\n",
       " 'retweet_count': '$retweet_count',\n",
       " 'retweeted_status__id_str': '$retweeted_status.id_str',\n",
       " 'retweeted_status__created_at': '$retweeted_status.created_at',\n",
       " 'retweeted_status': '$retweeted_status.id_str'}"
      ]
     },
     "execution_count": 6,
     "metadata": {},
     "output_type": "execute_result"
    }
   ],
   "source": [
    "### READ FROM MONGODB CONNECTION\n",
    "\n",
    "\n",
    "# h = DBHandler(port=27017)\n",
    "\n",
    "# columns = ['created_at', 'id_str', 'retweet_count', 'retweeted_status__id_str', 'retweeted_status__created_at']\n",
    "# separator = '__'\n",
    "# project = ({f_name: '$' + f_name.replace(separator, '.') for f_name in columns})\n",
    "# project.update({'retweeted_status': '$retweeted_status.id_str'})\n",
    "\n",
    "\n",
    "# cursor = h.tweet_collection.aggregate([\n",
    "#     {'$project': project}\n",
    "# ])\n",
    "# df = pd.DataFrame(list(cursor))\n",
    "\n",
    "# # datatype conversion\n",
    "# datetime_cols = [c for c in df.columns if 'created_at' in c]\n",
    "# for c in datetime_cols:\n",
    "#     df[c] = pd.to_datetime(df[c])"
   ]
  },
  {
   "cell_type": "code",
   "execution_count": 19,
   "metadata": {},
   "outputs": [],
   "source": [
    "# usefull aliases\n",
    "def df_only_rt():\n",
    "    return df[df.retweeted_status__id_str.notna()]\n",
    "\n",
    "def df_not_rt():\n",
    "    return df[df.retweeted_status__id_str.isna()]\n",
    "\n",
    "def df_commented():\n",
    "    return df[df.in_reply_to_status_id_str.notna()]"
   ]
  },
  {
   "cell_type": "markdown",
   "metadata": {},
   "source": [
    "### Proporciones de RT sobre tweets totales"
   ]
  },
  {
   "cell_type": "code",
   "execution_count": 29,
   "metadata": {},
   "outputs": [
    {
     "name": "stdout",
     "output_type": "stream",
     "text": [
      "Cantidad de RT en el Dataset: \t110711\n",
      "Cantidad de tweets originales: \t267784\n",
      "Total: \t\t\t\t378495\n",
      "Proporcion de RT sobre total: \t\t\t0.2925032034769284\n",
      "Proporcion de Tweets originales sobre total: \t0.7074967965230716\n",
      "Cantidad tweets comentados y retweeteados: \t0\n",
      "Cantidad tweets comentados y NO retweeteados: \t74397\n"
     ]
    }
   ],
   "source": [
    "# TODO: plot this in some way\n",
    "cant_rt = df_only_rt().shape[0]\n",
    "cant_orig = df_not_rt().shape[0]\n",
    "total = df.shape[0]\n",
    "print('Cantidad de RT en el Dataset: \\t{}\\nCantidad de tweets originales: \\t{}\\nTotal: \\t\\t\\t\\t{}'.format(cant_rt, cant_orig, total))\n",
    "print('Proporcion de RT sobre total: \\t\\t\\t{}'.format(cant_rt / total))\n",
    "print('Proporcion de Tweets originales sobre total: \\t{}'.format(cant_orig / total))\n",
    "\n",
    "commented_and_retweeted = df[(df.in_reply_to_status_id_str.notna()) & (df.retweeted_status__id_str.notna())].shape[0]\n",
    "commented_and_not_rt = df[(df.in_reply_to_status_id_str.notna()) & (df.retweeted_status__id_str.isna())].shape[0]\n",
    "print('Cantidad tweets comentados y retweeteados: \\t{}'.format(commented_and_retweeted))\n",
    "print('Cantidad tweets comentados y NO retweeteados: \\t{}'.format(commented_and_not_rt))"
   ]
  },
  {
   "cell_type": "markdown",
   "metadata": {},
   "source": [
    "### Promedio de conteos de retweets"
   ]
  },
  {
   "cell_type": "code",
   "execution_count": 31,
   "metadata": {},
   "outputs": [
    {
     "name": "stdout",
     "output_type": "stream",
     "text": [
      "Promedio de retweet counts (todo el dataset): \t\t230.27960739243582\n",
      "Promedio de retweet counts (solo tweets originales): \t20.10311669106444\n",
      "Promedio de retweet counts (solo retweets): \t\t738.647352114966\n"
     ]
    }
   ],
   "source": [
    "avg_retweets_all = df.retweet_count.mean()\n",
    "print('Promedio de retweet counts (todo el dataset): \\t\\t{}'.format(avg_retweets_all))\n",
    "### Promedio de retweets SIN retweets\n",
    "avg_retweets_nort = df_not_rt().retweet_count.mean()\n",
    "print('Promedio de retweet counts (solo tweets originales): \\t{}'.format(avg_retweets_nort))\n",
    "avg_retweets_onlyrt = df_only_rt().retweet_count.mean()\n",
    "print('Promedio de retweet counts (solo retweets): \\t\\t{}'.format(avg_retweets_onlyrt))\n",
    "# cual es la cuenta que debería dar??"
   ]
  },
  {
   "cell_type": "markdown",
   "metadata": {},
   "source": [
    "### Ventanas de tiempo recogidas"
   ]
  },
  {
   "cell_type": "code",
   "execution_count": 33,
   "metadata": {},
   "outputs": [
    {
     "name": "stdout",
     "output_type": "stream",
     "text": [
      "Tweet más temprano en el tiempo: \t2018-10-28 00:00:00\n",
      "Tweet más tardío en el tiempo: \t\t2018-11-04 23:59:56\n"
     ]
    }
   ],
   "source": [
    "print('Tweet más temprano en el tiempo: \\t{}'.format(df.created_at.min()))\n",
    "print('Tweet más tardío en el tiempo: \\t\\t{}'.format(df.created_at.max()))\n",
    "### TODO: lo mismo pero discriminado por usuario"
   ]
  },
  {
   "cell_type": "code",
   "execution_count": 16,
   "metadata": {
    "scrolled": false
   },
   "outputs": [
    {
     "name": "stdout",
     "output_type": "stream",
     "text": [
      "Menor fecha de tweet disponible para todos los usuarios: 2018-11-04 23:45:16\n"
     ]
    }
   ],
   "source": [
    "max_of_mins = df.created_at.groupby(df.user__id_str).min().max()\n",
    "print('Menor fecha de tweet disponible para todos los usuarios: {}'.format(max_of_mins))"
   ]
  },
  {
   "cell_type": "markdown",
   "metadata": {},
   "source": [
    "### Histograma de tweets y retweets por fecha"
   ]
  },
  {
   "cell_type": "code",
   "execution_count": 36,
   "metadata": {},
   "outputs": [
    {
     "data": {
      "text/plain": [
       "<matplotlib.axes._subplots.AxesSubplot at 0x7f4394df7828>"
      ]
     },
     "execution_count": 36,
     "metadata": {},
     "output_type": "execute_result"
    },
    {
     "data": {
      "image/png": "[encoded data removed]",
      "text/plain": [
       "<Figure size 432x288 with 1 Axes>"
      ]
     },
     "metadata": {
      "needs_background": "light"
     },
     "output_type": "display_data"
    }
   ],
   "source": [
    "df.created_at.groupby(df[\"created_at\"].dt.date).count().plot(kind=\"bar\")"
   ]
  },
  {
   "cell_type": "code",
   "execution_count": 12,
   "metadata": {
    "scrolled": true
   },
   "outputs": [
    {
     "data": {
      "text/plain": [
       "<matplotlib.axes._subplots.AxesSubplot at 0x7f2c96452828>"
      ]
     },
     "execution_count": 12,
     "metadata": {},
     "output_type": "execute_result"
    },
    {
     "data": {
      "image/png": "[encoded data removed]",
      "text/plain": [
       "<Figure size 432x288 with 1 Axes>"
      ]
     },
     "metadata": {
      "needs_background": "light"
     },
     "output_type": "display_data"
    }
   ],
   "source": [
    "# retweets\n",
    "df.created_at.groupby(df_only_rt()[\"created_at\"].dt.date).count().plot(kind=\"bar\")"
   ]
  },
  {
   "cell_type": "markdown",
   "metadata": {},
   "source": [
    "### Histograma de tweets y retweets por hora\n",
    "\n",
    "Nota: se dejan afuera las primeras n horas por exceder los ordenes de magnitud para el ploteo"
   ]
  },
  {
   "cell_type": "code",
   "execution_count": 20,
   "metadata": {},
   "outputs": [],
   "source": [
    "### retweets por hora\n",
    "df['time_diff'] = df_only_rt().created_at - df_only_rt().retweeted_status__created_at\n",
    "counts_per_hour = df_only_rt().time_diff.groupby((df_only_rt().time_diff / np.timedelta64(1, 'D')).round(0)).count()"
   ]
  },
  {
   "cell_type": "code",
   "execution_count": 22,
   "metadata": {},
   "outputs": [
    {
     "name": "stdout",
     "output_type": "stream",
     "text": [
      "time_diff\n",
      "0.0    89496\n",
      "1.0    15610\n",
      "2.0     2305\n",
      "Name: time_diff, dtype: int64\n"
     ]
    },
    {
     "data": {
      "text/plain": [
       "<matplotlib.axes._subplots.AxesSubplot at 0x7f1437dcd320>"
      ]
     },
     "execution_count": 22,
     "metadata": {},
     "output_type": "execute_result"
    },
    {
     "data": {
      "image/png": "[encoded data removed]",
      "text/plain": [
       "<Figure size 432x288 with 1 Axes>"
      ]
     },
     "metadata": {
      "needs_background": "light"
     },
     "output_type": "display_data"
    }
   ],
   "source": [
    "n_head_outliers = 3\n",
    "first_n_hours_considered = 56\n",
    "\n",
    "print(counts_per_hour.head(n_head_outliers))\n",
    "counts_per_hour.head(first_n_hours_considered)[n_head_outliers:].plot(kind=\"line\")"
   ]
  },
  {
   "cell_type": "code",
   "execution_count": 66,
   "metadata": {},
   "outputs": [
    {
     "data": {
      "text/plain": [
       "numpy.timedelta64(3,'m')"
      ]
     },
     "execution_count": 66,
     "metadata": {},
     "output_type": "execute_result"
    }
   ],
   "source": [
    "## FALTA EL PROMEDIO DE RETWEETS!!"
   ]
  },
  {
   "cell_type": "code",
   "execution_count": null,
   "metadata": {},
   "outputs": [],
   "source": []
  },
  {
   "cell_type": "markdown",
   "metadata": {},
   "source": [
    "### Retweets por hora de los primeros n tweets"
   ]
  },
  {
   "cell_type": "code",
   "execution_count": 45,
   "metadata": {
    "scrolled": false
   },
   "outputs": [
    {
     "data": {
      "text/html": [
       "<div>\n",
       "<style scoped>\n",
       "    .dataframe tbody tr th:only-of-type {\n",
       "        vertical-align: middle;\n",
       "    }\n",
       "\n",
       "    .dataframe tbody tr th {\n",
       "        vertical-align: top;\n",
       "    }\n",
       "\n",
       "    .dataframe thead th {\n",
       "        text-align: right;\n",
       "    }\n",
       "</style>\n",
       "<table border=\"1\" class=\"dataframe\">\n",
       "  <thead>\n",
       "    <tr style=\"text-align: right;\">\n",
       "      <th></th>\n",
       "      <th>created_at</th>\n",
       "      <th>user__id_str</th>\n",
       "      <th>id_str</th>\n",
       "      <th>text</th>\n",
       "      <th>retweeted_status__id_str</th>\n",
       "      <th>retweeted_status__user__id_str</th>\n",
       "      <th>retweeted_status__created_at</th>\n",
       "      <th>retweet_count</th>\n",
       "      <th>in_reply_to_status_id_str</th>\n",
       "      <th>time_diff</th>\n",
       "    </tr>\n",
       "  </thead>\n",
       "  <tbody>\n",
       "    <tr>\n",
       "      <th>49764</th>\n",
       "      <td>2018-10-29 14:35:04</td>\n",
       "      <td>92430621</td>\n",
       "      <td>1056917339290054656</td>\n",
       "      <td>RT @ErickHdz56: Flip your phone upside down ht...</td>\n",
       "      <td>1056643476840955905</td>\n",
       "      <td>772540557289586689</td>\n",
       "      <td>2018-10-28 20:26:51</td>\n",
       "      <td>385289</td>\n",
       "      <td>NaN</td>\n",
       "      <td>0 days 18:08:13</td>\n",
       "    </tr>\n",
       "    <tr>\n",
       "      <th>185157</th>\n",
       "      <td>2018-10-31 02:18:03</td>\n",
       "      <td>149714641</td>\n",
       "      <td>1057456638439890949</td>\n",
       "      <td>RT @keepdwightgirl: Halloween is canceled http...</td>\n",
       "      <td>1056986168024330240</td>\n",
       "      <td>24520812</td>\n",
       "      <td>2018-10-29 19:08:34</td>\n",
       "      <td>323799</td>\n",
       "      <td>NaN</td>\n",
       "      <td>1 days 07:09:29</td>\n",
       "    </tr>\n",
       "    <tr>\n",
       "      <th>174178</th>\n",
       "      <td>2018-10-31 10:18:01</td>\n",
       "      <td>154602995</td>\n",
       "      <td>1057577426228776961</td>\n",
       "      <td>RT @keepdwightgirl: Halloween is canceled http...</td>\n",
       "      <td>1056986168024330240</td>\n",
       "      <td>24520812</td>\n",
       "      <td>2018-10-29 19:08:34</td>\n",
       "      <td>323712</td>\n",
       "      <td>NaN</td>\n",
       "      <td>1 days 15:09:27</td>\n",
       "    </tr>\n",
       "    <tr>\n",
       "      <th>144863</th>\n",
       "      <td>2018-10-30 02:21:08</td>\n",
       "      <td>195412602</td>\n",
       "      <td>1057095025652350977</td>\n",
       "      <td>RT @keepdwightgirl: Halloween is canceled http...</td>\n",
       "      <td>1056986168024330240</td>\n",
       "      <td>24520812</td>\n",
       "      <td>2018-10-29 19:08:34</td>\n",
       "      <td>258793</td>\n",
       "      <td>NaN</td>\n",
       "      <td>0 days 07:12:34</td>\n",
       "    </tr>\n",
       "    <tr>\n",
       "      <th>143782</th>\n",
       "      <td>2018-10-30 12:08:24</td>\n",
       "      <td>28633244</td>\n",
       "      <td>1057242817330855937</td>\n",
       "      <td>RT @keepdwightgirl: Halloween is canceled http...</td>\n",
       "      <td>1056986168024330240</td>\n",
       "      <td>24520812</td>\n",
       "      <td>2018-10-29 19:08:34</td>\n",
       "      <td>258741</td>\n",
       "      <td>NaN</td>\n",
       "      <td>0 days 16:59:50</td>\n",
       "    </tr>\n",
       "  </tbody>\n",
       "</table>\n",
       "</div>"
      ],
      "text/plain": [
       "                created_at user__id_str               id_str  \\\n",
       "49764  2018-10-29 14:35:04     92430621  1056917339290054656   \n",
       "185157 2018-10-31 02:18:03    149714641  1057456638439890949   \n",
       "174178 2018-10-31 10:18:01    154602995  1057577426228776961   \n",
       "144863 2018-10-30 02:21:08    195412602  1057095025652350977   \n",
       "143782 2018-10-30 12:08:24     28633244  1057242817330855937   \n",
       "\n",
       "                                                     text  \\\n",
       "49764   RT @ErickHdz56: Flip your phone upside down ht...   \n",
       "185157  RT @keepdwightgirl: Halloween is canceled http...   \n",
       "174178  RT @keepdwightgirl: Halloween is canceled http...   \n",
       "144863  RT @keepdwightgirl: Halloween is canceled http...   \n",
       "143782  RT @keepdwightgirl: Halloween is canceled http...   \n",
       "\n",
       "       retweeted_status__id_str retweeted_status__user__id_str  \\\n",
       "49764       1056643476840955905             772540557289586689   \n",
       "185157      1056986168024330240                       24520812   \n",
       "174178      1056986168024330240                       24520812   \n",
       "144863      1056986168024330240                       24520812   \n",
       "143782      1056986168024330240                       24520812   \n",
       "\n",
       "       retweeted_status__created_at  retweet_count in_reply_to_status_id_str  \\\n",
       "49764           2018-10-28 20:26:51         385289                       NaN   \n",
       "185157          2018-10-29 19:08:34         323799                       NaN   \n",
       "174178          2018-10-29 19:08:34         323712                       NaN   \n",
       "144863          2018-10-29 19:08:34         258793                       NaN   \n",
       "143782          2018-10-29 19:08:34         258741                       NaN   \n",
       "\n",
       "             time_diff  \n",
       "49764  0 days 18:08:13  \n",
       "185157 1 days 07:09:29  \n",
       "174178 1 days 15:09:27  \n",
       "144863 0 days 07:12:34  \n",
       "143782 0 days 16:59:50  "
      ]
     },
     "execution_count": 45,
     "metadata": {},
     "output_type": "execute_result"
    }
   ],
   "source": [
    "n = 5\n",
    "top_retweeted = df.nlargest(5, 'retweet_count')\n",
    "top_retweeted"
   ]
  },
  {
   "cell_type": "markdown",
   "metadata": {},
   "source": [
    "Primer intento: ¿los tweets con más retweet counts aparecen en los storylines de otros users considerados?"
   ]
  },
  {
   "cell_type": "code",
   "execution_count": 47,
   "metadata": {},
   "outputs": [
    {
     "name": "stdout",
     "output_type": "stream",
     "text": [
      "0\n",
      "0\n",
      "0\n",
      "0\n",
      "0\n"
     ]
    }
   ],
   "source": [
    "for t_id in top_retweeted.id_str:\n",
    "    retweeted = df[df.retweeted_status__id_str == str(t_id)]\n",
    "    print(retweeted.shape[0])"
   ]
  },
  {
   "cell_type": "markdown",
   "metadata": {},
   "source": [
    "Segundo intento: considerar los top retweet_counts que sí ..."
   ]
  },
  {
   "cell_type": "code",
   "execution_count": 35,
   "metadata": {
    "scrolled": false
   },
   "outputs": [
    {
     "ename": "TypeError",
     "evalue": "Empty 'DataFrame': no numeric data to plot",
     "output_type": "error",
     "traceback": [
      "\u001b[0;31m---------------------------------------------------------------------------\u001b[0m",
      "\u001b[0;31mTypeError\u001b[0m                                 Traceback (most recent call last)",
      "\u001b[0;32mcell_name\u001b[0m in \u001b[0;36masync-def-wrapper\u001b[0;34m()\u001b[0m\n",
      "\u001b[0;32m~/.virtualenvs/sna-famaf/lib/python3.6/site-packages/pandas/plotting/_core.py\u001b[0m in \u001b[0;36m__call__\u001b[0;34m(self, kind, ax, figsize, use_index, title, grid, legend, style, logx, logy, loglog, xticks, yticks, xlim, ylim, rot, fontsize, colormap, table, yerr, xerr, label, secondary_y, **kwds)\u001b[0m\n\u001b[1;32m   2739\u001b[0m                            \u001b[0mcolormap\u001b[0m\u001b[0;34m=\u001b[0m\u001b[0mcolormap\u001b[0m\u001b[0;34m,\u001b[0m \u001b[0mtable\u001b[0m\u001b[0;34m=\u001b[0m\u001b[0mtable\u001b[0m\u001b[0;34m,\u001b[0m \u001b[0myerr\u001b[0m\u001b[0;34m=\u001b[0m\u001b[0myerr\u001b[0m\u001b[0;34m,\u001b[0m\u001b[0;34m\u001b[0m\u001b[0;34m\u001b[0m\u001b[0m\n\u001b[1;32m   2740\u001b[0m                            \u001b[0mxerr\u001b[0m\u001b[0;34m=\u001b[0m\u001b[0mxerr\u001b[0m\u001b[0;34m,\u001b[0m \u001b[0mlabel\u001b[0m\u001b[0;34m=\u001b[0m\u001b[0mlabel\u001b[0m\u001b[0;34m,\u001b[0m \u001b[0msecondary_y\u001b[0m\u001b[0;34m=\u001b[0m\u001b[0msecondary_y\u001b[0m\u001b[0;34m,\u001b[0m\u001b[0;34m\u001b[0m\u001b[0;34m\u001b[0m\u001b[0m\n\u001b[0;32m-> 2741\u001b[0;31m                            **kwds)\n\u001b[0m\u001b[1;32m   2742\u001b[0m     \u001b[0m__call__\u001b[0m\u001b[0;34m.\u001b[0m\u001b[0m__doc__\u001b[0m \u001b[0;34m=\u001b[0m \u001b[0mplot_series\u001b[0m\u001b[0;34m.\u001b[0m\u001b[0m__doc__\u001b[0m\u001b[0;34m\u001b[0m\u001b[0;34m\u001b[0m\u001b[0m\n\u001b[1;32m   2743\u001b[0m \u001b[0;34m\u001b[0m\u001b[0m\n",
      "\u001b[0;32m~/.virtualenvs/sna-famaf/lib/python3.6/site-packages/pandas/plotting/_core.py\u001b[0m in \u001b[0;36mplot_series\u001b[0;34m(data, kind, ax, figsize, use_index, title, grid, legend, style, logx, logy, loglog, xticks, yticks, xlim, ylim, rot, fontsize, colormap, table, yerr, xerr, label, secondary_y, **kwds)\u001b[0m\n\u001b[1;32m   2000\u001b[0m                  \u001b[0myerr\u001b[0m\u001b[0;34m=\u001b[0m\u001b[0myerr\u001b[0m\u001b[0;34m,\u001b[0m \u001b[0mxerr\u001b[0m\u001b[0;34m=\u001b[0m\u001b[0mxerr\u001b[0m\u001b[0;34m,\u001b[0m\u001b[0;34m\u001b[0m\u001b[0;34m\u001b[0m\u001b[0m\n\u001b[1;32m   2001\u001b[0m                  \u001b[0mlabel\u001b[0m\u001b[0;34m=\u001b[0m\u001b[0mlabel\u001b[0m\u001b[0;34m,\u001b[0m \u001b[0msecondary_y\u001b[0m\u001b[0;34m=\u001b[0m\u001b[0msecondary_y\u001b[0m\u001b[0;34m,\u001b[0m\u001b[0;34m\u001b[0m\u001b[0;34m\u001b[0m\u001b[0m\n\u001b[0;32m-> 2002\u001b[0;31m                  **kwds)\n\u001b[0m\u001b[1;32m   2003\u001b[0m \u001b[0;34m\u001b[0m\u001b[0m\n\u001b[1;32m   2004\u001b[0m \u001b[0;34m\u001b[0m\u001b[0m\n",
      "\u001b[0;32m~/.virtualenvs/sna-famaf/lib/python3.6/site-packages/pandas/plotting/_core.py\u001b[0m in \u001b[0;36m_plot\u001b[0;34m(data, x, y, subplots, ax, kind, **kwds)\u001b[0m\n\u001b[1;32m   1802\u001b[0m         \u001b[0mplot_obj\u001b[0m \u001b[0;34m=\u001b[0m \u001b[0mklass\u001b[0m\u001b[0;34m(\u001b[0m\u001b[0mdata\u001b[0m\u001b[0;34m,\u001b[0m \u001b[0msubplots\u001b[0m\u001b[0;34m=\u001b[0m\u001b[0msubplots\u001b[0m\u001b[0;34m,\u001b[0m \u001b[0max\u001b[0m\u001b[0;34m=\u001b[0m\u001b[0max\u001b[0m\u001b[0;34m,\u001b[0m \u001b[0mkind\u001b[0m\u001b[0;34m=\u001b[0m\u001b[0mkind\u001b[0m\u001b[0;34m,\u001b[0m \u001b[0;34m**\u001b[0m\u001b[0mkwds\u001b[0m\u001b[0;34m)\u001b[0m\u001b[0;34m\u001b[0m\u001b[0;34m\u001b[0m\u001b[0m\n\u001b[1;32m   1803\u001b[0m \u001b[0;34m\u001b[0m\u001b[0m\n\u001b[0;32m-> 1804\u001b[0;31m     \u001b[0mplot_obj\u001b[0m\u001b[0;34m.\u001b[0m\u001b[0mgenerate\u001b[0m\u001b[0;34m(\u001b[0m\u001b[0;34m)\u001b[0m\u001b[0;34m\u001b[0m\u001b[0;34m\u001b[0m\u001b[0m\n\u001b[0m\u001b[1;32m   1805\u001b[0m     \u001b[0mplot_obj\u001b[0m\u001b[0;34m.\u001b[0m\u001b[0mdraw\u001b[0m\u001b[0;34m(\u001b[0m\u001b[0;34m)\u001b[0m\u001b[0;34m\u001b[0m\u001b[0;34m\u001b[0m\u001b[0m\n\u001b[1;32m   1806\u001b[0m     \u001b[0;32mreturn\u001b[0m \u001b[0mplot_obj\u001b[0m\u001b[0;34m.\u001b[0m\u001b[0mresult\u001b[0m\u001b[0;34m\u001b[0m\u001b[0;34m\u001b[0m\u001b[0m\n",
      "\u001b[0;32m~/.virtualenvs/sna-famaf/lib/python3.6/site-packages/pandas/plotting/_core.py\u001b[0m in \u001b[0;36mgenerate\u001b[0;34m(self)\u001b[0m\n\u001b[1;32m    256\u001b[0m     \u001b[0;32mdef\u001b[0m \u001b[0mgenerate\u001b[0m\u001b[0;34m(\u001b[0m\u001b[0mself\u001b[0m\u001b[0;34m)\u001b[0m\u001b[0;34m:\u001b[0m\u001b[0;34m\u001b[0m\u001b[0;34m\u001b[0m\u001b[0m\n\u001b[1;32m    257\u001b[0m         \u001b[0mself\u001b[0m\u001b[0;34m.\u001b[0m\u001b[0m_args_adjust\u001b[0m\u001b[0;34m(\u001b[0m\u001b[0;34m)\u001b[0m\u001b[0;34m\u001b[0m\u001b[0;34m\u001b[0m\u001b[0m\n\u001b[0;32m--> 258\u001b[0;31m         \u001b[0mself\u001b[0m\u001b[0;34m.\u001b[0m\u001b[0m_compute_plot_data\u001b[0m\u001b[0;34m(\u001b[0m\u001b[0;34m)\u001b[0m\u001b[0;34m\u001b[0m\u001b[0;34m\u001b[0m\u001b[0m\n\u001b[0m\u001b[1;32m    259\u001b[0m         \u001b[0mself\u001b[0m\u001b[0;34m.\u001b[0m\u001b[0m_setup_subplots\u001b[0m\u001b[0;34m(\u001b[0m\u001b[0;34m)\u001b[0m\u001b[0;34m\u001b[0m\u001b[0;34m\u001b[0m\u001b[0m\n\u001b[1;32m    260\u001b[0m         \u001b[0mself\u001b[0m\u001b[0;34m.\u001b[0m\u001b[0m_make_plot\u001b[0m\u001b[0;34m(\u001b[0m\u001b[0;34m)\u001b[0m\u001b[0;34m\u001b[0m\u001b[0;34m\u001b[0m\u001b[0m\n",
      "\u001b[0;32m~/.virtualenvs/sna-famaf/lib/python3.6/site-packages/pandas/plotting/_core.py\u001b[0m in \u001b[0;36m_compute_plot_data\u001b[0;34m(self)\u001b[0m\n\u001b[1;32m    371\u001b[0m         \u001b[0;32mif\u001b[0m \u001b[0mis_empty\u001b[0m\u001b[0;34m:\u001b[0m\u001b[0;34m\u001b[0m\u001b[0;34m\u001b[0m\u001b[0m\n\u001b[1;32m    372\u001b[0m             raise TypeError('Empty {0!r}: no numeric data to '\n\u001b[0;32m--> 373\u001b[0;31m                             'plot'.format(numeric_data.__class__.__name__))\n\u001b[0m\u001b[1;32m    374\u001b[0m \u001b[0;34m\u001b[0m\u001b[0m\n\u001b[1;32m    375\u001b[0m         \u001b[0mself\u001b[0m\u001b[0;34m.\u001b[0m\u001b[0mdata\u001b[0m \u001b[0;34m=\u001b[0m \u001b[0mnumeric_data\u001b[0m\u001b[0;34m\u001b[0m\u001b[0;34m\u001b[0m\u001b[0m\n",
      "\u001b[0;31mTypeError\u001b[0m: Empty 'DataFrame': no numeric data to plot"
     ]
    }
   ],
   "source": [
    "for t_id in top_retweeted.id_str:\n",
    "    retweeted = df[df.retweeted_status__id_str == str(t_id)]\n",
    "    retweeted['time_diff'] = retweeted.created_at - retweeted.retweeted_status__created_at\n",
    "    retweeted.time_diff.groupby((retweeted.time_diff / np.timedelta64(1, 'h')).round(0)).count().plot(kind=\"bar\")"
   ]
  },
  {
   "cell_type": "code",
   "execution_count": 44,
   "metadata": {},
   "outputs": [
    {
     "data": {
      "text/plain": [
       "<matplotlib.axes._subplots.AxesSubplot at 0x7f4397fce390>"
      ]
     },
     "execution_count": 44,
     "metadata": {},
     "output_type": "execute_result"
    },
    {
     "data": {
      "image/png": "[encoded data removed]",
      "text/plain": [
       "<Figure size 432x288 with 1 Axes>"
      ]
     },
     "metadata": {
      "needs_background": "light"
     },
     "output_type": "display_data"
    }
   ],
   "source": [
    "retweeted = df[df.retweeted_status__id_str == str(1056986168024330240)]\n",
    "retweeted.created_at.groupby(retweeted[\"created_at\"].dt.hour).count().plot(kind=\"line\")"
   ]
  },
  {
   "cell_type": "code",
   "execution_count": 37,
   "metadata": {},
   "outputs": [
    {
     "name": "stdout",
     "output_type": "stream",
     "text": [
      "created_at                                                      2018-10-29 14:35:04\n",
      "user__id_str                                                               92430621\n",
      "id_str                                                          1056917339290054656\n",
      "text                              RT @ErickHdz56: Flip your phone upside down ht...\n",
      "retweeted_status__id_str                                        1056643476840955905\n",
      "retweeted_status__user__id_str                                   772540557289586689\n",
      "retweeted_status__created_at                                    2018-10-28 20:26:51\n",
      "retweet_count                                                                385289\n",
      "in_reply_to_status_id_str                                                       NaN\n",
      "Name: 49764, dtype: object\n",
      "49764\n",
      "<class 'int'>\n"
     ]
    }
   ],
   "source": [
    "row_max_rt = df.retweet_count.idxmax()\n",
    "print(df.iloc[row_max_rt, :])\n",
    "print(row_max_rt)\n",
    "print(type(row_max_rt))"
   ]
  }
 ],
 "metadata": {
  "kernelspec": {
   "display_name": "Python 3",
   "language": "python",
   "name": "python3"
  },
  "language_info": {
   "codemirror_mode": {
    "name": "ipython",
    "version": 3
   },
   "file_extension": ".py",
   "mimetype": "text/x-python",
   "name": "python",
   "nbconvert_exporter": "python",
   "pygments_lexer": "ipython3",
   "version": "3.6.6"
  }
 },
 "nbformat": 4,
 "nbformat_minor": 2
}
