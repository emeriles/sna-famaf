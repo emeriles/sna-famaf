{
 "cells": [
  {
   "cell_type": "code",
   "execution_count": 1,
   "metadata": {},
   "outputs": [],
   "source": [
    "csv_path =\"/home/mmeriles/dataset/full_dataset.csv\""
   ]
  },
  {
   "cell_type": "code",
   "execution_count": 2,
   "metadata": {},
   "outputs": [],
   "source": [
    "import pandas as pd\n",
    "import pickle\n",
    "from db import DBHandler\n",
    "import numpy as np\n",
    "import matplotlib.pyplot as plt\n",
    "%matplotlib inline"
   ]
  },
  {
   "cell_type": "code",
   "execution_count": 3,
   "metadata": {},
   "outputs": [
    {
     "name": "stdout",
     "output_type": "stream",
     "text": [
      "CPU times: user 49min 36s, sys: 9.51 s, total: 49min 46s\n",
      "Wall time: 49min 46s\n"
     ]
    }
   ],
   "source": [
    "%%time\n",
    "\n",
    "dtypes = {\n",
    "    'user.id_str': str,\n",
    "    'id_str': str,\n",
    "    'text': str,\n",
    "    'retweeted_status.id_str': str ,\n",
    "    'retweeted_status.user.id_str': str,\n",
    "    'retweet_count': int,\n",
    "    'quoted_status_id_str': str,\n",
    "}\n",
    "df = pd.read_csv(csv_path, dtype=dtypes)\n",
    "\n",
    "# parse dates\n",
    "datetime_cols = [c for c in df.columns if 'created_at' in c]\n",
    "for c in datetime_cols:\n",
    "    df[c] = pd.to_datetime(df[c])\n",
    "\n",
    "# reemplazar nombre de columnas: . por __ para sintactic sugar de pandas.\n",
    "df.rename(columns=lambda x: x.replace('.', '__'), inplace=True)"
   ]
  },
  {
   "cell_type": "code",
   "execution_count": 4,
   "metadata": {},
   "outputs": [
    {
     "data": {
      "text/html": [
       "<div>\n",
       "<style scoped>\n",
       "    .dataframe tbody tr th:only-of-type {\n",
       "        vertical-align: middle;\n",
       "    }\n",
       "\n",
       "    .dataframe tbody tr th {\n",
       "        vertical-align: top;\n",
       "    }\n",
       "\n",
       "    .dataframe thead th {\n",
       "        text-align: right;\n",
       "    }\n",
       "</style>\n",
       "<table border=\"1\" class=\"dataframe\">\n",
       "  <thead>\n",
       "    <tr style=\"text-align: right;\">\n",
       "      <th></th>\n",
       "      <th>created_at</th>\n",
       "      <th>user__id_str</th>\n",
       "      <th>id_str</th>\n",
       "      <th>text</th>\n",
       "      <th>retweeted_status__id_str</th>\n",
       "      <th>retweeted_status__user__id_str</th>\n",
       "      <th>retweeted_status__created_at</th>\n",
       "      <th>retweet_count</th>\n",
       "      <th>quoted_status_id_str</th>\n",
       "    </tr>\n",
       "  </thead>\n",
       "  <tbody>\n",
       "    <tr>\n",
       "      <th>15633828</th>\n",
       "      <td>2014-11-15 22:00:54</td>\n",
       "      <td>517662064</td>\n",
       "      <td>533741455916142593</td>\n",
       "      <td>3 Pasos que te ayudarán a concretar ventas en ...</td>\n",
       "      <td>NaN</td>\n",
       "      <td>NaN</td>\n",
       "      <td>NaT</td>\n",
       "      <td>0</td>\n",
       "      <td>NaN</td>\n",
       "    </tr>\n",
       "    <tr>\n",
       "      <th>15633829</th>\n",
       "      <td>2014-11-15 16:47:32</td>\n",
       "      <td>517662064</td>\n",
       "      <td>533662594352291840</td>\n",
       "      <td>RT @soymercadologo: ¿Cómo crear un concurso de...</td>\n",
       "      <td>533401510814560259</td>\n",
       "      <td>586259297</td>\n",
       "      <td>2014-11-14 23:30:04</td>\n",
       "      <td>1</td>\n",
       "      <td>NaN</td>\n",
       "    </tr>\n",
       "    <tr>\n",
       "      <th>15633830</th>\n",
       "      <td>2014-11-14 22:34:08</td>\n",
       "      <td>517662064</td>\n",
       "      <td>533387430976831488</td>\n",
       "      <td>3 Pasos que te ayudarán a concretar ventas en ...</td>\n",
       "      <td>NaN</td>\n",
       "      <td>NaN</td>\n",
       "      <td>NaT</td>\n",
       "      <td>0</td>\n",
       "      <td>NaN</td>\n",
       "    </tr>\n",
       "    <tr>\n",
       "      <th>15633831</th>\n",
       "      <td>2014-11-14 22:30:31</td>\n",
       "      <td>517662064</td>\n",
       "      <td>533386523807604736</td>\n",
       "      <td>@muriel74 Por nada, ¡a lucirla ahora! :)</td>\n",
       "      <td>NaN</td>\n",
       "      <td>NaN</td>\n",
       "      <td>NaT</td>\n",
       "      <td>0</td>\n",
       "      <td>NaN</td>\n",
       "    </tr>\n",
       "    <tr>\n",
       "      <th>15633832</th>\n",
       "      <td>2014-11-14 22:25:14</td>\n",
       "      <td>517662064</td>\n",
       "      <td>533385193252737024</td>\n",
       "      <td>RT @Same09b: ¿Qué red social va a generarte me...</td>\n",
       "      <td>533384367112876033</td>\n",
       "      <td>729712033</td>\n",
       "      <td>2014-11-14 22:21:57</td>\n",
       "      <td>1</td>\n",
       "      <td>NaN</td>\n",
       "    </tr>\n",
       "  </tbody>\n",
       "</table>\n",
       "</div>"
      ],
      "text/plain": [
       "                  created_at user__id_str              id_str  \\\n",
       "15633828 2014-11-15 22:00:54    517662064  533741455916142593   \n",
       "15633829 2014-11-15 16:47:32    517662064  533662594352291840   \n",
       "15633830 2014-11-14 22:34:08    517662064  533387430976831488   \n",
       "15633831 2014-11-14 22:30:31    517662064  533386523807604736   \n",
       "15633832 2014-11-14 22:25:14    517662064  533385193252737024   \n",
       "\n",
       "                                                       text  \\\n",
       "15633828  3 Pasos que te ayudarán a concretar ventas en ...   \n",
       "15633829  RT @soymercadologo: ¿Cómo crear un concurso de...   \n",
       "15633830  3 Pasos que te ayudarán a concretar ventas en ...   \n",
       "15633831           @muriel74 Por nada, ¡a lucirla ahora! :)   \n",
       "15633832  RT @Same09b: ¿Qué red social va a generarte me...   \n",
       "\n",
       "         retweeted_status__id_str retweeted_status__user__id_str  \\\n",
       "15633828                      NaN                            NaN   \n",
       "15633829       533401510814560259                      586259297   \n",
       "15633830                      NaN                            NaN   \n",
       "15633831                      NaN                            NaN   \n",
       "15633832       533384367112876033                      729712033   \n",
       "\n",
       "         retweeted_status__created_at  retweet_count quoted_status_id_str  \n",
       "15633828                          NaT              0                  NaN  \n",
       "15633829          2014-11-14 23:30:04              1                  NaN  \n",
       "15633830                          NaT              0                  NaN  \n",
       "15633831                          NaT              0                  NaN  \n",
       "15633832          2014-11-14 22:21:57              1                  NaN  "
      ]
     },
     "execution_count": 4,
     "metadata": {},
     "output_type": "execute_result"
    }
   ],
   "source": [
    "df.tail()"
   ]
  },
  {
   "cell_type": "code",
   "execution_count": 5,
   "metadata": {
    "scrolled": false
   },
   "outputs": [],
   "source": [
    "### READ FROM MONGODB CONNECTION\n",
    "\n",
    "\n",
    "# h = DBHandler(port=27017)\n",
    "\n",
    "# columns = ['created_at', 'id_str', 'retweet_count', 'retweeted_status__id_str', 'retweeted_status__created_at']\n",
    "# separator = '__'\n",
    "# project = ({f_name: '$' + f_name.replace(separator, '.') for f_name in columns})\n",
    "# project.update({'retweeted_status': '$retweeted_status.id_str'})\n",
    "\n",
    "\n",
    "# cursor = h.tweet_collection.aggregate([\n",
    "#     {'$project': project}\n",
    "# ])\n",
    "# df = pd.DataFrame(list(cursor))\n",
    "\n",
    "# # datatype conversion\n",
    "# datetime_cols = [c for c in df.columns if 'created_at' in c]\n",
    "# for c in datetime_cols:\n",
    "#     df[c] = pd.to_datetime(df[c])"
   ]
  },
  {
   "cell_type": "code",
   "execution_count": 6,
   "metadata": {},
   "outputs": [],
   "source": [
    "# usefull aliases\n",
    "def df_only_rt(data_f):\n",
    "    return data_f[data_f.retweeted_status__id_str.notna()]\n",
    "\n",
    "def df_not_rt(data_f):\n",
    "    return data_f[data_f.retweeted_status__id_str.isna()]\n",
    "\n",
    "def df_commented(data_f):\n",
    "    return data_f[data_f.quoted_status_id_str.notna()]"
   ]
  },
  {
   "cell_type": "markdown",
   "metadata": {},
   "source": [
    "### Basic counts"
   ]
  },
  {
   "cell_type": "code",
   "execution_count": 7,
   "metadata": {},
   "outputs": [
    {
     "name": "stdout",
     "output_type": "stream",
     "text": [
      "Hay 5338 usuarios en el dataset.\n",
      "Hay 15633833 tweets en el dataset.\n",
      "CPU times: user 17.1 s, sys: 524 ms, total: 17.6 s\n",
      "Wall time: 17.6 s\n"
     ]
    }
   ],
   "source": [
    "%%time\n",
    "quantity_of_users_on_ds = df.user__id_str.value_counts().count()\n",
    "quantity_of_tweets_on_ds = df.id_str.value_counts().count()\n",
    "print('Hay {} usuarios en el dataset.'.format(quantity_of_users_on_ds))\n",
    "print('Hay {} tweets en el dataset.'.format(quantity_of_tweets_on_ds))"
   ]
  },
  {
   "cell_type": "markdown",
   "metadata": {},
   "source": [
    "# Recorte 1: tomar solo retweets que relacionan nuestros usuarios\n",
    "\n",
    "Para algunos puntos desarrollados se tendrá en cuenta un recorte de dataset: Éste consiste en tomar, de todos los tweets recogidos, sólo aquellos que relacionan nuestros usuarios considerados para el estudio.\n",
    "\n",
    "Se usará 'Global' para referirse a la totalidad de los tweets, y 'Recorte 1' para referirse a la selección mencionada.\n",
    "\n",
    "(Problema 1: el campo retweeted_status devuelve el tweet original, no el tweet que se retweeteo. Es decir que si se trata de un RT de un RT, la relación retweeted_status ignora los intermedios y señala el tweet original.)"
   ]
  },
  {
   "cell_type": "code",
   "execution_count": 8,
   "metadata": {
    "scrolled": false
   },
   "outputs": [
    {
     "name": "stdout",
     "output_type": "stream",
     "text": [
      "RTs que tienen su tweet original en el dataset: 631579\n",
      "RTs que tienen al usuario original en el dataset: 1414880\n",
      "\n",
      "CPU times: user 6.48 s, sys: 244 ms, total: 6.73 s\n",
      "Wall time: 6.68 s\n"
     ]
    }
   ],
   "source": [
    "%%time\n",
    "# estas tres cuentas dan cosas raras!!! (mirar la cantidad tmb, parecida a la cantidad de tweets-no-rt)\n",
    "a = df.retweeted_status__id_str.isin(df.id_str).sum(), \\\n",
    "    df.retweeted_status__user__id_str.isin(df.user__id_str).sum()\n",
    "print('RTs que tienen su tweet original en el dataset: {}\\n'.format(a[0]) +\n",
    "      'RTs que tienen al usuario original en el dataset: {}\\n'.format(a[1]))\n",
    "\n",
    "# (df.id_str tiene tweets originales de nuestros usuarios, por haber levantado timelines.)"
   ]
  },
  {
   "cell_type": "code",
   "execution_count": 9,
   "metadata": {},
   "outputs": [],
   "source": [
    "### PROTOTYPE-FILTERING\n",
    "def df_cut1(data_f):\n",
    "    # tweets originales, o RT que su tweet original está en el dataset.\n",
    "    return data_f[data_f.retweeted_status__id_str.isin(df.id_str) | data_f.retweeted_status__id_str.isna()] # df.id_str -> porque quiero todos mis usuarios!"
   ]
  },
  {
   "cell_type": "markdown",
   "metadata": {},
   "source": [
    "### 1 Proporciones de RT sobre tweets totales"
   ]
  },
  {
   "cell_type": "code",
   "execution_count": 10,
   "metadata": {
    "scrolled": false
   },
   "outputs": [],
   "source": [
    "def print_dataset_proportions(data_f):\n",
    "    cant_rt = df_only_rt(data_f).shape[0]\n",
    "    cant_orig = df_not_rt(data_f).shape[0]\n",
    "    cant_resp = df_commented(data_f).shape[0]\n",
    "    total = data_f.shape[0]\n",
    "    print('Cantidad de tweets originales: \\t\\t{}'.format(cant_orig))\n",
    "    print('Cantidad de RT en el Dataset: \\t\\t{}'.format(cant_rt))\n",
    "    print('Cantidad de respuestas a tweets: \\t{}'.format(cant_resp))\n",
    "    print('Total: \\t\\t\\t\\t\\t{}\\n'.format(total))\n",
    "    cants = pd.DataFrame({'cantidades': [cant_orig, cant_rt , cant_resp]},\n",
    "                         index=['originales', 'retweets', 'respuestas'])\n",
    "    ax = (cants/1000).plot.bar(y='cantidades', figsize=(5, 5), legend=[])\n",
    "    ax.set_title('Cantidades de tweets (miles)')\n",
    "\n",
    "    print('Proporcion de RT sobre total: \\t\\t\\t{}'.format(cant_rt / total))\n",
    "    print('Proporcion de Tweets originales sobre total: \\t{}'.format(cant_orig / total))\n",
    "    print('Proporcion de Tweets respuestas a tweets sobre total: \\t{}\\n'.format(cant_resp / total))\n",
    "\n",
    "    commented_and_retweeted = data_f[(data_f.quoted_status_id_str.notna()) & \\\n",
    "                                     (data_f.retweeted_status__id_str.notna())]\\\n",
    "                                    .shape[0]\n",
    "    commented_and_not_rt = data_f[(data_f.quoted_status_id_str.notna()) & \\\n",
    "                                  (data_f.retweeted_status__id_str.isna())] \\\n",
    "                                 .shape[0]\n",
    "    print('Cantidad tweets comentados y retweeteados: \\t{}'.format(commented_and_retweeted))\n",
    "    print('Cantidad tweets comentados y NO retweeteados: \\t{}'.format(commented_and_not_rt))\n",
    "    print('Intersecciones no vacías?????????? TODO: hacer pruebas de cuál es la diferencia!')"
   ]
  },
  {
   "cell_type": "markdown",
   "metadata": {},
   "source": [
    "### 1.0 Proporciones de RT sobre tweets totales (Global)"
   ]
  },
  {
   "cell_type": "code",
   "execution_count": 11,
   "metadata": {
    "scrolled": false
   },
   "outputs": [
    {
     "name": "stdout",
     "output_type": "stream",
     "text": [
      "Cantidad de tweets originales: \t\t10865441\n",
      "Cantidad de RT en el Dataset: \t\t4768392\n",
      "Cantidad de respuestas a tweets: \t1055479\n",
      "Total: \t\t\t\t\t15633833\n",
      "\n",
      "Proporcion de RT sobre total: \t\t\t0.3050046652027049\n",
      "Proporcion de Tweets originales sobre total: \t0.694995334797295\n",
      "Proporcion de Tweets respuestas a tweets sobre total: \t0.06751249037903885\n",
      "\n"
     ]
    },
    {
     "name": "stdout",
     "output_type": "stream",
     "text": [
      "Cantidad tweets comentados y retweeteados: \t288118\n",
      "Cantidad tweets comentados y NO retweeteados: \t767361\n",
      "Intersecciones no vacías?????????? TODO: hacer pruebas de cuál es la diferencia!\n",
      "CPU times: user 4.43 s, sys: 644 ms, total: 5.08 s\n",
      "Wall time: 5.07 s\n"
     ]
    },
    {
     "data": {
      "image/png": "[encoded data removed]",
      "text/plain": [
       "<Figure size 360x360 with 1 Axes>"
      ]
     },
     "metadata": {
      "needs_background": "light"
     },
     "output_type": "display_data"
    }
   ],
   "source": [
    "%%time\n",
    "print_dataset_proportions(df)"
   ]
  },
  {
   "cell_type": "markdown",
   "metadata": {},
   "source": [
    "### 1.1 Proporciones de RT sobre tweets totales (Recorte 1)"
   ]
  },
  {
   "cell_type": "code",
   "execution_count": 12,
   "metadata": {},
   "outputs": [
    {
     "name": "stdout",
     "output_type": "stream",
     "text": [
      "Cantidad de tweets originales: \t\t10865441\n",
      "Cantidad de RT en el Dataset: \t\t631579\n",
      "Cantidad de respuestas a tweets: \t818516\n",
      "Total: \t\t\t\t\t11497020\n",
      "\n",
      "Proporcion de RT sobre total: \t\t\t0.05493414815317361\n",
      "Proporcion de Tweets originales sobre total: \t0.9450658518468263\n",
      "Proporcion de Tweets respuestas a tweets sobre total: \t0.07119375281594709\n",
      "\n"
     ]
    },
    {
     "name": "stdout",
     "output_type": "stream",
     "text": [
      "Cantidad tweets comentados y retweeteados: \t51155\n",
      "Cantidad tweets comentados y NO retweeteados: \t767361\n",
      "Intersecciones no vacías?????????? TODO: hacer pruebas de cuál es la diferencia!\n",
      "CPU times: user 9.56 s, sys: 644 ms, total: 10.2 s\n",
      "Wall time: 10 s\n"
     ]
    },
    {
     "data": {
      "image/png": "[encoded data removed]",
      "text/plain": [
       "<Figure size 360x360 with 1 Axes>"
      ]
     },
     "metadata": {
      "needs_background": "light"
     },
     "output_type": "display_data"
    }
   ],
   "source": [
    "%%time\n",
    "df_cutted = df_cut1(df)\n",
    "print_dataset_proportions(df_cutted)"
   ]
  },
  {
   "cell_type": "markdown",
   "metadata": {},
   "source": [
    "### 2 Promedio de conteos de retweets (usando retweet_count de la API de twitter)"
   ]
  },
  {
   "cell_type": "code",
   "execution_count": 13,
   "metadata": {},
   "outputs": [],
   "source": [
    "def print_global_retweet_counts(data_f):\n",
    "    avg_retweets_all = data_f.retweet_count.mean()\n",
    "    print('Promedio de retweet counts (todo el dataset): \\t\\t{}'.format(avg_retweets_all))\n",
    "\n",
    "    avg_retweets_nort = df_not_rt(data_f).retweet_count.mean()\n",
    "    print('Promedio de retweet counts (solo tweets originales): \\t{}'.format(avg_retweets_nort))\n",
    "\n",
    "    # as retweets may point to the same tweet, we drop duplicates keeping the most updated one (oldest)\n",
    "    avg_retweets_onlyrt =  df_only_rt(data_f).sort_values('created_at').drop_duplicates('retweeted_status__id_str', keep='last')\\\n",
    "        .retweet_count.mean()\n",
    "    print('Promedio de retweet counts (solo retweets): \\t\\t{}'.format(avg_retweets_onlyrt))"
   ]
  },
  {
   "cell_type": "markdown",
   "metadata": {},
   "source": [
    "### 2.0 Promedio de conteos de retweets (Global)"
   ]
  },
  {
   "cell_type": "code",
   "execution_count": 14,
   "metadata": {},
   "outputs": [
    {
     "name": "stdout",
     "output_type": "stream",
     "text": [
      "Promedio de retweet counts (todo el dataset): \t\t326.6253256638983\n"
     ]
    },
    {
     "name": "stdout",
     "output_type": "stream",
     "text": [
      "Promedio de retweet counts (solo tweets originales): \t34.08526096639796\n"
     ]
    },
    {
     "name": "stdout",
     "output_type": "stream",
     "text": [
      "Promedio de retweet counts (solo retweets): \t\t362.09089196852403\n",
      "CPU times: user 7.04 s, sys: 596 ms, total: 7.64 s\n",
      "Wall time: 7.57 s\n"
     ]
    }
   ],
   "source": [
    "%%time\n",
    "print_global_retweet_counts(df)"
   ]
  },
  {
   "cell_type": "markdown",
   "metadata": {},
   "source": [
    "### 2.1 Promedio de conteos de retweets (Recorte 1)"
   ]
  },
  {
   "cell_type": "code",
   "execution_count": 15,
   "metadata": {},
   "outputs": [
    {
     "name": "stdout",
     "output_type": "stream",
     "text": [
      "Promedio de retweet counts (todo el dataset): \t\t81.11051524655954\n"
     ]
    },
    {
     "name": "stdout",
     "output_type": "stream",
     "text": [
      "Promedio de retweet counts (solo tweets originales): \t34.08526096639796\n"
     ]
    },
    {
     "name": "stdout",
     "output_type": "stream",
     "text": [
      "Promedio de retweet counts (solo retweets): \t\t246.0892303150458\n",
      "CPU times: user 8.94 s, sys: 564 ms, total: 9.5 s\n",
      "Wall time: 9.44 s\n"
     ]
    }
   ],
   "source": [
    "%%time\n",
    "df_cutted = df_cut1(df)\n",
    "print_global_retweet_counts(df_cutted)"
   ]
  },
  {
   "cell_type": "markdown",
   "metadata": {},
   "source": [
    "# Recorte 2: tomar sólo usuarios para los que se trajo el máximo de tweets por fetch_timeline\n",
    "\n",
    "[Aquí](https://developer.twitter.com/en/docs/tweets/timelines/api-reference/get-statuses-user_timeline.html) se puede ver que 3,200 es el máximo de tweets que se puede traer. Se filtra entonces los usuarios para los cuales se extrajo esa cantidad de tweets.\n",
    "\n",
    "Se usará 'Recorte 2' para referirse a esa filtrado de tweets"
   ]
  },
  {
   "cell_type": "code",
   "execution_count": 16,
   "metadata": {},
   "outputs": [],
   "source": [
    "def df_cut2(data_f, max_tweets=3200):\n",
    "    _df_tweets_per_user = data_f.user__id_str.groupby(data_f.user__id_str).count()\n",
    "    data_f['user_tweets_on_dataset'] = _df_tweets_per_user[data_f.user__id_str.values].values\n",
    "    return data_f[data_f.user_tweets_on_dataset >= max_tweets]"
   ]
  },
  {
   "cell_type": "markdown",
   "metadata": {},
   "source": [
    "\n",
    "### 3 Ventanas de tiempo recogidas"
   ]
  },
  {
   "cell_type": "code",
   "execution_count": 17,
   "metadata": {},
   "outputs": [],
   "source": [
    "def print_time_windows(data_f):\n",
    "    print('Tweet más temprano en el tiempo: \\t{}'.format(data_f.created_at.min()))\n",
    "    print('Tweet más tardío en el tiempo: \\t\\t{}'.format(data_f.created_at.max()))\n",
    "\n",
    "    max_of_mins = data_f.created_at.groupby(data_f.user__id_str).min().max()\n",
    "    print('Menor fecha de tweet disponible para todos los usuarios: {}'.format(max_of_mins))"
   ]
  },
  {
   "cell_type": "markdown",
   "metadata": {},
   "source": [
    "### 3.0 Ventanas de tiempo recogidas (Global)"
   ]
  },
  {
   "cell_type": "code",
   "execution_count": 18,
   "metadata": {},
   "outputs": [
    {
     "name": "stdout",
     "output_type": "stream",
     "text": [
      "Tweet más temprano en el tiempo: \t2006-12-08 06:25:25\n"
     ]
    },
    {
     "name": "stdout",
     "output_type": "stream",
     "text": [
      "Tweet más tardío en el tiempo: \t\t2018-10-30 00:35:36\n"
     ]
    },
    {
     "name": "stdout",
     "output_type": "stream",
     "text": [
      "Menor fecha de tweet disponible para todos los usuarios: 2018-10-24 15:35:09\n",
      "CPU times: user 688 ms, sys: 172 ms, total: 860 ms\n",
      "Wall time: 871 ms\n"
     ]
    }
   ],
   "source": [
    "%%time\n",
    "print_time_windows(df)"
   ]
  },
  {
   "cell_type": "markdown",
   "metadata": {},
   "source": [
    "### 3.1 Ventanas de tiempo recogidas (Recorte 1)"
   ]
  },
  {
   "cell_type": "code",
   "execution_count": 19,
   "metadata": {
    "scrolled": false
   },
   "outputs": [
    {
     "name": "stdout",
     "output_type": "stream",
     "text": [
      "Tweet más temprano en el tiempo: \t2006-12-08 06:25:25\n",
      "Tweet más tardío en el tiempo: \t\t2018-10-30 00:33:24\n"
     ]
    },
    {
     "name": "stdout",
     "output_type": "stream",
     "text": [
      "Menor fecha de tweet disponible para todos los usuarios: 2018-10-25 05:37:56\n",
      "CPU times: user 7.41 s, sys: 492 ms, total: 7.9 s\n",
      "Wall time: 7.85 s\n"
     ]
    }
   ],
   "source": [
    "%%time\n",
    "df_cutted = df_cut1(df)\n",
    "print_time_windows(df_cutted)"
   ]
  },
  {
   "cell_type": "markdown",
   "metadata": {},
   "source": [
    "### 3.2 Ventanas de tiempo recogidas (Recorte 2)"
   ]
  },
  {
   "cell_type": "code",
   "execution_count": 20,
   "metadata": {
    "scrolled": false
   },
   "outputs": [
    {
     "name": "stdout",
     "output_type": "stream",
     "text": [
      "Tweet más temprano en el tiempo: \t2007-04-11 23:52:28\n",
      "Tweet más tardío en el tiempo: \t\t2018-10-30 00:35:36\n"
     ]
    },
    {
     "name": "stdout",
     "output_type": "stream",
     "text": [
      "Menor fecha de tweet disponible para todos los usuarios: 2018-10-24 15:35:09\n",
      "CPU times: user 3.77 s, sys: 644 ms, total: 4.41 s\n",
      "Wall time: 4.4 s\n"
     ]
    }
   ],
   "source": [
    "%%time\n",
    "df_cutted = df_cut2(df)\n",
    "print_time_windows(df_cutted)"
   ]
  },
  {
   "cell_type": "code",
   "execution_count": 21,
   "metadata": {},
   "outputs": [
    {
     "name": "stdout",
     "output_type": "stream",
     "text": [
      "Tweets que tienen (igual) o más que el límite de tweets: 10035576\n",
      "Users que tienen (igual) o más que el límite de tweets: 3116\n"
     ]
    }
   ],
   "source": [
    "tweets_on_tweet_limit = df_cutted.shape[0]\n",
    "users_on_tweet_limit = df_cutted.user__id_str.value_counts().count()\n",
    "print('Tweets que tienen (igual) o más que el límite de tweets: {}'.format(tweets_on_tweet_limit))\n",
    "print('Users que tienen (igual) o más que el límite de tweets: {}'.format(users_on_tweet_limit))"
   ]
  },
  {
   "cell_type": "markdown",
   "metadata": {},
   "source": [
    "### 4 Histograma de tweets y retweets por fecha"
   ]
  },
  {
   "cell_type": "code",
   "execution_count": 22,
   "metadata": {
    "scrolled": false
   },
   "outputs": [],
   "source": [
    "def plot_tweets_and_retweets_by_date(data_f):\n",
    "    print('Valores a plotear: {}'.format(data_f.shape[0]))\n",
    "    fig, ax = plt.subplots(figsize=(10,5))\n",
    "    (data_f.created_at.groupby(data_f[\"created_at\"].dt.date).count()/1000).plot(kind=\"line\", ax=ax, rot=90, legend=True, label='Todos los tweets')\n",
    "    (data_f.created_at.groupby(df_only_rt(data_f)[\"created_at\"].dt.date).count()/1000).plot(kind=\"line\", ax=ax, rot=90, legend=True, label='Solo RT')\n",
    "    (data_f.created_at.groupby(df_commented(data_f)[\"created_at\"].dt.date).count()/1000).plot(kind=\"line\", ax=ax, rot=90, legend=True, label='Solo con commentarios')\n",
    "    ax.set_title('Histograma de tweets por fecha')\n",
    "    ax.set_ylabel('cantidad (miles)')\n",
    "    ax.set_xlabel('fecha')"
   ]
  },
  {
   "cell_type": "markdown",
   "metadata": {},
   "source": [
    "### 4.0 Histograma de tweets y retweets por fecha (Global)"
   ]
  },
  {
   "cell_type": "code",
   "execution_count": 23,
   "metadata": {},
   "outputs": [
    {
     "name": "stdout",
     "output_type": "stream",
     "text": [
      "Valores a plotear: 15633833\n"
     ]
    },
    {
     "name": "stdout",
     "output_type": "stream",
     "text": [
      "CPU times: user 9.77 s, sys: 912 ms, total: 10.7 s\n",
      "Wall time: 10.7 s\n"
     ]
    },
    {
     "data": {
      "image/png": "[encoded data removed]",
      "text/plain": [
       "<Figure size 720x360 with 1 Axes>"
      ]
     },
     "metadata": {
      "needs_background": "light"
     },
     "output_type": "display_data"
    }
   ],
   "source": [
    "%%time\n",
    "plot_tweets_and_retweets_by_date(df)"
   ]
  },
  {
   "cell_type": "markdown",
   "metadata": {},
   "source": [
    "### 4.1 Histograma de tweets y retweets por fecha (Recorte 1)"
   ]
  },
  {
   "cell_type": "code",
   "execution_count": 24,
   "metadata": {
    "scrolled": false
   },
   "outputs": [
    {
     "name": "stdout",
     "output_type": "stream",
     "text": [
      "Valores a plotear: 11497020\n"
     ]
    },
    {
     "name": "stdout",
     "output_type": "stream",
     "text": [
      "CPU times: user 12.7 s, sys: 1.14 s, total: 13.8 s\n",
      "Wall time: 13.7 s\n"
     ]
    },
    {
     "data": {
      "image/png": "[encoded data removed]",
      "text/plain": [
       "<Figure size 720x360 with 1 Axes>"
      ]
     },
     "metadata": {
      "needs_background": "light"
     },
     "output_type": "display_data"
    }
   ],
   "source": [
    "%%time\n",
    "df_cutted = df_cut1(df)\n",
    "plot_tweets_and_retweets_by_date(df_cutted)"
   ]
  },
  {
   "cell_type": "markdown",
   "metadata": {},
   "source": [
    "### 4.2 Histograma de tweets y retweets por fecha (Recorte 2)"
   ]
  },
  {
   "cell_type": "code",
   "execution_count": 25,
   "metadata": {
    "scrolled": false
   },
   "outputs": [
    {
     "name": "stdout",
     "output_type": "stream",
     "text": [
      "Valores a plotear: 10035576\n"
     ]
    },
    {
     "name": "stdout",
     "output_type": "stream",
     "text": [
      "CPU times: user 9.75 s, sys: 928 ms, total: 10.7 s\n",
      "Wall time: 10.6 s\n"
     ]
    },
    {
     "data": {
      "image/png": "[encoded data removed]",
      "text/plain": [
       "<Figure size 720x360 with 1 Axes>"
      ]
     },
     "metadata": {
      "needs_background": "light"
     },
     "output_type": "display_data"
    }
   ],
   "source": [
    "%%time\n",
    "df_cutted = df_cut2(df)\n",
    "plot_tweets_and_retweets_by_date(df_cutted)"
   ]
  },
  {
   "cell_type": "markdown",
   "metadata": {},
   "source": [
    "### 5 Histograma de tweets y retweets por hora\n",
    "\n",
    "Nota: se dejan afuera las primeras n horas por exceder los ordenes de magnitud para el ploteo"
   ]
  },
  {
   "cell_type": "code",
   "execution_count": 26,
   "metadata": {},
   "outputs": [],
   "source": [
    "def plot_retweets_per_hour(data_f):\n",
    "    data_f = data_f.copy()\n",
    "    data_f['time_diff'] = df_only_rt(data_f).created_at - df_only_rt(data_f).retweeted_status__created_at\n",
    "    # agregar columna de primer aparicion en el dataset (created at oo si es RT, primer RT en el grupo)\n",
    "    counts_per_hour = df_only_rt(data_f).time_diff.groupby((df_only_rt(data_f).time_diff / np.timedelta64(1, 'h')).round(0)).count()\n",
    "    \n",
    "    def _find_first_n_outliers():\n",
    "        head = counts_per_hour[0]\n",
    "        for i in range(1, len(counts_per_hour)):\n",
    "            if head < 2 * counts_per_hour[i]:\n",
    "                break\n",
    "            head = counts_per_hour[i]\n",
    "        return i\n",
    "    n_head_outliers = _find_first_n_outliers()\n",
    "    first_n_hours_considered = 56\n",
    "\n",
    "    print(counts_per_hour.head(n_head_outliers))\n",
    "    print('Hay {} valores a plotear'.format(counts_per_hour.count()))\n",
    "    counts_per_hour.head(first_n_hours_considered)[n_head_outliers:].plot(kind=\"line\")"
   ]
  },
  {
   "cell_type": "markdown",
   "metadata": {},
   "source": [
    "### 5.0 Histograma de tweets y retweets por hora (Global)"
   ]
  },
  {
   "cell_type": "code",
   "execution_count": 27,
   "metadata": {
    "scrolled": false
   },
   "outputs": [
    {
     "name": "stdout",
     "output_type": "stream",
     "text": [
      "time_diff\n",
      "0.0    2000236\n",
      "1.0     690810\n",
      "2.0     334497\n",
      "Name: time_diff, dtype: int64\n",
      "Hay 17582 valores a plotear\n"
     ]
    },
    {
     "name": "stdout",
     "output_type": "stream",
     "text": [
      "CPU times: user 5.97 s, sys: 828 ms, total: 6.79 s\n",
      "Wall time: 6.77 s\n"
     ]
    },
    {
     "data": {
      "image/png": "[encoded data removed]",
      "text/plain": [
       "<Figure size 432x288 with 1 Axes>"
      ]
     },
     "metadata": {
      "needs_background": "light"
     },
     "output_type": "display_data"
    }
   ],
   "source": [
    "%%time\n",
    "counts = plot_retweets_per_hour(df)"
   ]
  },
  {
   "cell_type": "markdown",
   "metadata": {},
   "source": [
    "### 5.1 Histograma de tweets y retweets por hora (Recorte 1)"
   ]
  },
  {
   "cell_type": "code",
   "execution_count": 28,
   "metadata": {
    "scrolled": false
   },
   "outputs": [
    {
     "name": "stdout",
     "output_type": "stream",
     "text": [
      "time_diff\n",
      "0.0    227343\n",
      "1.0     91972\n",
      "Name: time_diff, dtype: int64\n",
      "Hay 3354 valores a plotear\n",
      "CPU times: user 9.49 s, sys: 696 ms, total: 10.2 s\n",
      "Wall time: 9.99 s\n"
     ]
    },
    {
     "data": {
      "image/png": "[encoded data removed]",
      "text/plain": [
       "<Figure size 432x288 with 1 Axes>"
      ]
     },
     "metadata": {
      "needs_background": "light"
     },
     "output_type": "display_data"
    }
   ],
   "source": [
    "%%time\n",
    "df_cutted = df_cut1(df)\n",
    "counts = plot_retweets_per_hour(df_cutted)"
   ]
  },
  {
   "cell_type": "markdown",
   "metadata": {},
   "source": [
    "### 5.2 Histograma de tweets y retweets por hora (Recorte 2)"
   ]
  },
  {
   "cell_type": "code",
   "execution_count": 29,
   "metadata": {
    "scrolled": false
   },
   "outputs": [
    {
     "name": "stdout",
     "output_type": "stream",
     "text": [
      "time_diff\n",
      "0.0    1165694\n",
      "1.0     413919\n",
      "2.0     200041\n",
      "Name: time_diff, dtype: int64\n",
      "Hay 11564 valores a plotear\n",
      "CPU times: user 7.07 s, sys: 872 ms, total: 7.95 s"
     ]
    },
    {
     "name": "stdout",
     "output_type": "stream",
     "text": [
      "\n",
      "Wall time: 7.79 s\n"
     ]
    },
    {
     "data": {
      "image/png": "[encoded data removed]",
      "text/plain": [
       "<Figure size 432x288 with 1 Axes>"
      ]
     },
     "metadata": {
      "needs_background": "light"
     },
     "output_type": "display_data"
    }
   ],
   "source": [
    "%%time\n",
    "df_cutted = df_cut2(df)\n",
    "counts = plot_retweets_per_hour(df_cutted)"
   ]
  },
  {
   "cell_type": "markdown",
   "metadata": {},
   "source": [
    "### Retweets por hora de n tweets más retweeteados (en el dataset)"
   ]
  },
  {
   "cell_type": "code",
   "execution_count": 30,
   "metadata": {
    "scrolled": false
   },
   "outputs": [],
   "source": [
    "def annotate_df_with_rt_on_dataset(data_f):\n",
    "    # dict-like series: key = retweeted_status__id_str  -> value = how many times was RTed in dataset\n",
    "    _df_tweets_per_user = data_f.retweeted_status__id_str.groupby(data_f.retweeted_status__id_str).count()\n",
    "    # add key for NaNs -> to be set to 0\n",
    "    _df_tweets_per_user.loc['-1'] = 0\n",
    "    # get data frame's retweeted_status__id_str field for completition.\n",
    "    a = data_f.retweeted_status__id_str.fillna('-1').values\n",
    "    # update Retweets\n",
    "    data_f['rt_on_dataset'] = _df_tweets_per_user[a].values\n",
    "    # update only original tweets # TODO\n",
    "\n",
    "def get_top_retweeted(data_f, n=5):\n",
    "    annotate_df_with_rt_on_dataset(data_f)\n",
    "    top_retweeted = data_f.drop_duplicates('rt_on_dataset').nlargest(5, 'rt_on_dataset', keep='last')\n",
    "    return top_retweeted.head(n)\n",
    "\n",
    "def plot_tweets_per_hour(t_id, use_percentage=False):\n",
    "    \"\"\"For single tweet\"\"\"\n",
    "    data_f = df[df.retweeted_status__id_str == str(t_id)]\n",
    "    total = data_f.iloc[0].rt_on_dataset\n",
    "    data_f['time_diff'] = data_f.created_at - data_f.retweeted_status__created_at\n",
    "\n",
    "    # filter on max_hour ? TODO\n",
    "    per_hour = (data_f.time_diff.groupby((data_f.time_diff / np.timedelta64(1, 'h')).round(0)).count())\n",
    "    if use_percentage:\n",
    "        per_hour = per_hour / total\n",
    "\n",
    "    fig, axes = plt.subplots(ncols=2)\n",
    "    per_hour.plot(kind=\"line\", ax=axes[0],figsize=(15, 4))\n",
    "    axes[0].set_title('Histograma de RT por hora a partir del tweet')\n",
    "    axes[0].set_ylabel('cantidad')\n",
    "    axes[0].set_xlabel('hora')\n",
    "    per_hour.cumsum().plot(kind='line', ax=axes[1])\n",
    "    axes[1].set_title('Histograma de RT por hora a partir del tweet acumulado')\n",
    "    axes[1].set_ylabel('cantidad')\n",
    "    axes[1].set_xlabel('hora')"
   ]
  },
  {
   "cell_type": "code",
   "execution_count": 31,
   "metadata": {
    "scrolled": false
   },
   "outputs": [
    {
     "name": "stdout",
     "output_type": "stream",
     "text": [
      "RTs to be plotted for df: 235\n"
     ]
    },
    {
     "name": "stderr",
     "output_type": "stream",
     "text": [
      "/home/mmeriles/.virtualenvs/sna-famaf/lib/python3.6/site-packages/ipykernel_launcher.py:21: SettingWithCopyWarning: \n",
      "A value is trying to be set on a copy of a slice from a DataFrame.\n",
      "Try using .loc[row_indexer,col_indexer] = value instead\n",
      "\n",
      "See the caveats in the documentation: http://pandas.pydata.org/pandas-docs/stable/indexing.html#indexing-view-versus-copy\n"
     ]
    },
    {
     "name": "stdout",
     "output_type": "stream",
     "text": [
      "RTs to be plotted for df: 195\n"
     ]
    },
    {
     "name": "stdout",
     "output_type": "stream",
     "text": [
      "RTs to be plotted for df: 161\n"
     ]
    },
    {
     "name": "stdout",
     "output_type": "stream",
     "text": [
      "RTs to be plotted for df: 143\n"
     ]
    },
    {
     "name": "stdout",
     "output_type": "stream",
     "text": [
      "RTs to be plotted for df: 142\n"
     ]
    },
    {
     "data": {
      "image/png": "[encoded data removed]",
      "text/plain": [
       "<Figure size 1080x288 with 2 Axes>"
      ]
     },
     "metadata": {
      "needs_background": "light"
     },
     "output_type": "display_data"
    },
    {
     "data": {
      "image/png": "[encoded data removed]",
      "text/plain": [
       "<Figure size 1080x288 with 2 Axes>"
      ]
     },
     "metadata": {
      "needs_background": "light"
     },
     "output_type": "display_data"
    },
    {
     "data": {
      "image/png": "[encoded data removed]",
      "text/plain": [
       "<Figure size 1080x288 with 2 Axes>"
      ]
     },
     "metadata": {
      "needs_background": "light"
     },
     "output_type": "display_data"
    },
    {
     "data": {
      "image/png": "[encoded data removed]",
      "text/plain": [
       "<Figure size 1080x288 with 2 Axes>"
      ]
     },
     "metadata": {
      "needs_background": "light"
     },
     "output_type": "display_data"
    },
    {
     "data": {
      "image/png": "[encoded data removed]",
      "text/plain": [
       "<Figure size 1080x288 with 2 Axes>"
      ]
     },
     "metadata": {
      "needs_background": "light"
     },
     "output_type": "display_data"
    }
   ],
   "source": [
    "top_retweeted = get_top_retweeted(df)\n",
    "for t_id in top_retweeted.retweeted_status__id_str:\n",
    "    retweeted = df[df.retweeted_status__id_str == str(t_id)]\n",
    "    print('RTs to be plotted for df: {}'.format(retweeted.shape[0]))\n",
    "    plot_tweets_per_hour(t_id, use_percentage=False)"
   ]
  },
  {
   "cell_type": "code",
   "execution_count": null,
   "metadata": {},
   "outputs": [],
   "source": []
  },
  {
   "cell_type": "markdown",
   "metadata": {},
   "source": [
    "### Retweets por hora en general (porcentajes)"
   ]
  },
  {
   "cell_type": "code",
   "execution_count": 32,
   "metadata": {},
   "outputs": [
    {
     "data": {
      "text/html": [
       "<div>\n",
       "<style scoped>\n",
       "    .dataframe tbody tr th:only-of-type {\n",
       "        vertical-align: middle;\n",
       "    }\n",
       "\n",
       "    .dataframe tbody tr th {\n",
       "        vertical-align: top;\n",
       "    }\n",
       "\n",
       "    .dataframe thead th {\n",
       "        text-align: right;\n",
       "    }\n",
       "</style>\n",
       "<table border=\"1\" class=\"dataframe\">\n",
       "  <thead>\n",
       "    <tr style=\"text-align: right;\">\n",
       "      <th></th>\n",
       "      <th>created_at</th>\n",
       "      <th>user__id_str</th>\n",
       "      <th>id_str</th>\n",
       "      <th>text</th>\n",
       "      <th>retweeted_status__id_str</th>\n",
       "      <th>retweeted_status__user__id_str</th>\n",
       "      <th>retweeted_status__created_at</th>\n",
       "      <th>retweet_count</th>\n",
       "      <th>quoted_status_id_str</th>\n",
       "      <th>user_tweets_on_dataset</th>\n",
       "      <th>rt_on_dataset</th>\n",
       "      <th>time_diff</th>\n",
       "    </tr>\n",
       "  </thead>\n",
       "  <tbody>\n",
       "    <tr>\n",
       "      <th>2</th>\n",
       "      <td>2018-10-22 11:35:12</td>\n",
       "      <td>143547590</td>\n",
       "      <td>1054335357507043335</td>\n",
       "      <td>RT @Cejota63: Entre Macri y la Iglesia de Berg...</td>\n",
       "      <td>1054182333174239233</td>\n",
       "      <td>88552641</td>\n",
       "      <td>2018-10-22 01:27:08</td>\n",
       "      <td>5</td>\n",
       "      <td>NaN</td>\n",
       "      <td>3205</td>\n",
       "      <td>1</td>\n",
       "      <td>10:08:04</td>\n",
       "    </tr>\n",
       "    <tr>\n",
       "      <th>3</th>\n",
       "      <td>2018-10-22 21:21:47</td>\n",
       "      <td>123916637</td>\n",
       "      <td>1054482974496956417</td>\n",
       "      <td>RT @MGorban: Lo conocí tarde, hace apenas un p...</td>\n",
       "      <td>1054422842467594241</td>\n",
       "      <td>355805526</td>\n",
       "      <td>2018-10-22 17:22:50</td>\n",
       "      <td>2</td>\n",
       "      <td>NaN</td>\n",
       "      <td>3225</td>\n",
       "      <td>1</td>\n",
       "      <td>03:58:57</td>\n",
       "    </tr>\n",
       "    <tr>\n",
       "      <th>4</th>\n",
       "      <td>2018-10-22 21:21:17</td>\n",
       "      <td>123916637</td>\n",
       "      <td>1054482849242460162</td>\n",
       "      <td>RT @hindelita: Murió Isidoro Gilbert, autor de...</td>\n",
       "      <td>1054465585487245313</td>\n",
       "      <td>49697215</td>\n",
       "      <td>2018-10-22 20:12:41</td>\n",
       "      <td>38</td>\n",
       "      <td>NaN</td>\n",
       "      <td>3225</td>\n",
       "      <td>15</td>\n",
       "      <td>01:08:36</td>\n",
       "    </tr>\n",
       "    <tr>\n",
       "      <th>5</th>\n",
       "      <td>2018-10-22 21:20:59</td>\n",
       "      <td>123916637</td>\n",
       "      <td>1054482774059634693</td>\n",
       "      <td>RT @IZuleta: Dolor por Isidoro... https://t.co...</td>\n",
       "      <td>1054466092968620032</td>\n",
       "      <td>155129878</td>\n",
       "      <td>2018-10-22 20:14:42</td>\n",
       "      <td>9</td>\n",
       "      <td>NaN</td>\n",
       "      <td>3225</td>\n",
       "      <td>4</td>\n",
       "      <td>01:06:17</td>\n",
       "    </tr>\n",
       "    <tr>\n",
       "      <th>6</th>\n",
       "      <td>2018-10-22 21:20:10</td>\n",
       "      <td>123916637</td>\n",
       "      <td>1054482570371588101</td>\n",
       "      <td>RT @JorBusico: Me entero que se fue de gira Is...</td>\n",
       "      <td>1054449499328921600</td>\n",
       "      <td>135218756</td>\n",
       "      <td>2018-10-22 19:08:46</td>\n",
       "      <td>3</td>\n",
       "      <td>NaN</td>\n",
       "      <td>3225</td>\n",
       "      <td>2</td>\n",
       "      <td>02:11:24</td>\n",
       "    </tr>\n",
       "    <tr>\n",
       "      <th>7</th>\n",
       "      <td>2018-10-22 21:20:08</td>\n",
       "      <td>123916637</td>\n",
       "      <td>1054482559311196161</td>\n",
       "      <td>RT @CarasyCaretasTw: Hoy a la tarde falleció I...</td>\n",
       "      <td>1054469781556998146</td>\n",
       "      <td>1119961578</td>\n",
       "      <td>2018-10-22 20:29:21</td>\n",
       "      <td>15</td>\n",
       "      <td>NaN</td>\n",
       "      <td>3225</td>\n",
       "      <td>3</td>\n",
       "      <td>00:50:47</td>\n",
       "    </tr>\n",
       "    <tr>\n",
       "      <th>8</th>\n",
       "      <td>2018-10-22 17:26:46</td>\n",
       "      <td>123916637</td>\n",
       "      <td>1054423834017837056</td>\n",
       "      <td>RT @DiarioPulse: VIDEO | Habló Nicolás “Nicky”...</td>\n",
       "      <td>1054399323335786497</td>\n",
       "      <td>545402534</td>\n",
       "      <td>2018-10-22 15:49:23</td>\n",
       "      <td>347</td>\n",
       "      <td>NaN</td>\n",
       "      <td>3225</td>\n",
       "      <td>13</td>\n",
       "      <td>01:37:23</td>\n",
       "    </tr>\n",
       "    <tr>\n",
       "      <th>10</th>\n",
       "      <td>2018-10-22 14:36:33</td>\n",
       "      <td>123916637</td>\n",
       "      <td>1054380994432774144</td>\n",
       "      <td>RT @AleRuaTwit: El juez Bonadio pide que se in...</td>\n",
       "      <td>1054374634974523394</td>\n",
       "      <td>1247076385</td>\n",
       "      <td>2018-10-22 14:11:16</td>\n",
       "      <td>103</td>\n",
       "      <td>NaN</td>\n",
       "      <td>3225</td>\n",
       "      <td>10</td>\n",
       "      <td>00:25:17</td>\n",
       "    </tr>\n",
       "    <tr>\n",
       "      <th>17</th>\n",
       "      <td>2018-10-22 23:28:21</td>\n",
       "      <td>382635219</td>\n",
       "      <td>1054514826452582400</td>\n",
       "      <td>RT @karin_arcuschin: @rinconet @ditulliojuli M...</td>\n",
       "      <td>1054478381587316739</td>\n",
       "      <td>1857719958</td>\n",
       "      <td>2018-10-22 21:03:32</td>\n",
       "      <td>2</td>\n",
       "      <td>NaN</td>\n",
       "      <td>3217</td>\n",
       "      <td>1</td>\n",
       "      <td>02:24:49</td>\n",
       "    </tr>\n",
       "    <tr>\n",
       "      <th>20</th>\n",
       "      <td>2018-10-22 18:51:59</td>\n",
       "      <td>382635219</td>\n",
       "      <td>1054445278806372352</td>\n",
       "      <td>RT @NagusInfo: Cuando @Sabbatella pasó por @La...</td>\n",
       "      <td>1054443427369308161</td>\n",
       "      <td>140963498</td>\n",
       "      <td>2018-10-22 18:44:38</td>\n",
       "      <td>14</td>\n",
       "      <td>NaN</td>\n",
       "      <td>3217</td>\n",
       "      <td>4</td>\n",
       "      <td>00:07:21</td>\n",
       "    </tr>\n",
       "    <tr>\n",
       "      <th>22</th>\n",
       "      <td>2018-10-22 18:20:11</td>\n",
       "      <td>382635219</td>\n",
       "      <td>1054437274090389505</td>\n",
       "      <td>RT @NancyTesoriere: Volver a escucharlo a Amad...</td>\n",
       "      <td>1054436467618054145</td>\n",
       "      <td>838076556195086336</td>\n",
       "      <td>2018-10-22 18:16:59</td>\n",
       "      <td>3</td>\n",
       "      <td>1054433472650059778</td>\n",
       "      <td>3217</td>\n",
       "      <td>2</td>\n",
       "      <td>00:03:12</td>\n",
       "    </tr>\n",
       "    <tr>\n",
       "      <th>30</th>\n",
       "      <td>2018-10-22 19:11:47</td>\n",
       "      <td>194978116</td>\n",
       "      <td>1054450260192444416</td>\n",
       "      <td>RT @santiacattaneo: #Talleres | Circula este v...</td>\n",
       "      <td>1054390585270980609</td>\n",
       "      <td>159259342</td>\n",
       "      <td>2018-10-22 15:14:39</td>\n",
       "      <td>4</td>\n",
       "      <td>NaN</td>\n",
       "      <td>857</td>\n",
       "      <td>1</td>\n",
       "      <td>03:57:08</td>\n",
       "    </tr>\n",
       "    <tr>\n",
       "      <th>31</th>\n",
       "      <td>2018-10-22 11:40:10</td>\n",
       "      <td>194978116</td>\n",
       "      <td>1054336609443815424</td>\n",
       "      <td>RT @RAEinforma: Hoy se presentará en Córdoba (...</td>\n",
       "      <td>1054323819626840064</td>\n",
       "      <td>350411337</td>\n",
       "      <td>2018-10-22 10:49:21</td>\n",
       "      <td>22</td>\n",
       "      <td>NaN</td>\n",
       "      <td>857</td>\n",
       "      <td>2</td>\n",
       "      <td>00:50:49</td>\n",
       "    </tr>\n",
       "    <tr>\n",
       "      <th>33</th>\n",
       "      <td>2018-10-22 02:47:50</td>\n",
       "      <td>38193722</td>\n",
       "      <td>1054202641851531264</td>\n",
       "      <td>RT @Aisling_: Vamos a armar un hilo bonito: po...</td>\n",
       "      <td>1054020817787355136</td>\n",
       "      <td>129211332</td>\n",
       "      <td>2018-10-21 14:45:20</td>\n",
       "      <td>119</td>\n",
       "      <td>NaN</td>\n",
       "      <td>3241</td>\n",
       "      <td>1</td>\n",
       "      <td>12:02:30</td>\n",
       "    </tr>\n",
       "    <tr>\n",
       "      <th>36</th>\n",
       "      <td>2018-10-22 17:35:51</td>\n",
       "      <td>156213282</td>\n",
       "      <td>1054426118659493888</td>\n",
       "      <td>RT @florghio: Esta mañana en \"Despierta Argent...</td>\n",
       "      <td>1054372017762455552</td>\n",
       "      <td>146470196</td>\n",
       "      <td>2018-10-22 14:00:52</td>\n",
       "      <td>2</td>\n",
       "      <td>NaN</td>\n",
       "      <td>3210</td>\n",
       "      <td>1</td>\n",
       "      <td>03:34:59</td>\n",
       "    </tr>\n",
       "    <tr>\n",
       "      <th>37</th>\n",
       "      <td>2018-10-22 14:30:36</td>\n",
       "      <td>156213282</td>\n",
       "      <td>1054379499855462402</td>\n",
       "      <td>RT @prensadelsubte: ⚠️ El sábado pasado la Sec...</td>\n",
       "      <td>1054379276479414272</td>\n",
       "      <td>139485557</td>\n",
       "      <td>2018-10-22 14:29:43</td>\n",
       "      <td>10</td>\n",
       "      <td>NaN</td>\n",
       "      <td>3210</td>\n",
       "      <td>2</td>\n",
       "      <td>00:00:53</td>\n",
       "    </tr>\n",
       "    <tr>\n",
       "      <th>38</th>\n",
       "      <td>2018-10-22 11:38:34</td>\n",
       "      <td>156213282</td>\n",
       "      <td>1054336206627110913</td>\n",
       "      <td>RT @NE_UBA: [#EleccionesUBA 2018]\\n\\n🗳 Del 22 ...</td>\n",
       "      <td>1054336123487637504</td>\n",
       "      <td>1455252175</td>\n",
       "      <td>2018-10-22 11:38:15</td>\n",
       "      <td>28</td>\n",
       "      <td>NaN</td>\n",
       "      <td>3210</td>\n",
       "      <td>3</td>\n",
       "      <td>00:00:19</td>\n",
       "    </tr>\n",
       "    <tr>\n",
       "      <th>46</th>\n",
       "      <td>2018-10-22 22:07:12</td>\n",
       "      <td>45186008</td>\n",
       "      <td>1054494403727900673</td>\n",
       "      <td>RT @tinalarrea: Por acá @GiseleSousaDias escri...</td>\n",
       "      <td>1054426986335092738</td>\n",
       "      <td>161657153</td>\n",
       "      <td>2018-10-22 17:39:18</td>\n",
       "      <td>53</td>\n",
       "      <td>NaN</td>\n",
       "      <td>3237</td>\n",
       "      <td>8</td>\n",
       "      <td>04:27:54</td>\n",
       "    </tr>\n",
       "    <tr>\n",
       "      <th>48</th>\n",
       "      <td>2018-10-22 22:29:50</td>\n",
       "      <td>720478634</td>\n",
       "      <td>1054500099534086144</td>\n",
       "      <td>RT @El_Econ: Con poca demanda de divisas, el B...</td>\n",
       "      <td>1054456901377900545</td>\n",
       "      <td>720478634</td>\n",
       "      <td>2018-10-22 19:38:10</td>\n",
       "      <td>4</td>\n",
       "      <td>NaN</td>\n",
       "      <td>3250</td>\n",
       "      <td>1</td>\n",
       "      <td>02:51:40</td>\n",
       "    </tr>\n",
       "    <tr>\n",
       "      <th>49</th>\n",
       "      <td>2018-10-22 22:29:39</td>\n",
       "      <td>720478634</td>\n",
       "      <td>1054500054860513283</td>\n",
       "      <td>RT @El_Econ: Argentina, última en el ranking d...</td>\n",
       "      <td>1054483589302231041</td>\n",
       "      <td>720478634</td>\n",
       "      <td>2018-10-22 21:24:13</td>\n",
       "      <td>9</td>\n",
       "      <td>NaN</td>\n",
       "      <td>3250</td>\n",
       "      <td>1</td>\n",
       "      <td>01:05:26</td>\n",
       "    </tr>\n",
       "    <tr>\n",
       "      <th>50</th>\n",
       "      <td>2018-10-22 22:29:31</td>\n",
       "      <td>720478634</td>\n",
       "      <td>1054500020983136256</td>\n",
       "      <td>RT @El_Econ: ¿#Espert2019?\\n\\nhttps://t.co/fZZ...</td>\n",
       "      <td>1054408768858001409</td>\n",
       "      <td>720478634</td>\n",
       "      <td>2018-10-22 16:26:55</td>\n",
       "      <td>14</td>\n",
       "      <td>NaN</td>\n",
       "      <td>3250</td>\n",
       "      <td>1</td>\n",
       "      <td>06:02:36</td>\n",
       "    </tr>\n",
       "    <tr>\n",
       "      <th>51</th>\n",
       "      <td>2018-10-22 22:29:18</td>\n",
       "      <td>720478634</td>\n",
       "      <td>1054499966436212736</td>\n",
       "      <td>RT @El_Econ: “Proyectamos una tasa de inflació...</td>\n",
       "      <td>1054409620972859392</td>\n",
       "      <td>720478634</td>\n",
       "      <td>2018-10-22 16:30:18</td>\n",
       "      <td>6</td>\n",
       "      <td>NaN</td>\n",
       "      <td>3250</td>\n",
       "      <td>1</td>\n",
       "      <td>05:59:00</td>\n",
       "    </tr>\n",
       "    <tr>\n",
       "      <th>76</th>\n",
       "      <td>2018-10-22 00:07:04</td>\n",
       "      <td>249254278</td>\n",
       "      <td>1054162184450834432</td>\n",
       "      <td>RT @OliverGalak: Hoy nos parece inconcebible q...</td>\n",
       "      <td>1054161148340252672</td>\n",
       "      <td>81173307</td>\n",
       "      <td>2018-10-22 00:02:57</td>\n",
       "      <td>110</td>\n",
       "      <td>NaN</td>\n",
       "      <td>3219</td>\n",
       "      <td>5</td>\n",
       "      <td>00:04:07</td>\n",
       "    </tr>\n",
       "    <tr>\n",
       "      <th>78</th>\n",
       "      <td>2018-10-22 22:06:13</td>\n",
       "      <td>139058622</td>\n",
       "      <td>1054494158667296768</td>\n",
       "      <td>RT @MGZNtv: A las 20:00 llega #LaPreviaDelshow...</td>\n",
       "      <td>1054492595366383620</td>\n",
       "      <td>175115442</td>\n",
       "      <td>2018-10-22 22:00:00</td>\n",
       "      <td>1</td>\n",
       "      <td>NaN</td>\n",
       "      <td>3240</td>\n",
       "      <td>1</td>\n",
       "      <td>00:06:13</td>\n",
       "    </tr>\n",
       "    <tr>\n",
       "      <th>79</th>\n",
       "      <td>2018-10-22 21:13:13</td>\n",
       "      <td>139058622</td>\n",
       "      <td>1054480820134703104</td>\n",
       "      <td>RT @jcrettaz: Telefónica lanza hoy en #Argenti...</td>\n",
       "      <td>1054393755371999232</td>\n",
       "      <td>50778562</td>\n",
       "      <td>2018-10-22 15:27:15</td>\n",
       "      <td>9</td>\n",
       "      <td>NaN</td>\n",
       "      <td>3240</td>\n",
       "      <td>4</td>\n",
       "      <td>05:45:58</td>\n",
       "    </tr>\n",
       "    <tr>\n",
       "      <th>80</th>\n",
       "      <td>2018-10-22 21:01:37</td>\n",
       "      <td>139058622</td>\n",
       "      <td>1054477899695308801</td>\n",
       "      <td>RT @ronensuarc: A las 20hs te contamos todo @p...</td>\n",
       "      <td>1054477103134052352</td>\n",
       "      <td>125090571</td>\n",
       "      <td>2018-10-22 20:58:27</td>\n",
       "      <td>6</td>\n",
       "      <td>NaN</td>\n",
       "      <td>3240</td>\n",
       "      <td>1</td>\n",
       "      <td>00:03:10</td>\n",
       "    </tr>\n",
       "    <tr>\n",
       "      <th>82</th>\n",
       "      <td>2018-10-22 20:18:53</td>\n",
       "      <td>139058622</td>\n",
       "      <td>1054467147953508353</td>\n",
       "      <td>RT @MGZNtv: . @SoledadFandino \"Hace 10 años qu...</td>\n",
       "      <td>1054447294777569280</td>\n",
       "      <td>175115442</td>\n",
       "      <td>2018-10-22 19:00:00</td>\n",
       "      <td>2</td>\n",
       "      <td>NaN</td>\n",
       "      <td>3240</td>\n",
       "      <td>1</td>\n",
       "      <td>01:18:53</td>\n",
       "    </tr>\n",
       "    <tr>\n",
       "      <th>83</th>\n",
       "      <td>2018-10-22 20:16:56</td>\n",
       "      <td>139058622</td>\n",
       "      <td>1054466655206682625</td>\n",
       "      <td>RT @ischargro: Mañana se rompe formalmente el ...</td>\n",
       "      <td>1054176919967711233</td>\n",
       "      <td>132360268</td>\n",
       "      <td>2018-10-22 01:05:38</td>\n",
       "      <td>971</td>\n",
       "      <td>NaN</td>\n",
       "      <td>3240</td>\n",
       "      <td>19</td>\n",
       "      <td>19:11:18</td>\n",
       "    </tr>\n",
       "    <tr>\n",
       "      <th>84</th>\n",
       "      <td>2018-10-22 20:01:10</td>\n",
       "      <td>139058622</td>\n",
       "      <td>1054462688737271808</td>\n",
       "      <td>RT @silajmat: El Liceo será ahora una sala exc...</td>\n",
       "      <td>1054462434709291008</td>\n",
       "      <td>61597563</td>\n",
       "      <td>2018-10-22 20:00:10</td>\n",
       "      <td>2</td>\n",
       "      <td>NaN</td>\n",
       "      <td>3240</td>\n",
       "      <td>2</td>\n",
       "      <td>00:01:00</td>\n",
       "    </tr>\n",
       "    <tr>\n",
       "      <th>85</th>\n",
       "      <td>2018-10-22 19:42:23</td>\n",
       "      <td>139058622</td>\n",
       "      <td>1054457960116686848</td>\n",
       "      <td>RT @multiteatro: 📣 PRIMERA SALA ARGENTINA CONS...</td>\n",
       "      <td>1054357241405599745</td>\n",
       "      <td>66859912</td>\n",
       "      <td>2018-10-22 13:02:10</td>\n",
       "      <td>14</td>\n",
       "      <td>NaN</td>\n",
       "      <td>3240</td>\n",
       "      <td>5</td>\n",
       "      <td>06:40:13</td>\n",
       "    </tr>\n",
       "    <tr>\n",
       "      <th>...</th>\n",
       "      <td>...</td>\n",
       "      <td>...</td>\n",
       "      <td>...</td>\n",
       "      <td>...</td>\n",
       "      <td>...</td>\n",
       "      <td>...</td>\n",
       "      <td>...</td>\n",
       "      <td>...</td>\n",
       "      <td>...</td>\n",
       "      <td>...</td>\n",
       "      <td>...</td>\n",
       "      <td>...</td>\n",
       "    </tr>\n",
       "    <tr>\n",
       "      <th>15633695</th>\n",
       "      <td>2014-12-03 17:18:59</td>\n",
       "      <td>517662064</td>\n",
       "      <td>540193490693414913</td>\n",
       "      <td>RT @WayraMexico: Presentando @SocialToolsme\\nh...</td>\n",
       "      <td>540192913263968257</td>\n",
       "      <td>449410188</td>\n",
       "      <td>2014-12-03 17:16:41</td>\n",
       "      <td>6</td>\n",
       "      <td>NaN</td>\n",
       "      <td>3201</td>\n",
       "      <td>1</td>\n",
       "      <td>00:02:18</td>\n",
       "    </tr>\n",
       "    <tr>\n",
       "      <th>15633697</th>\n",
       "      <td>2014-12-03 15:41:13</td>\n",
       "      <td>517662064</td>\n",
       "      <td>540168886466125825</td>\n",
       "      <td>RT @InformaBTL: 5 tips para motivar tu #inteli...</td>\n",
       "      <td>540168585985802241</td>\n",
       "      <td>31151698</td>\n",
       "      <td>2014-12-03 15:40:01</td>\n",
       "      <td>3</td>\n",
       "      <td>NaN</td>\n",
       "      <td>3201</td>\n",
       "      <td>1</td>\n",
       "      <td>00:01:12</td>\n",
       "    </tr>\n",
       "    <tr>\n",
       "      <th>15633698</th>\n",
       "      <td>2014-12-03 15:32:41</td>\n",
       "      <td>517662064</td>\n",
       "      <td>540166740970586112</td>\n",
       "      <td>RT @Lucasemma: Presentando @SocialToolsme en e...</td>\n",
       "      <td>540164474150612992</td>\n",
       "      <td>115768776</td>\n",
       "      <td>2014-12-03 15:23:41</td>\n",
       "      <td>6</td>\n",
       "      <td>NaN</td>\n",
       "      <td>3201</td>\n",
       "      <td>1</td>\n",
       "      <td>00:09:00</td>\n",
       "    </tr>\n",
       "    <tr>\n",
       "      <th>15633700</th>\n",
       "      <td>2014-12-03 12:31:53</td>\n",
       "      <td>517662064</td>\n",
       "      <td>540121241232084992</td>\n",
       "      <td>RT @DonWebOficial: Primera charla de la mañana...</td>\n",
       "      <td>540118324685049857</td>\n",
       "      <td>66805838</td>\n",
       "      <td>2014-12-03 12:20:18</td>\n",
       "      <td>1</td>\n",
       "      <td>NaN</td>\n",
       "      <td>3201</td>\n",
       "      <td>1</td>\n",
       "      <td>00:11:35</td>\n",
       "    </tr>\n",
       "    <tr>\n",
       "      <th>15633702</th>\n",
       "      <td>2014-12-03 00:45:14</td>\n",
       "      <td>517662064</td>\n",
       "      <td>539943408320540672</td>\n",
       "      <td>RT @trinityadam: Use LinkedIn to Grow Your Bus...</td>\n",
       "      <td>539939441339408385</td>\n",
       "      <td>256628776</td>\n",
       "      <td>2014-12-03 00:29:29</td>\n",
       "      <td>4</td>\n",
       "      <td>NaN</td>\n",
       "      <td>3201</td>\n",
       "      <td>1</td>\n",
       "      <td>00:15:45</td>\n",
       "    </tr>\n",
       "    <tr>\n",
       "      <th>15633704</th>\n",
       "      <td>2014-12-02 19:17:29</td>\n",
       "      <td>517662064</td>\n",
       "      <td>539860927089504258</td>\n",
       "      <td>RT @Lucasemma: Ultimos detalles en el backstag...</td>\n",
       "      <td>539860259918331905</td>\n",
       "      <td>115768776</td>\n",
       "      <td>2014-12-02 19:14:50</td>\n",
       "      <td>1</td>\n",
       "      <td>NaN</td>\n",
       "      <td>3201</td>\n",
       "      <td>1</td>\n",
       "      <td>00:02:39</td>\n",
       "    </tr>\n",
       "    <tr>\n",
       "      <th>15633709</th>\n",
       "      <td>2014-12-02 13:32:06</td>\n",
       "      <td>517662064</td>\n",
       "      <td>539774007940513793</td>\n",
       "      <td>RT @EduardoKastika: \"Conexiones y Creatividad\"...</td>\n",
       "      <td>539768828654522368</td>\n",
       "      <td>310462398</td>\n",
       "      <td>2014-12-02 13:11:31</td>\n",
       "      <td>1</td>\n",
       "      <td>NaN</td>\n",
       "      <td>3201</td>\n",
       "      <td>1</td>\n",
       "      <td>00:20:35</td>\n",
       "    </tr>\n",
       "    <tr>\n",
       "      <th>15633711</th>\n",
       "      <td>2014-12-02 11:16:15</td>\n",
       "      <td>517662064</td>\n",
       "      <td>539739817601679360</td>\n",
       "      <td>RT @nextep_es: #SocialMedia Cómo tu marca pued...</td>\n",
       "      <td>539739441963999233</td>\n",
       "      <td>269772401</td>\n",
       "      <td>2014-12-02 11:14:45</td>\n",
       "      <td>3</td>\n",
       "      <td>NaN</td>\n",
       "      <td>3201</td>\n",
       "      <td>1</td>\n",
       "      <td>00:01:30</td>\n",
       "    </tr>\n",
       "    <tr>\n",
       "      <th>15633712</th>\n",
       "      <td>2014-12-02 11:15:40</td>\n",
       "      <td>517662064</td>\n",
       "      <td>539739674320052224</td>\n",
       "      <td>RT @NuEmprendedores: Donde está el Dinero para...</td>\n",
       "      <td>539739574973366272</td>\n",
       "      <td>351471660</td>\n",
       "      <td>2014-12-02 11:15:17</td>\n",
       "      <td>2</td>\n",
       "      <td>NaN</td>\n",
       "      <td>3201</td>\n",
       "      <td>1</td>\n",
       "      <td>00:00:23</td>\n",
       "    </tr>\n",
       "    <tr>\n",
       "      <th>15633717</th>\n",
       "      <td>2014-11-29 11:29:54</td>\n",
       "      <td>517662064</td>\n",
       "      <td>538656091069231104</td>\n",
       "      <td>RT @blogboy2: Reinvention: http://t.co/Iac8OEr...</td>\n",
       "      <td>538653643386662912</td>\n",
       "      <td>17393362</td>\n",
       "      <td>2014-11-29 11:20:10</td>\n",
       "      <td>2</td>\n",
       "      <td>NaN</td>\n",
       "      <td>3201</td>\n",
       "      <td>1</td>\n",
       "      <td>00:09:44</td>\n",
       "    </tr>\n",
       "    <tr>\n",
       "      <th>15633718</th>\n",
       "      <td>2014-11-28 21:11:46</td>\n",
       "      <td>517662064</td>\n",
       "      <td>538440132635156480</td>\n",
       "      <td>RT @InfoNegocios_AR: InfoTecnología: @SocialTo...</td>\n",
       "      <td>538439782238793729</td>\n",
       "      <td>7692262</td>\n",
       "      <td>2014-11-28 21:10:22</td>\n",
       "      <td>2</td>\n",
       "      <td>NaN</td>\n",
       "      <td>3201</td>\n",
       "      <td>1</td>\n",
       "      <td>00:01:24</td>\n",
       "    </tr>\n",
       "    <tr>\n",
       "      <th>15633720</th>\n",
       "      <td>2014-11-28 18:54:24</td>\n",
       "      <td>517662064</td>\n",
       "      <td>538405566893539329</td>\n",
       "      <td>RT @EurekaStartups: 7 Herramientas para hackea...</td>\n",
       "      <td>538404506099535873</td>\n",
       "      <td>289883736</td>\n",
       "      <td>2014-11-28 18:50:11</td>\n",
       "      <td>2</td>\n",
       "      <td>NaN</td>\n",
       "      <td>3201</td>\n",
       "      <td>1</td>\n",
       "      <td>00:04:13</td>\n",
       "    </tr>\n",
       "    <tr>\n",
       "      <th>15633721</th>\n",
       "      <td>2014-11-28 12:13:34</td>\n",
       "      <td>517662064</td>\n",
       "      <td>538304690312998913</td>\n",
       "      <td>RT @grupoalbis: #redes #sociales Infonomía, el...</td>\n",
       "      <td>538304461756977152</td>\n",
       "      <td>220140879</td>\n",
       "      <td>2014-11-28 12:12:39</td>\n",
       "      <td>3</td>\n",
       "      <td>NaN</td>\n",
       "      <td>3201</td>\n",
       "      <td>1</td>\n",
       "      <td>00:00:55</td>\n",
       "    </tr>\n",
       "    <tr>\n",
       "      <th>15633722</th>\n",
       "      <td>2014-11-27 23:19:35</td>\n",
       "      <td>517662064</td>\n",
       "      <td>538109912908570625</td>\n",
       "      <td>RT @NuEmprendedores: Como convertir a tus clie...</td>\n",
       "      <td>538109666534776832</td>\n",
       "      <td>351471660</td>\n",
       "      <td>2014-11-27 23:18:36</td>\n",
       "      <td>2</td>\n",
       "      <td>NaN</td>\n",
       "      <td>3201</td>\n",
       "      <td>1</td>\n",
       "      <td>00:00:59</td>\n",
       "    </tr>\n",
       "    <tr>\n",
       "      <th>15633725</th>\n",
       "      <td>2014-11-26 13:00:30</td>\n",
       "      <td>517662064</td>\n",
       "      <td>537591725905420288</td>\n",
       "      <td>RT @maucosti: Cómo lograr anuncios exitosos du...</td>\n",
       "      <td>537589115970007041</td>\n",
       "      <td>143568778</td>\n",
       "      <td>2014-11-26 12:50:07</td>\n",
       "      <td>1</td>\n",
       "      <td>NaN</td>\n",
       "      <td>3201</td>\n",
       "      <td>1</td>\n",
       "      <td>00:10:23</td>\n",
       "    </tr>\n",
       "    <tr>\n",
       "      <th>15633736</th>\n",
       "      <td>2014-11-25 16:17:13</td>\n",
       "      <td>517662064</td>\n",
       "      <td>537278845163167746</td>\n",
       "      <td>RT @rvillanuevarios: RT @AngelesGtrrez: 4 Form...</td>\n",
       "      <td>537275345087766528</td>\n",
       "      <td>128096043</td>\n",
       "      <td>2014-11-25 16:03:19</td>\n",
       "      <td>1</td>\n",
       "      <td>NaN</td>\n",
       "      <td>3201</td>\n",
       "      <td>1</td>\n",
       "      <td>00:13:54</td>\n",
       "    </tr>\n",
       "    <tr>\n",
       "      <th>15633741</th>\n",
       "      <td>2014-11-25 13:06:23</td>\n",
       "      <td>517662064</td>\n",
       "      <td>537230821762269185</td>\n",
       "      <td>RT @Vanina_Alix: #4 tips para escribir títulos...</td>\n",
       "      <td>537230019798376449</td>\n",
       "      <td>237079053</td>\n",
       "      <td>2014-11-25 13:03:12</td>\n",
       "      <td>1</td>\n",
       "      <td>NaN</td>\n",
       "      <td>3201</td>\n",
       "      <td>1</td>\n",
       "      <td>00:03:11</td>\n",
       "    </tr>\n",
       "    <tr>\n",
       "      <th>15633745</th>\n",
       "      <td>2014-11-24 17:32:24</td>\n",
       "      <td>517662064</td>\n",
       "      <td>536935378146836480</td>\n",
       "      <td>RT @AngelesGtrrez: 4 Formas de mejorar la visi...</td>\n",
       "      <td>536927942971260928</td>\n",
       "      <td>486515015</td>\n",
       "      <td>2014-11-24 17:02:51</td>\n",
       "      <td>2</td>\n",
       "      <td>NaN</td>\n",
       "      <td>3201</td>\n",
       "      <td>1</td>\n",
       "      <td>00:29:33</td>\n",
       "    </tr>\n",
       "    <tr>\n",
       "      <th>15633746</th>\n",
       "      <td>2014-11-24 14:50:54</td>\n",
       "      <td>517662064</td>\n",
       "      <td>536894735026487296</td>\n",
       "      <td>RT @carolrosego: 4 Formas de mejorar la visibi...</td>\n",
       "      <td>536813995395940354</td>\n",
       "      <td>321884043</td>\n",
       "      <td>2014-11-24 09:30:04</td>\n",
       "      <td>1</td>\n",
       "      <td>NaN</td>\n",
       "      <td>3201</td>\n",
       "      <td>1</td>\n",
       "      <td>05:20:50</td>\n",
       "    </tr>\n",
       "    <tr>\n",
       "      <th>15633751</th>\n",
       "      <td>2014-11-23 17:20:57</td>\n",
       "      <td>517662064</td>\n",
       "      <td>536570109935247360</td>\n",
       "      <td>RT @SamantaXelmundo: 4 irresistibles ideas nav...</td>\n",
       "      <td>536398019101331456</td>\n",
       "      <td>178159200</td>\n",
       "      <td>2014-11-23 05:57:08</td>\n",
       "      <td>1</td>\n",
       "      <td>NaN</td>\n",
       "      <td>3201</td>\n",
       "      <td>1</td>\n",
       "      <td>11:23:49</td>\n",
       "    </tr>\n",
       "    <tr>\n",
       "      <th>15633755</th>\n",
       "      <td>2014-11-22 22:30:48</td>\n",
       "      <td>517662064</td>\n",
       "      <td>536285695233781760</td>\n",
       "      <td>RT @smdaystgo: El equipo de @socialtoolsme tam...</td>\n",
       "      <td>536260583012564994</td>\n",
       "      <td>2604076782</td>\n",
       "      <td>2014-11-22 20:51:00</td>\n",
       "      <td>1</td>\n",
       "      <td>NaN</td>\n",
       "      <td>3201</td>\n",
       "      <td>1</td>\n",
       "      <td>01:39:48</td>\n",
       "    </tr>\n",
       "    <tr>\n",
       "      <th>15633771</th>\n",
       "      <td>2014-11-21 13:33:13</td>\n",
       "      <td>517662064</td>\n",
       "      <td>535788022701490176</td>\n",
       "      <td>RT @JimmyVelez: 3 Tipos de audiencias donde en...</td>\n",
       "      <td>535604178463109120</td>\n",
       "      <td>118740026</td>\n",
       "      <td>2014-11-21 01:22:41</td>\n",
       "      <td>1</td>\n",
       "      <td>NaN</td>\n",
       "      <td>3201</td>\n",
       "      <td>1</td>\n",
       "      <td>12:10:32</td>\n",
       "    </tr>\n",
       "    <tr>\n",
       "      <th>15633772</th>\n",
       "      <td>2014-11-21 13:33:00</td>\n",
       "      <td>517662064</td>\n",
       "      <td>535787966053244928</td>\n",
       "      <td>RT @fdezf_patricia: 4 irresistibles ideas navi...</td>\n",
       "      <td>535773992146460672</td>\n",
       "      <td>2772285381</td>\n",
       "      <td>2014-11-21 12:37:28</td>\n",
       "      <td>1</td>\n",
       "      <td>NaN</td>\n",
       "      <td>3201</td>\n",
       "      <td>1</td>\n",
       "      <td>00:55:32</td>\n",
       "    </tr>\n",
       "    <tr>\n",
       "      <th>15633776</th>\n",
       "      <td>2014-11-20 22:05:50</td>\n",
       "      <td>517662064</td>\n",
       "      <td>535554636930093056</td>\n",
       "      <td>RT @LuisaLeonLP: 4 irresistibles ideas navideñ...</td>\n",
       "      <td>535539231049797634</td>\n",
       "      <td>1656216420</td>\n",
       "      <td>2014-11-20 21:04:37</td>\n",
       "      <td>1</td>\n",
       "      <td>NaN</td>\n",
       "      <td>3201</td>\n",
       "      <td>1</td>\n",
       "      <td>01:01:13</td>\n",
       "    </tr>\n",
       "    <tr>\n",
       "      <th>15633783</th>\n",
       "      <td>2014-11-20 18:12:24</td>\n",
       "      <td>517662064</td>\n",
       "      <td>535495894628835328</td>\n",
       "      <td>RT @Lichidoncel: RT 4 irresistibles ideas navi...</td>\n",
       "      <td>535495318910291968</td>\n",
       "      <td>418896827</td>\n",
       "      <td>2014-11-20 18:10:07</td>\n",
       "      <td>1</td>\n",
       "      <td>NaN</td>\n",
       "      <td>3201</td>\n",
       "      <td>1</td>\n",
       "      <td>00:02:17</td>\n",
       "    </tr>\n",
       "    <tr>\n",
       "      <th>15633791</th>\n",
       "      <td>2014-11-19 21:27:05</td>\n",
       "      <td>517662064</td>\n",
       "      <td>535182498230464512</td>\n",
       "      <td>RT @lluisfrias: 4 irresistibles ideas navideña...</td>\n",
       "      <td>535181589655719936</td>\n",
       "      <td>408681467</td>\n",
       "      <td>2014-11-19 21:23:28</td>\n",
       "      <td>1</td>\n",
       "      <td>NaN</td>\n",
       "      <td>3201</td>\n",
       "      <td>1</td>\n",
       "      <td>00:03:37</td>\n",
       "    </tr>\n",
       "    <tr>\n",
       "      <th>15633802</th>\n",
       "      <td>2014-11-19 13:32:06</td>\n",
       "      <td>517662064</td>\n",
       "      <td>535062966719479808</td>\n",
       "      <td>RT @elgermerlo: 2nd day at #slush14 in Finland...</td>\n",
       "      <td>535007252412125184</td>\n",
       "      <td>159186345</td>\n",
       "      <td>2014-11-19 09:50:43</td>\n",
       "      <td>3</td>\n",
       "      <td>NaN</td>\n",
       "      <td>3201</td>\n",
       "      <td>1</td>\n",
       "      <td>03:41:23</td>\n",
       "    </tr>\n",
       "    <tr>\n",
       "      <th>15633815</th>\n",
       "      <td>2014-11-17 20:55:35</td>\n",
       "      <td>517662064</td>\n",
       "      <td>534449794656518145</td>\n",
       "      <td>RT @Lucasemma: Thanks @Rovio for receiving the...</td>\n",
       "      <td>534447392297594880</td>\n",
       "      <td>115768776</td>\n",
       "      <td>2014-11-17 20:46:02</td>\n",
       "      <td>2</td>\n",
       "      <td>NaN</td>\n",
       "      <td>3201</td>\n",
       "      <td>1</td>\n",
       "      <td>00:09:33</td>\n",
       "    </tr>\n",
       "    <tr>\n",
       "      <th>15633829</th>\n",
       "      <td>2014-11-15 16:47:32</td>\n",
       "      <td>517662064</td>\n",
       "      <td>533662594352291840</td>\n",
       "      <td>RT @soymercadologo: ¿Cómo crear un concurso de...</td>\n",
       "      <td>533401510814560259</td>\n",
       "      <td>586259297</td>\n",
       "      <td>2014-11-14 23:30:04</td>\n",
       "      <td>1</td>\n",
       "      <td>NaN</td>\n",
       "      <td>3201</td>\n",
       "      <td>1</td>\n",
       "      <td>17:17:28</td>\n",
       "    </tr>\n",
       "    <tr>\n",
       "      <th>15633832</th>\n",
       "      <td>2014-11-14 22:25:14</td>\n",
       "      <td>517662064</td>\n",
       "      <td>533385193252737024</td>\n",
       "      <td>RT @Same09b: ¿Qué red social va a generarte me...</td>\n",
       "      <td>533384367112876033</td>\n",
       "      <td>729712033</td>\n",
       "      <td>2014-11-14 22:21:57</td>\n",
       "      <td>1</td>\n",
       "      <td>NaN</td>\n",
       "      <td>3201</td>\n",
       "      <td>1</td>\n",
       "      <td>00:03:17</td>\n",
       "    </tr>\n",
       "  </tbody>\n",
       "</table>\n",
       "<p>4768392 rows × 12 columns</p>\n",
       "</div>"
      ],
      "text/plain": [
       "                  created_at user__id_str               id_str  \\\n",
       "2        2018-10-22 11:35:12    143547590  1054335357507043335   \n",
       "3        2018-10-22 21:21:47    123916637  1054482974496956417   \n",
       "4        2018-10-22 21:21:17    123916637  1054482849242460162   \n",
       "5        2018-10-22 21:20:59    123916637  1054482774059634693   \n",
       "6        2018-10-22 21:20:10    123916637  1054482570371588101   \n",
       "7        2018-10-22 21:20:08    123916637  1054482559311196161   \n",
       "8        2018-10-22 17:26:46    123916637  1054423834017837056   \n",
       "10       2018-10-22 14:36:33    123916637  1054380994432774144   \n",
       "17       2018-10-22 23:28:21    382635219  1054514826452582400   \n",
       "20       2018-10-22 18:51:59    382635219  1054445278806372352   \n",
       "22       2018-10-22 18:20:11    382635219  1054437274090389505   \n",
       "30       2018-10-22 19:11:47    194978116  1054450260192444416   \n",
       "31       2018-10-22 11:40:10    194978116  1054336609443815424   \n",
       "33       2018-10-22 02:47:50     38193722  1054202641851531264   \n",
       "36       2018-10-22 17:35:51    156213282  1054426118659493888   \n",
       "37       2018-10-22 14:30:36    156213282  1054379499855462402   \n",
       "38       2018-10-22 11:38:34    156213282  1054336206627110913   \n",
       "46       2018-10-22 22:07:12     45186008  1054494403727900673   \n",
       "48       2018-10-22 22:29:50    720478634  1054500099534086144   \n",
       "49       2018-10-22 22:29:39    720478634  1054500054860513283   \n",
       "50       2018-10-22 22:29:31    720478634  1054500020983136256   \n",
       "51       2018-10-22 22:29:18    720478634  1054499966436212736   \n",
       "76       2018-10-22 00:07:04    249254278  1054162184450834432   \n",
       "78       2018-10-22 22:06:13    139058622  1054494158667296768   \n",
       "79       2018-10-22 21:13:13    139058622  1054480820134703104   \n",
       "80       2018-10-22 21:01:37    139058622  1054477899695308801   \n",
       "82       2018-10-22 20:18:53    139058622  1054467147953508353   \n",
       "83       2018-10-22 20:16:56    139058622  1054466655206682625   \n",
       "84       2018-10-22 20:01:10    139058622  1054462688737271808   \n",
       "85       2018-10-22 19:42:23    139058622  1054457960116686848   \n",
       "...                      ...          ...                  ...   \n",
       "15633695 2014-12-03 17:18:59    517662064   540193490693414913   \n",
       "15633697 2014-12-03 15:41:13    517662064   540168886466125825   \n",
       "15633698 2014-12-03 15:32:41    517662064   540166740970586112   \n",
       "15633700 2014-12-03 12:31:53    517662064   540121241232084992   \n",
       "15633702 2014-12-03 00:45:14    517662064   539943408320540672   \n",
       "15633704 2014-12-02 19:17:29    517662064   539860927089504258   \n",
       "15633709 2014-12-02 13:32:06    517662064   539774007940513793   \n",
       "15633711 2014-12-02 11:16:15    517662064   539739817601679360   \n",
       "15633712 2014-12-02 11:15:40    517662064   539739674320052224   \n",
       "15633717 2014-11-29 11:29:54    517662064   538656091069231104   \n",
       "15633718 2014-11-28 21:11:46    517662064   538440132635156480   \n",
       "15633720 2014-11-28 18:54:24    517662064   538405566893539329   \n",
       "15633721 2014-11-28 12:13:34    517662064   538304690312998913   \n",
       "15633722 2014-11-27 23:19:35    517662064   538109912908570625   \n",
       "15633725 2014-11-26 13:00:30    517662064   537591725905420288   \n",
       "15633736 2014-11-25 16:17:13    517662064   537278845163167746   \n",
       "15633741 2014-11-25 13:06:23    517662064   537230821762269185   \n",
       "15633745 2014-11-24 17:32:24    517662064   536935378146836480   \n",
       "15633746 2014-11-24 14:50:54    517662064   536894735026487296   \n",
       "15633751 2014-11-23 17:20:57    517662064   536570109935247360   \n",
       "15633755 2014-11-22 22:30:48    517662064   536285695233781760   \n",
       "15633771 2014-11-21 13:33:13    517662064   535788022701490176   \n",
       "15633772 2014-11-21 13:33:00    517662064   535787966053244928   \n",
       "15633776 2014-11-20 22:05:50    517662064   535554636930093056   \n",
       "15633783 2014-11-20 18:12:24    517662064   535495894628835328   \n",
       "15633791 2014-11-19 21:27:05    517662064   535182498230464512   \n",
       "15633802 2014-11-19 13:32:06    517662064   535062966719479808   \n",
       "15633815 2014-11-17 20:55:35    517662064   534449794656518145   \n",
       "15633829 2014-11-15 16:47:32    517662064   533662594352291840   \n",
       "15633832 2014-11-14 22:25:14    517662064   533385193252737024   \n",
       "\n",
       "                                                       text  \\\n",
       "2         RT @Cejota63: Entre Macri y la Iglesia de Berg...   \n",
       "3         RT @MGorban: Lo conocí tarde, hace apenas un p...   \n",
       "4         RT @hindelita: Murió Isidoro Gilbert, autor de...   \n",
       "5         RT @IZuleta: Dolor por Isidoro... https://t.co...   \n",
       "6         RT @JorBusico: Me entero que se fue de gira Is...   \n",
       "7         RT @CarasyCaretasTw: Hoy a la tarde falleció I...   \n",
       "8         RT @DiarioPulse: VIDEO | Habló Nicolás “Nicky”...   \n",
       "10        RT @AleRuaTwit: El juez Bonadio pide que se in...   \n",
       "17        RT @karin_arcuschin: @rinconet @ditulliojuli M...   \n",
       "20        RT @NagusInfo: Cuando @Sabbatella pasó por @La...   \n",
       "22        RT @NancyTesoriere: Volver a escucharlo a Amad...   \n",
       "30        RT @santiacattaneo: #Talleres | Circula este v...   \n",
       "31        RT @RAEinforma: Hoy se presentará en Córdoba (...   \n",
       "33        RT @Aisling_: Vamos a armar un hilo bonito: po...   \n",
       "36        RT @florghio: Esta mañana en \"Despierta Argent...   \n",
       "37        RT @prensadelsubte: ⚠️ El sábado pasado la Sec...   \n",
       "38        RT @NE_UBA: [#EleccionesUBA 2018]\\n\\n🗳 Del 22 ...   \n",
       "46        RT @tinalarrea: Por acá @GiseleSousaDias escri...   \n",
       "48        RT @El_Econ: Con poca demanda de divisas, el B...   \n",
       "49        RT @El_Econ: Argentina, última en el ranking d...   \n",
       "50        RT @El_Econ: ¿#Espert2019?\\n\\nhttps://t.co/fZZ...   \n",
       "51        RT @El_Econ: “Proyectamos una tasa de inflació...   \n",
       "76        RT @OliverGalak: Hoy nos parece inconcebible q...   \n",
       "78        RT @MGZNtv: A las 20:00 llega #LaPreviaDelshow...   \n",
       "79        RT @jcrettaz: Telefónica lanza hoy en #Argenti...   \n",
       "80        RT @ronensuarc: A las 20hs te contamos todo @p...   \n",
       "82        RT @MGZNtv: . @SoledadFandino \"Hace 10 años qu...   \n",
       "83        RT @ischargro: Mañana se rompe formalmente el ...   \n",
       "84        RT @silajmat: El Liceo será ahora una sala exc...   \n",
       "85        RT @multiteatro: 📣 PRIMERA SALA ARGENTINA CONS...   \n",
       "...                                                     ...   \n",
       "15633695  RT @WayraMexico: Presentando @SocialToolsme\\nh...   \n",
       "15633697  RT @InformaBTL: 5 tips para motivar tu #inteli...   \n",
       "15633698  RT @Lucasemma: Presentando @SocialToolsme en e...   \n",
       "15633700  RT @DonWebOficial: Primera charla de la mañana...   \n",
       "15633702  RT @trinityadam: Use LinkedIn to Grow Your Bus...   \n",
       "15633704  RT @Lucasemma: Ultimos detalles en el backstag...   \n",
       "15633709  RT @EduardoKastika: \"Conexiones y Creatividad\"...   \n",
       "15633711  RT @nextep_es: #SocialMedia Cómo tu marca pued...   \n",
       "15633712  RT @NuEmprendedores: Donde está el Dinero para...   \n",
       "15633717  RT @blogboy2: Reinvention: http://t.co/Iac8OEr...   \n",
       "15633718  RT @InfoNegocios_AR: InfoTecnología: @SocialTo...   \n",
       "15633720  RT @EurekaStartups: 7 Herramientas para hackea...   \n",
       "15633721  RT @grupoalbis: #redes #sociales Infonomía, el...   \n",
       "15633722  RT @NuEmprendedores: Como convertir a tus clie...   \n",
       "15633725  RT @maucosti: Cómo lograr anuncios exitosos du...   \n",
       "15633736  RT @rvillanuevarios: RT @AngelesGtrrez: 4 Form...   \n",
       "15633741  RT @Vanina_Alix: #4 tips para escribir títulos...   \n",
       "15633745  RT @AngelesGtrrez: 4 Formas de mejorar la visi...   \n",
       "15633746  RT @carolrosego: 4 Formas de mejorar la visibi...   \n",
       "15633751  RT @SamantaXelmundo: 4 irresistibles ideas nav...   \n",
       "15633755  RT @smdaystgo: El equipo de @socialtoolsme tam...   \n",
       "15633771  RT @JimmyVelez: 3 Tipos de audiencias donde en...   \n",
       "15633772  RT @fdezf_patricia: 4 irresistibles ideas navi...   \n",
       "15633776  RT @LuisaLeonLP: 4 irresistibles ideas navideñ...   \n",
       "15633783  RT @Lichidoncel: RT 4 irresistibles ideas navi...   \n",
       "15633791  RT @lluisfrias: 4 irresistibles ideas navideña...   \n",
       "15633802  RT @elgermerlo: 2nd day at #slush14 in Finland...   \n",
       "15633815  RT @Lucasemma: Thanks @Rovio for receiving the...   \n",
       "15633829  RT @soymercadologo: ¿Cómo crear un concurso de...   \n",
       "15633832  RT @Same09b: ¿Qué red social va a generarte me...   \n",
       "\n",
       "         retweeted_status__id_str retweeted_status__user__id_str  \\\n",
       "2             1054182333174239233                       88552641   \n",
       "3             1054422842467594241                      355805526   \n",
       "4             1054465585487245313                       49697215   \n",
       "5             1054466092968620032                      155129878   \n",
       "6             1054449499328921600                      135218756   \n",
       "7             1054469781556998146                     1119961578   \n",
       "8             1054399323335786497                      545402534   \n",
       "10            1054374634974523394                     1247076385   \n",
       "17            1054478381587316739                     1857719958   \n",
       "20            1054443427369308161                      140963498   \n",
       "22            1054436467618054145             838076556195086336   \n",
       "30            1054390585270980609                      159259342   \n",
       "31            1054323819626840064                      350411337   \n",
       "33            1054020817787355136                      129211332   \n",
       "36            1054372017762455552                      146470196   \n",
       "37            1054379276479414272                      139485557   \n",
       "38            1054336123487637504                     1455252175   \n",
       "46            1054426986335092738                      161657153   \n",
       "48            1054456901377900545                      720478634   \n",
       "49            1054483589302231041                      720478634   \n",
       "50            1054408768858001409                      720478634   \n",
       "51            1054409620972859392                      720478634   \n",
       "76            1054161148340252672                       81173307   \n",
       "78            1054492595366383620                      175115442   \n",
       "79            1054393755371999232                       50778562   \n",
       "80            1054477103134052352                      125090571   \n",
       "82            1054447294777569280                      175115442   \n",
       "83            1054176919967711233                      132360268   \n",
       "84            1054462434709291008                       61597563   \n",
       "85            1054357241405599745                       66859912   \n",
       "...                           ...                            ...   \n",
       "15633695       540192913263968257                      449410188   \n",
       "15633697       540168585985802241                       31151698   \n",
       "15633698       540164474150612992                      115768776   \n",
       "15633700       540118324685049857                       66805838   \n",
       "15633702       539939441339408385                      256628776   \n",
       "15633704       539860259918331905                      115768776   \n",
       "15633709       539768828654522368                      310462398   \n",
       "15633711       539739441963999233                      269772401   \n",
       "15633712       539739574973366272                      351471660   \n",
       "15633717       538653643386662912                       17393362   \n",
       "15633718       538439782238793729                        7692262   \n",
       "15633720       538404506099535873                      289883736   \n",
       "15633721       538304461756977152                      220140879   \n",
       "15633722       538109666534776832                      351471660   \n",
       "15633725       537589115970007041                      143568778   \n",
       "15633736       537275345087766528                      128096043   \n",
       "15633741       537230019798376449                      237079053   \n",
       "15633745       536927942971260928                      486515015   \n",
       "15633746       536813995395940354                      321884043   \n",
       "15633751       536398019101331456                      178159200   \n",
       "15633755       536260583012564994                     2604076782   \n",
       "15633771       535604178463109120                      118740026   \n",
       "15633772       535773992146460672                     2772285381   \n",
       "15633776       535539231049797634                     1656216420   \n",
       "15633783       535495318910291968                      418896827   \n",
       "15633791       535181589655719936                      408681467   \n",
       "15633802       535007252412125184                      159186345   \n",
       "15633815       534447392297594880                      115768776   \n",
       "15633829       533401510814560259                      586259297   \n",
       "15633832       533384367112876033                      729712033   \n",
       "\n",
       "         retweeted_status__created_at  retweet_count quoted_status_id_str  \\\n",
       "2                 2018-10-22 01:27:08              5                  NaN   \n",
       "3                 2018-10-22 17:22:50              2                  NaN   \n",
       "4                 2018-10-22 20:12:41             38                  NaN   \n",
       "5                 2018-10-22 20:14:42              9                  NaN   \n",
       "6                 2018-10-22 19:08:46              3                  NaN   \n",
       "7                 2018-10-22 20:29:21             15                  NaN   \n",
       "8                 2018-10-22 15:49:23            347                  NaN   \n",
       "10                2018-10-22 14:11:16            103                  NaN   \n",
       "17                2018-10-22 21:03:32              2                  NaN   \n",
       "20                2018-10-22 18:44:38             14                  NaN   \n",
       "22                2018-10-22 18:16:59              3  1054433472650059778   \n",
       "30                2018-10-22 15:14:39              4                  NaN   \n",
       "31                2018-10-22 10:49:21             22                  NaN   \n",
       "33                2018-10-21 14:45:20            119                  NaN   \n",
       "36                2018-10-22 14:00:52              2                  NaN   \n",
       "37                2018-10-22 14:29:43             10                  NaN   \n",
       "38                2018-10-22 11:38:15             28                  NaN   \n",
       "46                2018-10-22 17:39:18             53                  NaN   \n",
       "48                2018-10-22 19:38:10              4                  NaN   \n",
       "49                2018-10-22 21:24:13              9                  NaN   \n",
       "50                2018-10-22 16:26:55             14                  NaN   \n",
       "51                2018-10-22 16:30:18              6                  NaN   \n",
       "76                2018-10-22 00:02:57            110                  NaN   \n",
       "78                2018-10-22 22:00:00              1                  NaN   \n",
       "79                2018-10-22 15:27:15              9                  NaN   \n",
       "80                2018-10-22 20:58:27              6                  NaN   \n",
       "82                2018-10-22 19:00:00              2                  NaN   \n",
       "83                2018-10-22 01:05:38            971                  NaN   \n",
       "84                2018-10-22 20:00:10              2                  NaN   \n",
       "85                2018-10-22 13:02:10             14                  NaN   \n",
       "...                               ...            ...                  ...   \n",
       "15633695          2014-12-03 17:16:41              6                  NaN   \n",
       "15633697          2014-12-03 15:40:01              3                  NaN   \n",
       "15633698          2014-12-03 15:23:41              6                  NaN   \n",
       "15633700          2014-12-03 12:20:18              1                  NaN   \n",
       "15633702          2014-12-03 00:29:29              4                  NaN   \n",
       "15633704          2014-12-02 19:14:50              1                  NaN   \n",
       "15633709          2014-12-02 13:11:31              1                  NaN   \n",
       "15633711          2014-12-02 11:14:45              3                  NaN   \n",
       "15633712          2014-12-02 11:15:17              2                  NaN   \n",
       "15633717          2014-11-29 11:20:10              2                  NaN   \n",
       "15633718          2014-11-28 21:10:22              2                  NaN   \n",
       "15633720          2014-11-28 18:50:11              2                  NaN   \n",
       "15633721          2014-11-28 12:12:39              3                  NaN   \n",
       "15633722          2014-11-27 23:18:36              2                  NaN   \n",
       "15633725          2014-11-26 12:50:07              1                  NaN   \n",
       "15633736          2014-11-25 16:03:19              1                  NaN   \n",
       "15633741          2014-11-25 13:03:12              1                  NaN   \n",
       "15633745          2014-11-24 17:02:51              2                  NaN   \n",
       "15633746          2014-11-24 09:30:04              1                  NaN   \n",
       "15633751          2014-11-23 05:57:08              1                  NaN   \n",
       "15633755          2014-11-22 20:51:00              1                  NaN   \n",
       "15633771          2014-11-21 01:22:41              1                  NaN   \n",
       "15633772          2014-11-21 12:37:28              1                  NaN   \n",
       "15633776          2014-11-20 21:04:37              1                  NaN   \n",
       "15633783          2014-11-20 18:10:07              1                  NaN   \n",
       "15633791          2014-11-19 21:23:28              1                  NaN   \n",
       "15633802          2014-11-19 09:50:43              3                  NaN   \n",
       "15633815          2014-11-17 20:46:02              2                  NaN   \n",
       "15633829          2014-11-14 23:30:04              1                  NaN   \n",
       "15633832          2014-11-14 22:21:57              1                  NaN   \n",
       "\n",
       "          user_tweets_on_dataset  rt_on_dataset time_diff  \n",
       "2                           3205              1  10:08:04  \n",
       "3                           3225              1  03:58:57  \n",
       "4                           3225             15  01:08:36  \n",
       "5                           3225              4  01:06:17  \n",
       "6                           3225              2  02:11:24  \n",
       "7                           3225              3  00:50:47  \n",
       "8                           3225             13  01:37:23  \n",
       "10                          3225             10  00:25:17  \n",
       "17                          3217              1  02:24:49  \n",
       "20                          3217              4  00:07:21  \n",
       "22                          3217              2  00:03:12  \n",
       "30                           857              1  03:57:08  \n",
       "31                           857              2  00:50:49  \n",
       "33                          3241              1  12:02:30  \n",
       "36                          3210              1  03:34:59  \n",
       "37                          3210              2  00:00:53  \n",
       "38                          3210              3  00:00:19  \n",
       "46                          3237              8  04:27:54  \n",
       "48                          3250              1  02:51:40  \n",
       "49                          3250              1  01:05:26  \n",
       "50                          3250              1  06:02:36  \n",
       "51                          3250              1  05:59:00  \n",
       "76                          3219              5  00:04:07  \n",
       "78                          3240              1  00:06:13  \n",
       "79                          3240              4  05:45:58  \n",
       "80                          3240              1  00:03:10  \n",
       "82                          3240              1  01:18:53  \n",
       "83                          3240             19  19:11:18  \n",
       "84                          3240              2  00:01:00  \n",
       "85                          3240              5  06:40:13  \n",
       "...                          ...            ...       ...  \n",
       "15633695                    3201              1  00:02:18  \n",
       "15633697                    3201              1  00:01:12  \n",
       "15633698                    3201              1  00:09:00  \n",
       "15633700                    3201              1  00:11:35  \n",
       "15633702                    3201              1  00:15:45  \n",
       "15633704                    3201              1  00:02:39  \n",
       "15633709                    3201              1  00:20:35  \n",
       "15633711                    3201              1  00:01:30  \n",
       "15633712                    3201              1  00:00:23  \n",
       "15633717                    3201              1  00:09:44  \n",
       "15633718                    3201              1  00:01:24  \n",
       "15633720                    3201              1  00:04:13  \n",
       "15633721                    3201              1  00:00:55  \n",
       "15633722                    3201              1  00:00:59  \n",
       "15633725                    3201              1  00:10:23  \n",
       "15633736                    3201              1  00:13:54  \n",
       "15633741                    3201              1  00:03:11  \n",
       "15633745                    3201              1  00:29:33  \n",
       "15633746                    3201              1  05:20:50  \n",
       "15633751                    3201              1  11:23:49  \n",
       "15633755                    3201              1  01:39:48  \n",
       "15633771                    3201              1  12:10:32  \n",
       "15633772                    3201              1  00:55:32  \n",
       "15633776                    3201              1  01:01:13  \n",
       "15633783                    3201              1  00:02:17  \n",
       "15633791                    3201              1  00:03:37  \n",
       "15633802                    3201              1  03:41:23  \n",
       "15633815                    3201              1  00:09:33  \n",
       "15633829                    3201              1  17:17:28  \n",
       "15633832                    3201              1  00:03:17  \n",
       "\n",
       "[4768392 rows x 12 columns]"
      ]
     },
     "execution_count": 32,
     "metadata": {},
     "output_type": "execute_result"
    }
   ],
   "source": [
    "data_f = df.copy()\n",
    "annotate_df_with_rt_on_dataset(data_f)\n",
    "data_f['time_diff'] = df_only_rt(data_f).created_at - df_only_rt(data_f).retweeted_status__created_at\n",
    "per_hour = df_only_rt(data_f).time_diff.groupby((df_only_rt(data_f).time_diff / np.timedelta64(1, 'h')).round(0)).count()\n",
    "df_only_rt(data_f)\n",
    "\n",
    "# on progress\n",
    "\n",
    "\n",
    "# total = data_f.iloc[0].rt_on_dataset\n",
    "# data_f['time_diff'] = data_f.created_at - data_f.retweeted_status__created_at\n",
    "\n",
    "# # filter on max_hour ? TODO\n",
    "# per_hour = (data_f.time_diff.groupby((data_f.time_diff / np.timedelta64(1, 'h')).round(0)).count())\n",
    "# if use_percentage:\n",
    "#     per_hour = per_hour / total\n",
    "\n",
    "# fig, axes = plt.subplots(ncols=2)\n",
    "# per_hour.plot(kind=\"bar\", ax=axes[0],figsize=(15, 4))\n",
    "# per_hour.cumsum().plot(kind='bar', ax=axes[1])\n",
    "# de[0:2].sum(), de[0:2]"
   ]
  }
 ],
 "metadata": {
  "kernelspec": {
   "display_name": "Python 3",
   "language": "python",
   "name": "python3"
  },
  "language_info": {
   "codemirror_mode": {
    "name": "ipython",
    "version": 3
   },
   "file_extension": ".py",
   "mimetype": "text/x-python",
   "name": "python",
   "nbconvert_exporter": "python",
   "pygments_lexer": "ipython3",
   "version": "3.6.7"
  }
 },
 "nbformat": 4,
 "nbformat_minor": 2
}
