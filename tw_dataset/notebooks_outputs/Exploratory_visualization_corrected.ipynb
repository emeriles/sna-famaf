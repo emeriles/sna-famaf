{
 "cells": [
  {
   "cell_type": "code",
   "execution_count": 1,
   "metadata": {},
   "outputs": [],
   "source": [
    "csv_path =\"../../dataset/full_dataset.csv\""
   ]
  },
  {
   "cell_type": "code",
   "execution_count": 2,
   "metadata": {},
   "outputs": [],
   "source": [
    "import pandas as pd\n",
    "import pickle\n",
    "from db import DBHandler\n",
    "import numpy as np\n",
    "import matplotlib.pyplot as plt\n",
    "%matplotlib inline"
   ]
  },
  {
   "cell_type": "code",
   "execution_count": 3,
   "metadata": {},
   "outputs": [
    {
     "name": "stdout",
     "output_type": "stream",
     "text": [
      "CPU times: user 50min 30s, sys: 11.7 s, total: 50min 42s\n",
      "Wall time: 50min 42s\n"
     ]
    }
   ],
   "source": [
    "%%time\n",
    "\n",
    "dtypes = {\n",
    "    'user.id_str': str,\n",
    "    'id_str': str,\n",
    "    'text': str,\n",
    "    'retweeted_status.id_str': str ,\n",
    "    'retweeted_status.user.id_str': str,\n",
    "    'retweet_count': int,\n",
    "    'quoted_status_id_str': str,\n",
    "}\n",
    "df = pd.read_csv(csv_path, dtype=dtypes)\n",
    "\n",
    "# parse dates\n",
    "datetime_cols = [c for c in df.columns if 'created_at' in c]\n",
    "for c in datetime_cols:\n",
    "    df[c] = pd.to_datetime(df[c])\n",
    "\n",
    "# reemplazar nombre de columnas: . por __ para sintactic sugar de pandas.\n",
    "df.rename(columns=lambda x: x.replace('.', '__'), inplace=True)"
   ]
  },
  {
   "cell_type": "code",
   "execution_count": 4,
   "metadata": {},
   "outputs": [
    {
     "data": {
      "text/html": [
       "<div>\n",
       "<style scoped>\n",
       "    .dataframe tbody tr th:only-of-type {\n",
       "        vertical-align: middle;\n",
       "    }\n",
       "\n",
       "    .dataframe tbody tr th {\n",
       "        vertical-align: top;\n",
       "    }\n",
       "\n",
       "    .dataframe thead th {\n",
       "        text-align: right;\n",
       "    }\n",
       "</style>\n",
       "<table border=\"1\" class=\"dataframe\">\n",
       "  <thead>\n",
       "    <tr style=\"text-align: right;\">\n",
       "      <th></th>\n",
       "      <th>created_at</th>\n",
       "      <th>user__id_str</th>\n",
       "      <th>id_str</th>\n",
       "      <th>text</th>\n",
       "      <th>retweeted_status__id_str</th>\n",
       "      <th>retweeted_status__user__id_str</th>\n",
       "      <th>retweeted_status__created_at</th>\n",
       "      <th>retweet_count</th>\n",
       "      <th>quoted_status_id_str</th>\n",
       "    </tr>\n",
       "  </thead>\n",
       "  <tbody>\n",
       "    <tr>\n",
       "      <th>15633828</th>\n",
       "      <td>2014-11-15 22:00:54</td>\n",
       "      <td>517662064</td>\n",
       "      <td>533741455916142593</td>\n",
       "      <td>3 Pasos que te ayudarán a concretar ventas en ...</td>\n",
       "      <td>NaN</td>\n",
       "      <td>NaN</td>\n",
       "      <td>NaT</td>\n",
       "      <td>0</td>\n",
       "      <td>NaN</td>\n",
       "    </tr>\n",
       "    <tr>\n",
       "      <th>15633829</th>\n",
       "      <td>2014-11-15 16:47:32</td>\n",
       "      <td>517662064</td>\n",
       "      <td>533662594352291840</td>\n",
       "      <td>RT @soymercadologo: ¿Cómo crear un concurso de...</td>\n",
       "      <td>533401510814560259</td>\n",
       "      <td>586259297</td>\n",
       "      <td>2014-11-14 23:30:04</td>\n",
       "      <td>1</td>\n",
       "      <td>NaN</td>\n",
       "    </tr>\n",
       "    <tr>\n",
       "      <th>15633830</th>\n",
       "      <td>2014-11-14 22:34:08</td>\n",
       "      <td>517662064</td>\n",
       "      <td>533387430976831488</td>\n",
       "      <td>3 Pasos que te ayudarán a concretar ventas en ...</td>\n",
       "      <td>NaN</td>\n",
       "      <td>NaN</td>\n",
       "      <td>NaT</td>\n",
       "      <td>0</td>\n",
       "      <td>NaN</td>\n",
       "    </tr>\n",
       "    <tr>\n",
       "      <th>15633831</th>\n",
       "      <td>2014-11-14 22:30:31</td>\n",
       "      <td>517662064</td>\n",
       "      <td>533386523807604736</td>\n",
       "      <td>@muriel74 Por nada, ¡a lucirla ahora! :)</td>\n",
       "      <td>NaN</td>\n",
       "      <td>NaN</td>\n",
       "      <td>NaT</td>\n",
       "      <td>0</td>\n",
       "      <td>NaN</td>\n",
       "    </tr>\n",
       "    <tr>\n",
       "      <th>15633832</th>\n",
       "      <td>2014-11-14 22:25:14</td>\n",
       "      <td>517662064</td>\n",
       "      <td>533385193252737024</td>\n",
       "      <td>RT @Same09b: ¿Qué red social va a generarte me...</td>\n",
       "      <td>533384367112876033</td>\n",
       "      <td>729712033</td>\n",
       "      <td>2014-11-14 22:21:57</td>\n",
       "      <td>1</td>\n",
       "      <td>NaN</td>\n",
       "    </tr>\n",
       "  </tbody>\n",
       "</table>\n",
       "</div>"
      ],
      "text/plain": [
       "                  created_at user__id_str              id_str  \\\n",
       "15633828 2014-11-15 22:00:54    517662064  533741455916142593   \n",
       "15633829 2014-11-15 16:47:32    517662064  533662594352291840   \n",
       "15633830 2014-11-14 22:34:08    517662064  533387430976831488   \n",
       "15633831 2014-11-14 22:30:31    517662064  533386523807604736   \n",
       "15633832 2014-11-14 22:25:14    517662064  533385193252737024   \n",
       "\n",
       "                                                       text  \\\n",
       "15633828  3 Pasos que te ayudarán a concretar ventas en ...   \n",
       "15633829  RT @soymercadologo: ¿Cómo crear un concurso de...   \n",
       "15633830  3 Pasos que te ayudarán a concretar ventas en ...   \n",
       "15633831           @muriel74 Por nada, ¡a lucirla ahora! :)   \n",
       "15633832  RT @Same09b: ¿Qué red social va a generarte me...   \n",
       "\n",
       "         retweeted_status__id_str retweeted_status__user__id_str  \\\n",
       "15633828                      NaN                            NaN   \n",
       "15633829       533401510814560259                      586259297   \n",
       "15633830                      NaN                            NaN   \n",
       "15633831                      NaN                            NaN   \n",
       "15633832       533384367112876033                      729712033   \n",
       "\n",
       "         retweeted_status__created_at  retweet_count quoted_status_id_str  \n",
       "15633828                          NaT              0                  NaN  \n",
       "15633829          2014-11-14 23:30:04              1                  NaN  \n",
       "15633830                          NaT              0                  NaN  \n",
       "15633831                          NaT              0                  NaN  \n",
       "15633832          2014-11-14 22:21:57              1                  NaN  "
      ]
     },
     "execution_count": 4,
     "metadata": {},
     "output_type": "execute_result"
    }
   ],
   "source": [
    "df.tail()"
   ]
  },
  {
   "cell_type": "code",
   "execution_count": 5,
   "metadata": {
    "scrolled": false
   },
   "outputs": [],
   "source": [
    "### READ FROM MONGODB CONNECTION\n",
    "\n",
    "\n",
    "# h = DBHandler(port=27017)\n",
    "\n",
    "# columns = ['created_at', 'id_str', 'retweet_count', 'retweeted_status__id_str', 'retweeted_status__created_at']\n",
    "# separator = '__'\n",
    "# project = ({f_name: '$' + f_name.replace(separator, '.') for f_name in columns})\n",
    "# project.update({'retweeted_status': '$retweeted_status.id_str'})\n",
    "\n",
    "\n",
    "# cursor = h.tweet_collection.aggregate([\n",
    "#     {'$project': project}\n",
    "# ])\n",
    "# df = pd.DataFrame(list(cursor))\n",
    "\n",
    "# # datatype conversion\n",
    "# datetime_cols = [c for c in df.columns if 'created_at' in c]\n",
    "# for c in datetime_cols:\n",
    "#     df[c] = pd.to_datetime(df[c])"
   ]
  },
  {
   "cell_type": "code",
   "execution_count": 6,
   "metadata": {},
   "outputs": [],
   "source": [
    "# usefull aliases\n",
    "def df_only_rt(data_f):\n",
    "    return data_f[data_f.retweeted_status__id_str.notna()]\n",
    "\n",
    "def df_not_rt(data_f):\n",
    "    return data_f[data_f.retweeted_status__id_str.isna()]\n",
    "\n",
    "def df_commented(data_f):\n",
    "    return data_f[data_f.quoted_status_id_str.notna()]"
   ]
  },
  {
   "cell_type": "markdown",
   "metadata": {},
   "source": [
    "### Basic counts"
   ]
  },
  {
   "cell_type": "code",
   "execution_count": 7,
   "metadata": {},
   "outputs": [
    {
     "name": "stdout",
     "output_type": "stream",
     "text": [
      "Hay 5338 usuarios en el dataset.\n",
      "Hay 15633833 tweets en el dataset.\n"
     ]
    },
    {
     "name": "stdout",
     "output_type": "stream",
     "text": [
      "       retweet_count\n",
      "count   1.563383e+07\n",
      "mean    3.266253e+02\n",
      "std     1.072204e+04\n",
      "min     0.000000e+00\n",
      "25%     0.000000e+00\n",
      "50%     1.000000e+00\n",
      "75%     1.000000e+01\n",
      "max     3.578968e+06\n",
      "CPU times: user 18.1 s, sys: 732 ms, total: 18.8 s\n",
      "Wall time: 18.8 s\n"
     ]
    }
   ],
   "source": [
    "%%time\n",
    "quantity_of_users_on_ds = df.user__id_str.value_counts().count()\n",
    "quantity_of_tweets_on_ds = df.id_str.value_counts().count()\n",
    "print('Hay {} usuarios en el dataset.'.format(quantity_of_users_on_ds))\n",
    "print('Hay {} tweets en el dataset.'.format(quantity_of_tweets_on_ds))\n",
    "print(df.describe())"
   ]
  },
  {
   "cell_type": "markdown",
   "metadata": {},
   "source": [
    "# Recorte 1: tomar solo retweets que relacionan nuestros usuarios\n",
    "\n",
    "Para algunos puntos desarrollados se tendrá en cuenta un recorte de dataset: Éste consiste en tomar, de todos los tweets recogidos, sólo aquellos que relacionan nuestros usuarios considerados para el estudio.\n",
    "\n",
    "Se usará 'Global' para referirse a la totalidad de los tweets, y 'Recorte 1' para referirse a la selección mencionada.\n",
    "\n",
    "(Problema 1: el campo retweeted_status devuelve el tweet original, no el tweet que se retweeteo. Es decir que si se trata de un RT de un RT, la relación retweeted_status ignora los intermedios y señala el tweet original.)"
   ]
  },
  {
   "cell_type": "code",
   "execution_count": 8,
   "metadata": {
    "scrolled": false
   },
   "outputs": [
    {
     "name": "stdout",
     "output_type": "stream",
     "text": [
      "(631579, 631579, 1414880)\n",
      "CPU times: user 11.4 s, sys: 740 ms, total: 12.1 s\n",
      "Wall time: 11.9 s\n"
     ]
    }
   ],
   "source": [
    "%%time\n",
    "# df.id_str tiene tweets originales de nuestros usuarios, por haber levantado timelines.\n",
    "\n",
    "# estas tres cuentas dan cosas raras!!! (mirar la cantidad tmb, parecida a la cantidad de tweets-no-rt)\n",
    "a = df.retweeted_status__id_str.isin(df.id_str).sum(), \\\n",
    "df.retweeted_status__id_str.isin(df_not_rt(df).id_str).sum(), \\\n",
    "df.retweeted_status__user__id_str.isin(df.user__id_str).sum()\n",
    "print(a)\n",
    "\n",
    "# df[~ df.retweeted_status__id_str.isin(df_not_rt().id_str) & \\\n",
    "#    df.retweeted_status__user__id_str.isin(df.user__id_str)]"
   ]
  },
  {
   "cell_type": "code",
   "execution_count": 9,
   "metadata": {
    "scrolled": true
   },
   "outputs": [
    {
     "data": {
      "text/html": [
       "<div>\n",
       "<style scoped>\n",
       "    .dataframe tbody tr th:only-of-type {\n",
       "        vertical-align: middle;\n",
       "    }\n",
       "\n",
       "    .dataframe tbody tr th {\n",
       "        vertical-align: top;\n",
       "    }\n",
       "\n",
       "    .dataframe thead th {\n",
       "        text-align: right;\n",
       "    }\n",
       "</style>\n",
       "<table border=\"1\" class=\"dataframe\">\n",
       "  <thead>\n",
       "    <tr style=\"text-align: right;\">\n",
       "      <th></th>\n",
       "      <th>created_at</th>\n",
       "      <th>user__id_str</th>\n",
       "      <th>id_str</th>\n",
       "      <th>text</th>\n",
       "      <th>retweeted_status__id_str</th>\n",
       "      <th>retweeted_status__user__id_str</th>\n",
       "      <th>retweeted_status__created_at</th>\n",
       "      <th>retweet_count</th>\n",
       "      <th>quoted_status_id_str</th>\n",
       "    </tr>\n",
       "  </thead>\n",
       "  <tbody>\n",
       "    <tr>\n",
       "      <th>13471441</th>\n",
       "      <td>2018-10-28 18:15:00</td>\n",
       "      <td>69416519</td>\n",
       "      <td>1056610297207648257</td>\n",
       "      <td>\"Quedate con ella porque no pasa la noche\": la...</td>\n",
       "      <td>NaN</td>\n",
       "      <td>NaN</td>\n",
       "      <td>NaT</td>\n",
       "      <td>4</td>\n",
       "      <td>NaN</td>\n",
       "    </tr>\n",
       "    <tr>\n",
       "      <th>13471442</th>\n",
       "      <td>2018-10-28 18:12:42</td>\n",
       "      <td>69416519</td>\n",
       "      <td>1056609719471747072</td>\n",
       "      <td>Dólar estable, inflación en baja y crecer al 8...</td>\n",
       "      <td>NaN</td>\n",
       "      <td>NaN</td>\n",
       "      <td>NaT</td>\n",
       "      <td>0</td>\n",
       "      <td>NaN</td>\n",
       "    </tr>\n",
       "    <tr>\n",
       "      <th>13471443</th>\n",
       "      <td>2018-10-28 18:06:00</td>\n",
       "      <td>69416519</td>\n",
       "      <td>1056608032375926784</td>\n",
       "      <td>Banfield y Estudiantes se miden en un duelo en...</td>\n",
       "      <td>NaN</td>\n",
       "      <td>NaN</td>\n",
       "      <td>NaT</td>\n",
       "      <td>0</td>\n",
       "      <td>NaN</td>\n",
       "    </tr>\n",
       "    <tr>\n",
       "      <th>13471444</th>\n",
       "      <td>2018-10-28 18:04:00</td>\n",
       "      <td>69416519</td>\n",
       "      <td>1056607529436876801</td>\n",
       "      <td>Vélez apuesta a encontrar la regularidad ante ...</td>\n",
       "      <td>NaN</td>\n",
       "      <td>NaN</td>\n",
       "      <td>NaT</td>\n",
       "      <td>0</td>\n",
       "      <td>NaN</td>\n",
       "    </tr>\n",
       "    <tr>\n",
       "      <th>13471445</th>\n",
       "      <td>2018-10-28 18:02:00</td>\n",
       "      <td>69416519</td>\n",
       "      <td>1056607026128797698</td>\n",
       "      <td>El hat-trick de Luis Suárez al Real Madrid  ht...</td>\n",
       "      <td>NaN</td>\n",
       "      <td>NaN</td>\n",
       "      <td>NaT</td>\n",
       "      <td>4</td>\n",
       "      <td>NaN</td>\n",
       "    </tr>\n",
       "    <tr>\n",
       "      <th>13471446</th>\n",
       "      <td>2018-10-28 18:00:01</td>\n",
       "      <td>69416519</td>\n",
       "      <td>1056606525123264512</td>\n",
       "      <td>Modernidad vs edificios históricos: las mejore...</td>\n",
       "      <td>NaN</td>\n",
       "      <td>NaN</td>\n",
       "      <td>NaT</td>\n",
       "      <td>4</td>\n",
       "      <td>NaN</td>\n",
       "    </tr>\n",
       "    <tr>\n",
       "      <th>13471447</th>\n",
       "      <td>2018-10-28 17:58:00</td>\n",
       "      <td>69416519</td>\n",
       "      <td>1056606019160326145</td>\n",
       "      <td>Minuto a minuto: Brasil vota entre Jair Bolson...</td>\n",
       "      <td>NaN</td>\n",
       "      <td>NaN</td>\n",
       "      <td>NaT</td>\n",
       "      <td>2</td>\n",
       "      <td>NaN</td>\n",
       "    </tr>\n",
       "    <tr>\n",
       "      <th>13471448</th>\n",
       "      <td>2018-10-28 17:54:00</td>\n",
       "      <td>69416519</td>\n",
       "      <td>1056605012061696000</td>\n",
       "      <td>Después de los cuadernos, las campañas del kir...</td>\n",
       "      <td>NaN</td>\n",
       "      <td>NaN</td>\n",
       "      <td>NaT</td>\n",
       "      <td>4</td>\n",
       "      <td>NaN</td>\n",
       "    </tr>\n",
       "    <tr>\n",
       "      <th>13471449</th>\n",
       "      <td>2018-10-28 17:51:56</td>\n",
       "      <td>69416519</td>\n",
       "      <td>1056604492727230465</td>\n",
       "      <td>Exclusivo: el contenido de los pendrives que d...</td>\n",
       "      <td>NaN</td>\n",
       "      <td>NaN</td>\n",
       "      <td>NaT</td>\n",
       "      <td>13</td>\n",
       "      <td>NaN</td>\n",
       "    </tr>\n",
       "    <tr>\n",
       "      <th>13471450</th>\n",
       "      <td>2018-10-28 17:49:42</td>\n",
       "      <td>69416519</td>\n",
       "      <td>1056603932255047680</td>\n",
       "      <td>En las escuelas porteñas, dos alumnos controla...</td>\n",
       "      <td>NaN</td>\n",
       "      <td>NaN</td>\n",
       "      <td>NaT</td>\n",
       "      <td>2</td>\n",
       "      <td>NaN</td>\n",
       "    </tr>\n",
       "    <tr>\n",
       "      <th>13471451</th>\n",
       "      <td>2018-10-28 17:46:11</td>\n",
       "      <td>69416519</td>\n",
       "      <td>1056603047512756226</td>\n",
       "      <td>#BrasilDecide [OPINIÓN] El alegre camino hacia...</td>\n",
       "      <td>NaN</td>\n",
       "      <td>NaN</td>\n",
       "      <td>NaT</td>\n",
       "      <td>8</td>\n",
       "      <td>NaN</td>\n",
       "    </tr>\n",
       "    <tr>\n",
       "      <th>13471452</th>\n",
       "      <td>2018-10-28 17:42:39</td>\n",
       "      <td>69416519</td>\n",
       "      <td>1056602158458724352</td>\n",
       "      <td>El plan de Macri para endurecer la política co...</td>\n",
       "      <td>NaN</td>\n",
       "      <td>NaN</td>\n",
       "      <td>NaT</td>\n",
       "      <td>17</td>\n",
       "      <td>NaN</td>\n",
       "    </tr>\n",
       "    <tr>\n",
       "      <th>13471453</th>\n",
       "      <td>2018-10-28 17:40:50</td>\n",
       "      <td>69416519</td>\n",
       "      <td>1056601699207516160</td>\n",
       "      <td>El papa Francisco calificó de \"acto inhumano\" ...</td>\n",
       "      <td>NaN</td>\n",
       "      <td>NaN</td>\n",
       "      <td>NaT</td>\n",
       "      <td>1</td>\n",
       "      <td>NaN</td>\n",
       "    </tr>\n",
       "    <tr>\n",
       "      <th>13471454</th>\n",
       "      <td>2018-10-28 17:39:48</td>\n",
       "      <td>69416519</td>\n",
       "      <td>1056601440616095744</td>\n",
       "      <td>40 fotos del Six O´Clock Tea en la embajada de...</td>\n",
       "      <td>NaN</td>\n",
       "      <td>NaN</td>\n",
       "      <td>NaT</td>\n",
       "      <td>0</td>\n",
       "      <td>NaN</td>\n",
       "    </tr>\n",
       "    <tr>\n",
       "      <th>13471455</th>\n",
       "      <td>2018-10-28 17:35:31</td>\n",
       "      <td>69416519</td>\n",
       "      <td>1056600362545750017</td>\n",
       "      <td>El 40% de los peatones mira el celular al cruz...</td>\n",
       "      <td>NaN</td>\n",
       "      <td>NaN</td>\n",
       "      <td>NaT</td>\n",
       "      <td>5</td>\n",
       "      <td>NaN</td>\n",
       "    </tr>\n",
       "    <tr>\n",
       "      <th>13471456</th>\n",
       "      <td>2018-10-28 17:32:12</td>\n",
       "      <td>69416519</td>\n",
       "      <td>1056599526457466881</td>\n",
       "      <td>Abdominales: el video de los 6 ejercicios para...</td>\n",
       "      <td>NaN</td>\n",
       "      <td>NaN</td>\n",
       "      <td>NaT</td>\n",
       "      <td>19</td>\n",
       "      <td>NaN</td>\n",
       "    </tr>\n",
       "    <tr>\n",
       "      <th>13471457</th>\n",
       "      <td>2018-10-28 17:29:04</td>\n",
       "      <td>69416519</td>\n",
       "      <td>1056598738830004224</td>\n",
       "      <td>El festejo de los dos años de Isabella Icardi:...</td>\n",
       "      <td>NaN</td>\n",
       "      <td>NaN</td>\n",
       "      <td>NaT</td>\n",
       "      <td>0</td>\n",
       "      <td>NaN</td>\n",
       "    </tr>\n",
       "    <tr>\n",
       "      <th>13471458</th>\n",
       "      <td>2018-10-28 17:27:44</td>\n",
       "      <td>69416519</td>\n",
       "      <td>1056598403403124736</td>\n",
       "      <td>En los rankings de bestsellers ahora mandan la...</td>\n",
       "      <td>NaN</td>\n",
       "      <td>NaN</td>\n",
       "      <td>NaT</td>\n",
       "      <td>3</td>\n",
       "      <td>NaN</td>\n",
       "    </tr>\n",
       "    <tr>\n",
       "      <th>13471459</th>\n",
       "      <td>2018-10-28 17:23:21</td>\n",
       "      <td>69416519</td>\n",
       "      <td>1056597298514485252</td>\n",
       "      <td>Florencia Etcheves: \"Escribí esta novela casi ...</td>\n",
       "      <td>NaN</td>\n",
       "      <td>NaN</td>\n",
       "      <td>NaT</td>\n",
       "      <td>0</td>\n",
       "      <td>NaN</td>\n",
       "    </tr>\n",
       "    <tr>\n",
       "      <th>13471460</th>\n",
       "      <td>2018-10-28 17:19:18</td>\n",
       "      <td>69416519</td>\n",
       "      <td>1056596279881535491</td>\n",
       "      <td>El misterio Banksy: arte y guerrilla del desco...</td>\n",
       "      <td>NaN</td>\n",
       "      <td>NaN</td>\n",
       "      <td>NaT</td>\n",
       "      <td>0</td>\n",
       "      <td>NaN</td>\n",
       "    </tr>\n",
       "    <tr>\n",
       "      <th>13471461</th>\n",
       "      <td>2018-10-28 17:17:48</td>\n",
       "      <td>69416519</td>\n",
       "      <td>1056595901458903040</td>\n",
       "      <td>RT @InfobaeDeportes: El Barcelona humilló al R...</td>\n",
       "      <td>1056595675503386626</td>\n",
       "      <td>181250955</td>\n",
       "      <td>2018-10-28 17:16:54</td>\n",
       "      <td>20</td>\n",
       "      <td>NaN</td>\n",
       "    </tr>\n",
       "    <tr>\n",
       "      <th>13471462</th>\n",
       "      <td>2018-10-28 17:17:26</td>\n",
       "      <td>69416519</td>\n",
       "      <td>1056595810706690048</td>\n",
       "      <td>Cuando García Márquez ejercía \"el mejor oficio...</td>\n",
       "      <td>NaN</td>\n",
       "      <td>NaN</td>\n",
       "      <td>NaT</td>\n",
       "      <td>1</td>\n",
       "      <td>NaN</td>\n",
       "    </tr>\n",
       "    <tr>\n",
       "      <th>13471463</th>\n",
       "      <td>2018-10-28 17:15:00</td>\n",
       "      <td>69416519</td>\n",
       "      <td>1056595197327400960</td>\n",
       "      <td>\"Quedate con ella porque no pasa la noche\": la...</td>\n",
       "      <td>NaN</td>\n",
       "      <td>NaN</td>\n",
       "      <td>NaT</td>\n",
       "      <td>11</td>\n",
       "      <td>NaN</td>\n",
       "    </tr>\n",
       "    <tr>\n",
       "      <th>13471464</th>\n",
       "      <td>2018-10-28 17:11:24</td>\n",
       "      <td>69416519</td>\n",
       "      <td>1056594293656297472</td>\n",
       "      <td>200 km de Buenos Aires: cómo será la edición e...</td>\n",
       "      <td>NaN</td>\n",
       "      <td>NaN</td>\n",
       "      <td>NaT</td>\n",
       "      <td>0</td>\n",
       "      <td>NaN</td>\n",
       "    </tr>\n",
       "    <tr>\n",
       "      <th>13471465</th>\n",
       "      <td>2018-10-28 17:09:07</td>\n",
       "      <td>69416519</td>\n",
       "      <td>1056593717056995328</td>\n",
       "      <td>Una escuela de tenis de mesa para sacar a los ...</td>\n",
       "      <td>NaN</td>\n",
       "      <td>NaN</td>\n",
       "      <td>NaT</td>\n",
       "      <td>11</td>\n",
       "      <td>NaN</td>\n",
       "    </tr>\n",
       "    <tr>\n",
       "      <th>13471466</th>\n",
       "      <td>2018-10-28 17:05:10</td>\n",
       "      <td>69416519</td>\n",
       "      <td>1056592724802056192</td>\n",
       "      <td>RT @InfobaeDeportes: Con un triplete de Luis S...</td>\n",
       "      <td>1056592701058105345</td>\n",
       "      <td>181250955</td>\n",
       "      <td>2018-10-28 17:05:05</td>\n",
       "      <td>24</td>\n",
       "      <td>NaN</td>\n",
       "    </tr>\n",
       "    <tr>\n",
       "      <th>13471467</th>\n",
       "      <td>2018-10-28 17:02:28</td>\n",
       "      <td>69416519</td>\n",
       "      <td>1056592043626127360</td>\n",
       "      <td>Llega Halloween: series y películas de terror ...</td>\n",
       "      <td>NaN</td>\n",
       "      <td>NaN</td>\n",
       "      <td>NaT</td>\n",
       "      <td>0</td>\n",
       "      <td>NaN</td>\n",
       "    </tr>\n",
       "    <tr>\n",
       "      <th>13471468</th>\n",
       "      <td>2018-10-28 17:01:50</td>\n",
       "      <td>69416519</td>\n",
       "      <td>1056591884255137799</td>\n",
       "      <td>¿Fue penal?: la falta de Raphael Varane sobre ...</td>\n",
       "      <td>NaN</td>\n",
       "      <td>NaN</td>\n",
       "      <td>NaT</td>\n",
       "      <td>0</td>\n",
       "      <td>NaN</td>\n",
       "    </tr>\n",
       "    <tr>\n",
       "      <th>13471469</th>\n",
       "      <td>2018-10-28 17:00:13</td>\n",
       "      <td>69416519</td>\n",
       "      <td>1056591479659995138</td>\n",
       "      <td>RT @InfobaeDeportes: Gol de #Barcelona, lo hiz...</td>\n",
       "      <td>1056591435326255111</td>\n",
       "      <td>181250955</td>\n",
       "      <td>2018-10-28 17:00:03</td>\n",
       "      <td>3</td>\n",
       "      <td>NaN</td>\n",
       "    </tr>\n",
       "    <tr>\n",
       "      <th>13471470</th>\n",
       "      <td>2018-10-28 16:58:25</td>\n",
       "      <td>69416519</td>\n",
       "      <td>1056591023663648776</td>\n",
       "      <td>Lisandro López reveló qué les dijo Coudet en e...</td>\n",
       "      <td>NaN</td>\n",
       "      <td>NaN</td>\n",
       "      <td>NaT</td>\n",
       "      <td>0</td>\n",
       "      <td>NaN</td>\n",
       "    </tr>\n",
       "    <tr>\n",
       "      <th>...</th>\n",
       "      <td>...</td>\n",
       "      <td>...</td>\n",
       "      <td>...</td>\n",
       "      <td>...</td>\n",
       "      <td>...</td>\n",
       "      <td>...</td>\n",
       "      <td>...</td>\n",
       "      <td>...</td>\n",
       "      <td>...</td>\n",
       "    </tr>\n",
       "    <tr>\n",
       "      <th>13474614</th>\n",
       "      <td>2018-10-20 01:15:00</td>\n",
       "      <td>69416519</td>\n",
       "      <td>1053454502890741761</td>\n",
       "      <td>[AUDIO] Claudio Belocopitt: \"No creo que en to...</td>\n",
       "      <td>NaN</td>\n",
       "      <td>NaN</td>\n",
       "      <td>NaT</td>\n",
       "      <td>0</td>\n",
       "      <td>NaN</td>\n",
       "    </tr>\n",
       "    <tr>\n",
       "      <th>13474615</th>\n",
       "      <td>2018-10-20 01:10:00</td>\n",
       "      <td>69416519</td>\n",
       "      <td>1053453244414869505</td>\n",
       "      <td>Cáncer de mama: detectado a tiempo el 90% de l...</td>\n",
       "      <td>NaN</td>\n",
       "      <td>NaN</td>\n",
       "      <td>NaT</td>\n",
       "      <td>24</td>\n",
       "      <td>NaN</td>\n",
       "    </tr>\n",
       "    <tr>\n",
       "      <th>13474616</th>\n",
       "      <td>2018-10-20 01:06:01</td>\n",
       "      <td>69416519</td>\n",
       "      <td>1053452243024830464</td>\n",
       "      <td>Consumo con tarjeta: las tasas llegan a supera...</td>\n",
       "      <td>NaN</td>\n",
       "      <td>NaN</td>\n",
       "      <td>NaT</td>\n",
       "      <td>7</td>\n",
       "      <td>NaN</td>\n",
       "    </tr>\n",
       "    <tr>\n",
       "      <th>13474617</th>\n",
       "      <td>2018-10-20 01:05:51</td>\n",
       "      <td>69416519</td>\n",
       "      <td>1053452201551634434</td>\n",
       "      <td>La China Suárez publicó la foto familiar más t...</td>\n",
       "      <td>NaN</td>\n",
       "      <td>NaN</td>\n",
       "      <td>NaT</td>\n",
       "      <td>0</td>\n",
       "      <td>NaN</td>\n",
       "    </tr>\n",
       "    <tr>\n",
       "      <th>13474618</th>\n",
       "      <td>2018-10-20 01:02:28</td>\n",
       "      <td>69416519</td>\n",
       "      <td>1053451349382316033</td>\n",
       "      <td>RT @InfobaeDeportes: #Superliga Terminó el pri...</td>\n",
       "      <td>1053451295842013184</td>\n",
       "      <td>181250955</td>\n",
       "      <td>2018-10-20 01:02:15</td>\n",
       "      <td>1</td>\n",
       "      <td>NaN</td>\n",
       "    </tr>\n",
       "    <tr>\n",
       "      <th>13474619</th>\n",
       "      <td>2018-10-20 01:00:00</td>\n",
       "      <td>69416519</td>\n",
       "      <td>1053450729334153218</td>\n",
       "      <td>[VIDEO] Una mujer tropezó dentro de un tanque ...</td>\n",
       "      <td>NaN</td>\n",
       "      <td>NaN</td>\n",
       "      <td>NaT</td>\n",
       "      <td>3</td>\n",
       "      <td>NaN</td>\n",
       "    </tr>\n",
       "    <tr>\n",
       "      <th>13474620</th>\n",
       "      <td>2018-10-20 00:58:51</td>\n",
       "      <td>69416519</td>\n",
       "      <td>1053450440510189568</td>\n",
       "      <td>El \"Chino\" Maidana recordó el golpe del \"dient...</td>\n",
       "      <td>NaN</td>\n",
       "      <td>NaN</td>\n",
       "      <td>NaT</td>\n",
       "      <td>0</td>\n",
       "      <td>NaN</td>\n",
       "    </tr>\n",
       "    <tr>\n",
       "      <th>13474621</th>\n",
       "      <td>2018-10-20 00:58:12</td>\n",
       "      <td>69416519</td>\n",
       "      <td>1053450276475146241</td>\n",
       "      <td>Semana financiera: el dólar volvió a precios d...</td>\n",
       "      <td>NaN</td>\n",
       "      <td>NaN</td>\n",
       "      <td>NaT</td>\n",
       "      <td>0</td>\n",
       "      <td>NaN</td>\n",
       "    </tr>\n",
       "    <tr>\n",
       "      <th>13474622</th>\n",
       "      <td>2018-10-20 00:53:09</td>\n",
       "      <td>69416519</td>\n",
       "      <td>1053449006108549121</td>\n",
       "      <td>Joan Manuel Serrat: \"Es mucho más instructivo ...</td>\n",
       "      <td>NaN</td>\n",
       "      <td>NaN</td>\n",
       "      <td>NaT</td>\n",
       "      <td>8</td>\n",
       "      <td>NaN</td>\n",
       "    </tr>\n",
       "    <tr>\n",
       "      <th>13474623</th>\n",
       "      <td>2018-10-20 00:49:14</td>\n",
       "      <td>69416519</td>\n",
       "      <td>1053448020589731840</td>\n",
       "      <td>¿Esta imagen se mueve? La ilusión óptica que f...</td>\n",
       "      <td>NaN</td>\n",
       "      <td>NaN</td>\n",
       "      <td>NaT</td>\n",
       "      <td>0</td>\n",
       "      <td>NaN</td>\n",
       "    </tr>\n",
       "    <tr>\n",
       "      <th>13474624</th>\n",
       "      <td>2018-10-20 00:46:59</td>\n",
       "      <td>69416519</td>\n",
       "      <td>1053447452425101317</td>\n",
       "      <td>Se lanza un satélite a Mercurio y la Argentina...</td>\n",
       "      <td>NaN</td>\n",
       "      <td>NaN</td>\n",
       "      <td>NaT</td>\n",
       "      <td>14</td>\n",
       "      <td>NaN</td>\n",
       "    </tr>\n",
       "    <tr>\n",
       "      <th>13474625</th>\n",
       "      <td>2018-10-20 00:45:19</td>\n",
       "      <td>69416519</td>\n",
       "      <td>1053447033724588033</td>\n",
       "      <td>RT @InfobaeDeportes: #Superliga En 30 minutos ...</td>\n",
       "      <td>1053446994453282817</td>\n",
       "      <td>181250955</td>\n",
       "      <td>2018-10-20 00:45:10</td>\n",
       "      <td>1</td>\n",
       "      <td>NaN</td>\n",
       "    </tr>\n",
       "    <tr>\n",
       "      <th>13474626</th>\n",
       "      <td>2018-10-20 00:43:38</td>\n",
       "      <td>69416519</td>\n",
       "      <td>1053446609655250945</td>\n",
       "      <td>El mal momento de Nicolás Cabré, furioso con l...</td>\n",
       "      <td>NaN</td>\n",
       "      <td>NaN</td>\n",
       "      <td>NaT</td>\n",
       "      <td>0</td>\n",
       "      <td>NaN</td>\n",
       "    </tr>\n",
       "    <tr>\n",
       "      <th>13474627</th>\n",
       "      <td>2018-10-20 00:35:56</td>\n",
       "      <td>69416519</td>\n",
       "      <td>1053444670028767232</td>\n",
       "      <td>Una clase exprés del ejercicio que quema nueve...</td>\n",
       "      <td>NaN</td>\n",
       "      <td>NaN</td>\n",
       "      <td>NaT</td>\n",
       "      <td>1</td>\n",
       "      <td>NaN</td>\n",
       "    </tr>\n",
       "    <tr>\n",
       "      <th>13474628</th>\n",
       "      <td>2018-10-20 00:30:24</td>\n",
       "      <td>69416519</td>\n",
       "      <td>1053443280434806784</td>\n",
       "      <td>RT @InfobaeDeportes: #Superliga En 15 minutos ...</td>\n",
       "      <td>1053443234343649283</td>\n",
       "      <td>181250955</td>\n",
       "      <td>2018-10-20 00:30:13</td>\n",
       "      <td>1</td>\n",
       "      <td>NaN</td>\n",
       "    </tr>\n",
       "    <tr>\n",
       "      <th>13474629</th>\n",
       "      <td>2018-10-20 00:30:09</td>\n",
       "      <td>69416519</td>\n",
       "      <td>1053443216928899072</td>\n",
       "      <td>Claudio Paul Cannigia: \"Si River le gana la Co...</td>\n",
       "      <td>NaN</td>\n",
       "      <td>NaN</td>\n",
       "      <td>NaT</td>\n",
       "      <td>16</td>\n",
       "      <td>NaN</td>\n",
       "    </tr>\n",
       "    <tr>\n",
       "      <th>13474630</th>\n",
       "      <td>2018-10-20 00:25:16</td>\n",
       "      <td>69416519</td>\n",
       "      <td>1053441987301523456</td>\n",
       "      <td>Germán Garmendia: \"El celular nos desconecta, ...</td>\n",
       "      <td>NaN</td>\n",
       "      <td>NaN</td>\n",
       "      <td>NaT</td>\n",
       "      <td>83</td>\n",
       "      <td>NaN</td>\n",
       "    </tr>\n",
       "    <tr>\n",
       "      <th>13474631</th>\n",
       "      <td>2018-10-20 00:24:29</td>\n",
       "      <td>69416519</td>\n",
       "      <td>1053441790223810563</td>\n",
       "      <td>Mauricio Macri cerró el Coloquio de Idea entre...</td>\n",
       "      <td>NaN</td>\n",
       "      <td>NaN</td>\n",
       "      <td>NaT</td>\n",
       "      <td>7</td>\n",
       "      <td>NaN</td>\n",
       "    </tr>\n",
       "    <tr>\n",
       "      <th>13474632</th>\n",
       "      <td>2018-10-20 00:23:22</td>\n",
       "      <td>69416519</td>\n",
       "      <td>1053441510946103297</td>\n",
       "      <td>RT @InfobaeDeportes: Copa América 2019: todos ...</td>\n",
       "      <td>1053441475399294976</td>\n",
       "      <td>181250955</td>\n",
       "      <td>2018-10-20 00:23:14</td>\n",
       "      <td>3</td>\n",
       "      <td>NaN</td>\n",
       "    </tr>\n",
       "    <tr>\n",
       "      <th>13474633</th>\n",
       "      <td>2018-10-20 00:21:24</td>\n",
       "      <td>69416519</td>\n",
       "      <td>1053441014332043272</td>\n",
       "      <td>RT @InfobaeAmerica: El gobierno de Donald Trum...</td>\n",
       "      <td>1053440936154484736</td>\n",
       "      <td>7827962</td>\n",
       "      <td>2018-10-20 00:21:05</td>\n",
       "      <td>7</td>\n",
       "      <td>NaN</td>\n",
       "    </tr>\n",
       "    <tr>\n",
       "      <th>13474634</th>\n",
       "      <td>2018-10-20 00:21:09</td>\n",
       "      <td>69416519</td>\n",
       "      <td>1053440953564962821</td>\n",
       "      <td>RT @TeleShowcom: Ari Paluch vuelve a la radio ...</td>\n",
       "      <td>1053440915946250240</td>\n",
       "      <td>8974082</td>\n",
       "      <td>2018-10-20 00:21:01</td>\n",
       "      <td>4</td>\n",
       "      <td>NaN</td>\n",
       "    </tr>\n",
       "    <tr>\n",
       "      <th>13474635</th>\n",
       "      <td>2018-10-20 00:20:28</td>\n",
       "      <td>69416519</td>\n",
       "      <td>1053440779883028483</td>\n",
       "      <td>Un iPod escondido y un delantal siempre limpio...</td>\n",
       "      <td>NaN</td>\n",
       "      <td>NaN</td>\n",
       "      <td>NaT</td>\n",
       "      <td>1</td>\n",
       "      <td>NaN</td>\n",
       "    </tr>\n",
       "    <tr>\n",
       "      <th>13474636</th>\n",
       "      <td>2018-10-20 00:19:07</td>\n",
       "      <td>69416519</td>\n",
       "      <td>1053440439435644928</td>\n",
       "      <td>Habla uno de los pasajeros del vuelo de los 15...</td>\n",
       "      <td>NaN</td>\n",
       "      <td>NaN</td>\n",
       "      <td>NaT</td>\n",
       "      <td>2</td>\n",
       "      <td>NaN</td>\n",
       "    </tr>\n",
       "    <tr>\n",
       "      <th>13474637</th>\n",
       "      <td>2018-10-20 00:15:54</td>\n",
       "      <td>69416519</td>\n",
       "      <td>1053439632124399616</td>\n",
       "      <td>RT @InfobaeDeportes: #Superliga Ya juegan #Col...</td>\n",
       "      <td>1053439588415520769</td>\n",
       "      <td>181250955</td>\n",
       "      <td>2018-10-20 00:15:44</td>\n",
       "      <td>1</td>\n",
       "      <td>NaN</td>\n",
       "    </tr>\n",
       "    <tr>\n",
       "      <th>13474638</th>\n",
       "      <td>2018-10-20 00:15:45</td>\n",
       "      <td>69416519</td>\n",
       "      <td>1053439592609837058</td>\n",
       "      <td>RT @InfobaeDeportes: Vélez se recuperó con un ...</td>\n",
       "      <td>1053436573776257024</td>\n",
       "      <td>181250955</td>\n",
       "      <td>2018-10-20 00:03:45</td>\n",
       "      <td>3</td>\n",
       "      <td>NaN</td>\n",
       "    </tr>\n",
       "    <tr>\n",
       "      <th>13474639</th>\n",
       "      <td>2018-10-20 00:15:36</td>\n",
       "      <td>69416519</td>\n",
       "      <td>1053439556840767489</td>\n",
       "      <td>RT @InfobaeDeportes: #Superliga Con una alinea...</td>\n",
       "      <td>1053436886738325504</td>\n",
       "      <td>181250955</td>\n",
       "      <td>2018-10-20 00:05:00</td>\n",
       "      <td>1</td>\n",
       "      <td>NaN</td>\n",
       "    </tr>\n",
       "    <tr>\n",
       "      <th>13474640</th>\n",
       "      <td>2018-10-20 00:15:30</td>\n",
       "      <td>69416519</td>\n",
       "      <td>1053439531570118657</td>\n",
       "      <td>RT @InfobaeDeportes: Defensa y Justicia derrot...</td>\n",
       "      <td>1053437968386547712</td>\n",
       "      <td>181250955</td>\n",
       "      <td>2018-10-20 00:09:18</td>\n",
       "      <td>1</td>\n",
       "      <td>NaN</td>\n",
       "    </tr>\n",
       "    <tr>\n",
       "      <th>13474641</th>\n",
       "      <td>2018-10-20 00:15:19</td>\n",
       "      <td>69416519</td>\n",
       "      <td>1053439483323002880</td>\n",
       "      <td>Miguel Angel Pichetto en IDEA: \"Macri se defin...</td>\n",
       "      <td>NaN</td>\n",
       "      <td>NaN</td>\n",
       "      <td>NaT</td>\n",
       "      <td>10</td>\n",
       "      <td>NaN</td>\n",
       "    </tr>\n",
       "    <tr>\n",
       "      <th>13474642</th>\n",
       "      <td>2018-10-20 00:06:38</td>\n",
       "      <td>69416519</td>\n",
       "      <td>1053437299470598144</td>\n",
       "      <td>Consumo con tarjeta: las tasas llegan a supera...</td>\n",
       "      <td>NaN</td>\n",
       "      <td>NaN</td>\n",
       "      <td>NaT</td>\n",
       "      <td>17</td>\n",
       "      <td>NaN</td>\n",
       "    </tr>\n",
       "    <tr>\n",
       "      <th>13474643</th>\n",
       "      <td>2018-10-20 00:02:45</td>\n",
       "      <td>69416519</td>\n",
       "      <td>1053436322394841088</td>\n",
       "      <td>Por qué nos enamoramos: 6 tips para disfrutar ...</td>\n",
       "      <td>NaN</td>\n",
       "      <td>NaN</td>\n",
       "      <td>NaT</td>\n",
       "      <td>1</td>\n",
       "      <td>NaN</td>\n",
       "    </tr>\n",
       "  </tbody>\n",
       "</table>\n",
       "<p>3203 rows × 9 columns</p>\n",
       "</div>"
      ],
      "text/plain": [
       "                  created_at user__id_str               id_str  \\\n",
       "13471441 2018-10-28 18:15:00     69416519  1056610297207648257   \n",
       "13471442 2018-10-28 18:12:42     69416519  1056609719471747072   \n",
       "13471443 2018-10-28 18:06:00     69416519  1056608032375926784   \n",
       "13471444 2018-10-28 18:04:00     69416519  1056607529436876801   \n",
       "13471445 2018-10-28 18:02:00     69416519  1056607026128797698   \n",
       "13471446 2018-10-28 18:00:01     69416519  1056606525123264512   \n",
       "13471447 2018-10-28 17:58:00     69416519  1056606019160326145   \n",
       "13471448 2018-10-28 17:54:00     69416519  1056605012061696000   \n",
       "13471449 2018-10-28 17:51:56     69416519  1056604492727230465   \n",
       "13471450 2018-10-28 17:49:42     69416519  1056603932255047680   \n",
       "13471451 2018-10-28 17:46:11     69416519  1056603047512756226   \n",
       "13471452 2018-10-28 17:42:39     69416519  1056602158458724352   \n",
       "13471453 2018-10-28 17:40:50     69416519  1056601699207516160   \n",
       "13471454 2018-10-28 17:39:48     69416519  1056601440616095744   \n",
       "13471455 2018-10-28 17:35:31     69416519  1056600362545750017   \n",
       "13471456 2018-10-28 17:32:12     69416519  1056599526457466881   \n",
       "13471457 2018-10-28 17:29:04     69416519  1056598738830004224   \n",
       "13471458 2018-10-28 17:27:44     69416519  1056598403403124736   \n",
       "13471459 2018-10-28 17:23:21     69416519  1056597298514485252   \n",
       "13471460 2018-10-28 17:19:18     69416519  1056596279881535491   \n",
       "13471461 2018-10-28 17:17:48     69416519  1056595901458903040   \n",
       "13471462 2018-10-28 17:17:26     69416519  1056595810706690048   \n",
       "13471463 2018-10-28 17:15:00     69416519  1056595197327400960   \n",
       "13471464 2018-10-28 17:11:24     69416519  1056594293656297472   \n",
       "13471465 2018-10-28 17:09:07     69416519  1056593717056995328   \n",
       "13471466 2018-10-28 17:05:10     69416519  1056592724802056192   \n",
       "13471467 2018-10-28 17:02:28     69416519  1056592043626127360   \n",
       "13471468 2018-10-28 17:01:50     69416519  1056591884255137799   \n",
       "13471469 2018-10-28 17:00:13     69416519  1056591479659995138   \n",
       "13471470 2018-10-28 16:58:25     69416519  1056591023663648776   \n",
       "...                      ...          ...                  ...   \n",
       "13474614 2018-10-20 01:15:00     69416519  1053454502890741761   \n",
       "13474615 2018-10-20 01:10:00     69416519  1053453244414869505   \n",
       "13474616 2018-10-20 01:06:01     69416519  1053452243024830464   \n",
       "13474617 2018-10-20 01:05:51     69416519  1053452201551634434   \n",
       "13474618 2018-10-20 01:02:28     69416519  1053451349382316033   \n",
       "13474619 2018-10-20 01:00:00     69416519  1053450729334153218   \n",
       "13474620 2018-10-20 00:58:51     69416519  1053450440510189568   \n",
       "13474621 2018-10-20 00:58:12     69416519  1053450276475146241   \n",
       "13474622 2018-10-20 00:53:09     69416519  1053449006108549121   \n",
       "13474623 2018-10-20 00:49:14     69416519  1053448020589731840   \n",
       "13474624 2018-10-20 00:46:59     69416519  1053447452425101317   \n",
       "13474625 2018-10-20 00:45:19     69416519  1053447033724588033   \n",
       "13474626 2018-10-20 00:43:38     69416519  1053446609655250945   \n",
       "13474627 2018-10-20 00:35:56     69416519  1053444670028767232   \n",
       "13474628 2018-10-20 00:30:24     69416519  1053443280434806784   \n",
       "13474629 2018-10-20 00:30:09     69416519  1053443216928899072   \n",
       "13474630 2018-10-20 00:25:16     69416519  1053441987301523456   \n",
       "13474631 2018-10-20 00:24:29     69416519  1053441790223810563   \n",
       "13474632 2018-10-20 00:23:22     69416519  1053441510946103297   \n",
       "13474633 2018-10-20 00:21:24     69416519  1053441014332043272   \n",
       "13474634 2018-10-20 00:21:09     69416519  1053440953564962821   \n",
       "13474635 2018-10-20 00:20:28     69416519  1053440779883028483   \n",
       "13474636 2018-10-20 00:19:07     69416519  1053440439435644928   \n",
       "13474637 2018-10-20 00:15:54     69416519  1053439632124399616   \n",
       "13474638 2018-10-20 00:15:45     69416519  1053439592609837058   \n",
       "13474639 2018-10-20 00:15:36     69416519  1053439556840767489   \n",
       "13474640 2018-10-20 00:15:30     69416519  1053439531570118657   \n",
       "13474641 2018-10-20 00:15:19     69416519  1053439483323002880   \n",
       "13474642 2018-10-20 00:06:38     69416519  1053437299470598144   \n",
       "13474643 2018-10-20 00:02:45     69416519  1053436322394841088   \n",
       "\n",
       "                                                       text  \\\n",
       "13471441  \"Quedate con ella porque no pasa la noche\": la...   \n",
       "13471442  Dólar estable, inflación en baja y crecer al 8...   \n",
       "13471443  Banfield y Estudiantes se miden en un duelo en...   \n",
       "13471444  Vélez apuesta a encontrar la regularidad ante ...   \n",
       "13471445  El hat-trick de Luis Suárez al Real Madrid  ht...   \n",
       "13471446  Modernidad vs edificios históricos: las mejore...   \n",
       "13471447  Minuto a minuto: Brasil vota entre Jair Bolson...   \n",
       "13471448  Después de los cuadernos, las campañas del kir...   \n",
       "13471449  Exclusivo: el contenido de los pendrives que d...   \n",
       "13471450  En las escuelas porteñas, dos alumnos controla...   \n",
       "13471451  #BrasilDecide [OPINIÓN] El alegre camino hacia...   \n",
       "13471452  El plan de Macri para endurecer la política co...   \n",
       "13471453  El papa Francisco calificó de \"acto inhumano\" ...   \n",
       "13471454  40 fotos del Six O´Clock Tea en la embajada de...   \n",
       "13471455  El 40% de los peatones mira el celular al cruz...   \n",
       "13471456  Abdominales: el video de los 6 ejercicios para...   \n",
       "13471457  El festejo de los dos años de Isabella Icardi:...   \n",
       "13471458  En los rankings de bestsellers ahora mandan la...   \n",
       "13471459  Florencia Etcheves: \"Escribí esta novela casi ...   \n",
       "13471460  El misterio Banksy: arte y guerrilla del desco...   \n",
       "13471461  RT @InfobaeDeportes: El Barcelona humilló al R...   \n",
       "13471462  Cuando García Márquez ejercía \"el mejor oficio...   \n",
       "13471463  \"Quedate con ella porque no pasa la noche\": la...   \n",
       "13471464  200 km de Buenos Aires: cómo será la edición e...   \n",
       "13471465  Una escuela de tenis de mesa para sacar a los ...   \n",
       "13471466  RT @InfobaeDeportes: Con un triplete de Luis S...   \n",
       "13471467  Llega Halloween: series y películas de terror ...   \n",
       "13471468  ¿Fue penal?: la falta de Raphael Varane sobre ...   \n",
       "13471469  RT @InfobaeDeportes: Gol de #Barcelona, lo hiz...   \n",
       "13471470  Lisandro López reveló qué les dijo Coudet en e...   \n",
       "...                                                     ...   \n",
       "13474614  [AUDIO] Claudio Belocopitt: \"No creo que en to...   \n",
       "13474615  Cáncer de mama: detectado a tiempo el 90% de l...   \n",
       "13474616  Consumo con tarjeta: las tasas llegan a supera...   \n",
       "13474617  La China Suárez publicó la foto familiar más t...   \n",
       "13474618  RT @InfobaeDeportes: #Superliga Terminó el pri...   \n",
       "13474619  [VIDEO] Una mujer tropezó dentro de un tanque ...   \n",
       "13474620  El \"Chino\" Maidana recordó el golpe del \"dient...   \n",
       "13474621  Semana financiera: el dólar volvió a precios d...   \n",
       "13474622  Joan Manuel Serrat: \"Es mucho más instructivo ...   \n",
       "13474623  ¿Esta imagen se mueve? La ilusión óptica que f...   \n",
       "13474624  Se lanza un satélite a Mercurio y la Argentina...   \n",
       "13474625  RT @InfobaeDeportes: #Superliga En 30 minutos ...   \n",
       "13474626  El mal momento de Nicolás Cabré, furioso con l...   \n",
       "13474627  Una clase exprés del ejercicio que quema nueve...   \n",
       "13474628  RT @InfobaeDeportes: #Superliga En 15 minutos ...   \n",
       "13474629  Claudio Paul Cannigia: \"Si River le gana la Co...   \n",
       "13474630  Germán Garmendia: \"El celular nos desconecta, ...   \n",
       "13474631  Mauricio Macri cerró el Coloquio de Idea entre...   \n",
       "13474632  RT @InfobaeDeportes: Copa América 2019: todos ...   \n",
       "13474633  RT @InfobaeAmerica: El gobierno de Donald Trum...   \n",
       "13474634  RT @TeleShowcom: Ari Paluch vuelve a la radio ...   \n",
       "13474635  Un iPod escondido y un delantal siempre limpio...   \n",
       "13474636  Habla uno de los pasajeros del vuelo de los 15...   \n",
       "13474637  RT @InfobaeDeportes: #Superliga Ya juegan #Col...   \n",
       "13474638  RT @InfobaeDeportes: Vélez se recuperó con un ...   \n",
       "13474639  RT @InfobaeDeportes: #Superliga Con una alinea...   \n",
       "13474640  RT @InfobaeDeportes: Defensa y Justicia derrot...   \n",
       "13474641  Miguel Angel Pichetto en IDEA: \"Macri se defin...   \n",
       "13474642  Consumo con tarjeta: las tasas llegan a supera...   \n",
       "13474643  Por qué nos enamoramos: 6 tips para disfrutar ...   \n",
       "\n",
       "         retweeted_status__id_str retweeted_status__user__id_str  \\\n",
       "13471441                      NaN                            NaN   \n",
       "13471442                      NaN                            NaN   \n",
       "13471443                      NaN                            NaN   \n",
       "13471444                      NaN                            NaN   \n",
       "13471445                      NaN                            NaN   \n",
       "13471446                      NaN                            NaN   \n",
       "13471447                      NaN                            NaN   \n",
       "13471448                      NaN                            NaN   \n",
       "13471449                      NaN                            NaN   \n",
       "13471450                      NaN                            NaN   \n",
       "13471451                      NaN                            NaN   \n",
       "13471452                      NaN                            NaN   \n",
       "13471453                      NaN                            NaN   \n",
       "13471454                      NaN                            NaN   \n",
       "13471455                      NaN                            NaN   \n",
       "13471456                      NaN                            NaN   \n",
       "13471457                      NaN                            NaN   \n",
       "13471458                      NaN                            NaN   \n",
       "13471459                      NaN                            NaN   \n",
       "13471460                      NaN                            NaN   \n",
       "13471461      1056595675503386626                      181250955   \n",
       "13471462                      NaN                            NaN   \n",
       "13471463                      NaN                            NaN   \n",
       "13471464                      NaN                            NaN   \n",
       "13471465                      NaN                            NaN   \n",
       "13471466      1056592701058105345                      181250955   \n",
       "13471467                      NaN                            NaN   \n",
       "13471468                      NaN                            NaN   \n",
       "13471469      1056591435326255111                      181250955   \n",
       "13471470                      NaN                            NaN   \n",
       "...                           ...                            ...   \n",
       "13474614                      NaN                            NaN   \n",
       "13474615                      NaN                            NaN   \n",
       "13474616                      NaN                            NaN   \n",
       "13474617                      NaN                            NaN   \n",
       "13474618      1053451295842013184                      181250955   \n",
       "13474619                      NaN                            NaN   \n",
       "13474620                      NaN                            NaN   \n",
       "13474621                      NaN                            NaN   \n",
       "13474622                      NaN                            NaN   \n",
       "13474623                      NaN                            NaN   \n",
       "13474624                      NaN                            NaN   \n",
       "13474625      1053446994453282817                      181250955   \n",
       "13474626                      NaN                            NaN   \n",
       "13474627                      NaN                            NaN   \n",
       "13474628      1053443234343649283                      181250955   \n",
       "13474629                      NaN                            NaN   \n",
       "13474630                      NaN                            NaN   \n",
       "13474631                      NaN                            NaN   \n",
       "13474632      1053441475399294976                      181250955   \n",
       "13474633      1053440936154484736                        7827962   \n",
       "13474634      1053440915946250240                        8974082   \n",
       "13474635                      NaN                            NaN   \n",
       "13474636                      NaN                            NaN   \n",
       "13474637      1053439588415520769                      181250955   \n",
       "13474638      1053436573776257024                      181250955   \n",
       "13474639      1053436886738325504                      181250955   \n",
       "13474640      1053437968386547712                      181250955   \n",
       "13474641                      NaN                            NaN   \n",
       "13474642                      NaN                            NaN   \n",
       "13474643                      NaN                            NaN   \n",
       "\n",
       "         retweeted_status__created_at  retweet_count quoted_status_id_str  \n",
       "13471441                          NaT              4                  NaN  \n",
       "13471442                          NaT              0                  NaN  \n",
       "13471443                          NaT              0                  NaN  \n",
       "13471444                          NaT              0                  NaN  \n",
       "13471445                          NaT              4                  NaN  \n",
       "13471446                          NaT              4                  NaN  \n",
       "13471447                          NaT              2                  NaN  \n",
       "13471448                          NaT              4                  NaN  \n",
       "13471449                          NaT             13                  NaN  \n",
       "13471450                          NaT              2                  NaN  \n",
       "13471451                          NaT              8                  NaN  \n",
       "13471452                          NaT             17                  NaN  \n",
       "13471453                          NaT              1                  NaN  \n",
       "13471454                          NaT              0                  NaN  \n",
       "13471455                          NaT              5                  NaN  \n",
       "13471456                          NaT             19                  NaN  \n",
       "13471457                          NaT              0                  NaN  \n",
       "13471458                          NaT              3                  NaN  \n",
       "13471459                          NaT              0                  NaN  \n",
       "13471460                          NaT              0                  NaN  \n",
       "13471461          2018-10-28 17:16:54             20                  NaN  \n",
       "13471462                          NaT              1                  NaN  \n",
       "13471463                          NaT             11                  NaN  \n",
       "13471464                          NaT              0                  NaN  \n",
       "13471465                          NaT             11                  NaN  \n",
       "13471466          2018-10-28 17:05:05             24                  NaN  \n",
       "13471467                          NaT              0                  NaN  \n",
       "13471468                          NaT              0                  NaN  \n",
       "13471469          2018-10-28 17:00:03              3                  NaN  \n",
       "13471470                          NaT              0                  NaN  \n",
       "...                               ...            ...                  ...  \n",
       "13474614                          NaT              0                  NaN  \n",
       "13474615                          NaT             24                  NaN  \n",
       "13474616                          NaT              7                  NaN  \n",
       "13474617                          NaT              0                  NaN  \n",
       "13474618          2018-10-20 01:02:15              1                  NaN  \n",
       "13474619                          NaT              3                  NaN  \n",
       "13474620                          NaT              0                  NaN  \n",
       "13474621                          NaT              0                  NaN  \n",
       "13474622                          NaT              8                  NaN  \n",
       "13474623                          NaT              0                  NaN  \n",
       "13474624                          NaT             14                  NaN  \n",
       "13474625          2018-10-20 00:45:10              1                  NaN  \n",
       "13474626                          NaT              0                  NaN  \n",
       "13474627                          NaT              1                  NaN  \n",
       "13474628          2018-10-20 00:30:13              1                  NaN  \n",
       "13474629                          NaT             16                  NaN  \n",
       "13474630                          NaT             83                  NaN  \n",
       "13474631                          NaT              7                  NaN  \n",
       "13474632          2018-10-20 00:23:14              3                  NaN  \n",
       "13474633          2018-10-20 00:21:05              7                  NaN  \n",
       "13474634          2018-10-20 00:21:01              4                  NaN  \n",
       "13474635                          NaT              1                  NaN  \n",
       "13474636                          NaT              2                  NaN  \n",
       "13474637          2018-10-20 00:15:44              1                  NaN  \n",
       "13474638          2018-10-20 00:03:45              3                  NaN  \n",
       "13474639          2018-10-20 00:05:00              1                  NaN  \n",
       "13474640          2018-10-20 00:09:18              1                  NaN  \n",
       "13474641                          NaT             10                  NaN  \n",
       "13474642                          NaT             17                  NaN  \n",
       "13474643                          NaT              1                  NaN  \n",
       "\n",
       "[3203 rows x 9 columns]"
      ]
     },
     "execution_count": 9,
     "metadata": {},
     "output_type": "execute_result"
    }
   ],
   "source": [
    "df[df.user__id_str == str(69416519)]"
   ]
  },
  {
   "cell_type": "code",
   "execution_count": 10,
   "metadata": {},
   "outputs": [],
   "source": [
    "### PROTOTYPE-FILTERING\n",
    "def df_cut1(data_f):\n",
    "    # tweets originales, o RT que su tweet original está en el dataset.\n",
    "    return data_f[data_f.retweeted_status__id_str.isin(df.id_str) | data_f.retweeted_status__id_str.isna()] # df.id_str -> porque quiero todos mis usuarios!"
   ]
  },
  {
   "cell_type": "markdown",
   "metadata": {},
   "source": [
    "### 1 Proporciones de RT sobre tweets totales"
   ]
  },
  {
   "cell_type": "code",
   "execution_count": 11,
   "metadata": {
    "scrolled": false
   },
   "outputs": [],
   "source": [
    "def print_dataset_proportions(data_f):\n",
    "    cant_rt = df_only_rt(data_f).shape[0]\n",
    "    cant_orig = df_not_rt(data_f).shape[0]\n",
    "    cant_resp = df_commented(data_f).shape[0]\n",
    "    total = data_f.shape[0]\n",
    "    print('Cantidad de tweets originales: \\t\\t{}'.format(cant_orig))\n",
    "    print('Cantidad de RT en el Dataset: \\t\\t{}'.format(cant_rt))\n",
    "    print('Cantidad de respuestas a tweets: \\t{}'.format(cant_resp))\n",
    "    print('Total: \\t\\t\\t\\t\\t{}\\n'.format(total))\n",
    "    cants = pd.DataFrame({'cantidades': [cant_orig, cant_rt , cant_resp]},\n",
    "                         index=['originales', 'retweets', 'respuestas'])\n",
    "    ax = (cants/1000).plot.bar(y='cantidades', figsize=(5, 5), legend=[])\n",
    "    ax.set_title('Cantidades de tweets (miles)')\n",
    "\n",
    "    print('Proporcion de RT sobre total: \\t\\t\\t{}'.format(cant_rt / total))\n",
    "    print('Proporcion de Tweets originales sobre total: \\t{}'.format(cant_orig / total))\n",
    "    print('Proporcion de Tweets originales sobre total: \\t{}\\n'.format(cant_resp / total))\n",
    "\n",
    "    commented_and_retweeted = data_f[(data_f.quoted_status_id_str.notna()) & \\\n",
    "                                     (data_f.retweeted_status__id_str.notna())]\\\n",
    "                                    .shape[0]\n",
    "    commented_and_not_rt = data_f[(data_f.quoted_status_id_str.notna()) & \\\n",
    "                                  (data_f.retweeted_status__id_str.isna())] \\\n",
    "                                 .shape[0]\n",
    "    print('Cantidad tweets comentados y retweeteados: \\t{}'.format(commented_and_retweeted))\n",
    "    print('Cantidad tweets comentados y NO retweeteados: \\t{}'.format(commented_and_not_rt))\n",
    "    print('Intersecciones no vacías?????????? TODO: hacer pruebas de cuál es la diferencia!')"
   ]
  },
  {
   "cell_type": "markdown",
   "metadata": {},
   "source": [
    "### 1.0 Proporciones de RT sobre tweets totales (Global)"
   ]
  },
  {
   "cell_type": "code",
   "execution_count": 12,
   "metadata": {
    "scrolled": false
   },
   "outputs": [
    {
     "name": "stdout",
     "output_type": "stream",
     "text": [
      "Cantidad de tweets originales: \t\t10865441\n",
      "Cantidad de RT en el Dataset: \t\t4768392\n",
      "Cantidad de respuestas a tweets: \t1055479\n",
      "Total: \t\t\t\t\t15633833\n",
      "\n",
      "Proporcion de RT sobre total: \t\t\t0.3050046652027049\n",
      "Proporcion de Tweets originales sobre total: \t0.694995334797295\n",
      "Proporcion de Tweets originales sobre total: \t0.06751249037903885\n",
      "\n"
     ]
    },
    {
     "name": "stdout",
     "output_type": "stream",
     "text": [
      "Cantidad tweets comentados y retweeteados: \t288118\n",
      "Cantidad tweets comentados y NO retweeteados: \t767361\n",
      "Intersecciones no vacías?????????? TODO: hacer pruebas de cuál es la diferencia!\n",
      "CPU times: user 4.38 s, sys: 460 ms, total: 4.84 s\n",
      "Wall time: 4.81 s\n"
     ]
    },
    {
     "data": {
      "image/png": "[encoded data removed]",
      "text/plain": [
       "<Figure size 360x360 with 1 Axes>"
      ]
     },
     "metadata": {
      "needs_background": "light"
     },
     "output_type": "display_data"
    }
   ],
   "source": [
    "%%time\n",
    "print_dataset_proportions(df)"
   ]
  },
  {
   "cell_type": "markdown",
   "metadata": {},
   "source": [
    "### 1.1 Proporciones de RT sobre tweets totales (Recorte 1)"
   ]
  },
  {
   "cell_type": "code",
   "execution_count": 13,
   "metadata": {},
   "outputs": [
    {
     "name": "stdout",
     "output_type": "stream",
     "text": [
      "Cantidad de tweets originales: \t\t10865441\n",
      "Cantidad de RT en el Dataset: \t\t631579\n",
      "Cantidad de respuestas a tweets: \t818516\n",
      "Total: \t\t\t\t\t11497020\n",
      "\n",
      "Proporcion de RT sobre total: \t\t\t0.05493414815317361\n",
      "Proporcion de Tweets originales sobre total: \t0.9450658518468263\n",
      "Proporcion de Tweets originales sobre total: \t0.07119375281594709\n",
      "\n"
     ]
    },
    {
     "name": "stdout",
     "output_type": "stream",
     "text": [
      "Cantidad tweets comentados y retweeteados: \t51155\n",
      "Cantidad tweets comentados y NO retweeteados: \t767361\n",
      "Intersecciones no vacías?????????? TODO: hacer pruebas de cuál es la diferencia!\n",
      "CPU times: user 9.85 s, sys: 1.06 s, total: 10.9 s\n",
      "Wall time: 10.7 s\n"
     ]
    },
    {
     "data": {
      "image/png": "[encoded data removed]",
      "text/plain": [
       "<Figure size 360x360 with 1 Axes>"
      ]
     },
     "metadata": {
      "needs_background": "light"
     },
     "output_type": "display_data"
    }
   ],
   "source": [
    "%%time\n",
    "df_cutted = df_cut1(df)\n",
    "print_dataset_proportions(df_cutted)"
   ]
  },
  {
   "cell_type": "markdown",
   "metadata": {},
   "source": [
    "### 2 Promedio de conteos de retweets (usando retweet_count de la API de twitter)"
   ]
  },
  {
   "cell_type": "code",
   "execution_count": 14,
   "metadata": {},
   "outputs": [],
   "source": [
    "def print_global_retweet_counts(data_f):\n",
    "    avg_retweets_all = data_f.retweet_count.mean()\n",
    "    print('Promedio de retweet counts (todo el dataset): \\t\\t{}'.format(avg_retweets_all))\n",
    "\n",
    "    avg_retweets_nort = df_not_rt(data_f).retweet_count.mean()\n",
    "    print('Promedio de retweet counts (solo tweets originales): \\t{}'.format(avg_retweets_nort))\n",
    "\n",
    "    # as retweets may point to the same tweet, we drop duplicates keeping the most updated one (oldest)\n",
    "    avg_retweets_onlyrt =  df_only_rt(data_f).sort_values('created_at').drop_duplicates('retweeted_status__id_str', keep='last')\\\n",
    "        .retweet_count.mean()\n",
    "    print('Promedio de retweet counts (solo retweets): \\t\\t{}'.format(avg_retweets_onlyrt))"
   ]
  },
  {
   "cell_type": "markdown",
   "metadata": {},
   "source": [
    "### 2.0 Promedio de conteos de retweets (Global)"
   ]
  },
  {
   "cell_type": "code",
   "execution_count": 15,
   "metadata": {},
   "outputs": [
    {
     "name": "stdout",
     "output_type": "stream",
     "text": [
      "Promedio de retweet counts (todo el dataset): \t\t326.6253256638983\n"
     ]
    },
    {
     "name": "stdout",
     "output_type": "stream",
     "text": [
      "Promedio de retweet counts (solo tweets originales): \t34.08526096639796\n"
     ]
    },
    {
     "name": "stdout",
     "output_type": "stream",
     "text": [
      "Promedio de retweet counts (solo retweets): \t\t362.09089196852403\n",
      "CPU times: user 8.14 s, sys: 1.02 s, total: 9.16 s\n",
      "Wall time: 9.15 s\n"
     ]
    }
   ],
   "source": [
    "%%time\n",
    "print_global_retweet_counts(df)"
   ]
  },
  {
   "cell_type": "markdown",
   "metadata": {},
   "source": [
    "### 2.1 Promedio de conteos de retweets (Recorte 1)"
   ]
  },
  {
   "cell_type": "code",
   "execution_count": 16,
   "metadata": {},
   "outputs": [
    {
     "name": "stdout",
     "output_type": "stream",
     "text": [
      "Promedio de retweet counts (todo el dataset): \t\t81.11051524655954\n"
     ]
    },
    {
     "name": "stdout",
     "output_type": "stream",
     "text": [
      "Promedio de retweet counts (solo tweets originales): \t34.08526096639796\n"
     ]
    },
    {
     "name": "stdout",
     "output_type": "stream",
     "text": [
      "Promedio de retweet counts (solo retweets): \t\t246.0892303150458\n",
      "CPU times: user 9.53 s, sys: 912 ms, total: 10.4 s\n",
      "Wall time: 10.3 s\n"
     ]
    }
   ],
   "source": [
    "%%time\n",
    "df_cutted = df_cut1(df)\n",
    "print_global_retweet_counts(df_cutted)"
   ]
  },
  {
   "cell_type": "markdown",
   "metadata": {},
   "source": [
    "# Recorte 2: tomar sólo usuarios para los que se trajo el máximo de tweets por fetch_timeline\n",
    "\n",
    "[Aquí](https://developer.twitter.com/en/docs/tweets/timelines/api-reference/get-statuses-user_timeline.html) se puede ver que 3,200 es el máximo de tweets que se puede traer. Se filtra entonces los usuarios para los cuales se extrajo esa cantidad de tweets.\n",
    "\n",
    "Se usará 'Recorte 2' para referirse a esa filtrado de tweets"
   ]
  },
  {
   "cell_type": "code",
   "execution_count": 17,
   "metadata": {},
   "outputs": [],
   "source": [
    "def df_cut2(data_f, max_tweets=3200):\n",
    "    _df_tweets_per_user = data_f.user__id_str.groupby(data_f.user__id_str).count()\n",
    "    data_f['tweets_on_dataset'] = _df_tweets_per_user[data_f.user__id_str.values].values\n",
    "    return data_f[data_f.tweets_on_dataset >= max_tweets]"
   ]
  },
  {
   "cell_type": "markdown",
   "metadata": {},
   "source": [
    "\n",
    "### 3 Ventanas de tiempo recogidas"
   ]
  },
  {
   "cell_type": "code",
   "execution_count": 18,
   "metadata": {},
   "outputs": [],
   "source": [
    "def print_time_windows(data_f):\n",
    "    print('Tweet más temprano en el tiempo: \\t{}'.format(data_f.created_at.min()))\n",
    "    print('Tweet más tardío en el tiempo: \\t\\t{}'.format(data_f.created_at.max()))\n",
    "\n",
    "    max_of_mins = data_f.created_at.groupby(data_f.user__id_str).min().max()\n",
    "    print('Menor fecha de tweet disponible para todos los usuarios: {}'.format(max_of_mins))"
   ]
  },
  {
   "cell_type": "markdown",
   "metadata": {},
   "source": [
    "### 3.0 Ventanas de tiempo recogidas (Global)"
   ]
  },
  {
   "cell_type": "code",
   "execution_count": 19,
   "metadata": {},
   "outputs": [
    {
     "name": "stdout",
     "output_type": "stream",
     "text": [
      "Tweet más temprano en el tiempo: \t2006-12-08 06:25:25\n",
      "Tweet más tardío en el tiempo: \t\t2018-10-30 00:35:36\n"
     ]
    },
    {
     "name": "stdout",
     "output_type": "stream",
     "text": [
      "Menor fecha de tweet disponible para todos los usuarios: 2018-10-24 15:35:09\n",
      "CPU times: user 744 ms, sys: 176 ms, total: 920 ms\n",
      "Wall time: 885 ms\n"
     ]
    }
   ],
   "source": [
    "%%time\n",
    "print_time_windows(df)"
   ]
  },
  {
   "cell_type": "markdown",
   "metadata": {},
   "source": [
    "### 3.1 Ventanas de tiempo recogidas (Recorte 1)"
   ]
  },
  {
   "cell_type": "code",
   "execution_count": 20,
   "metadata": {
    "scrolled": false
   },
   "outputs": [
    {
     "name": "stdout",
     "output_type": "stream",
     "text": [
      "Tweet más temprano en el tiempo: \t2006-12-08 06:25:25\n",
      "Tweet más tardío en el tiempo: \t\t2018-10-30 00:33:24\n"
     ]
    },
    {
     "name": "stdout",
     "output_type": "stream",
     "text": [
      "Menor fecha de tweet disponible para todos los usuarios: 2018-10-25 05:37:56\n",
      "CPU times: user 7.61 s, sys: 712 ms, total: 8.32 s\n",
      "Wall time: 8.12 s\n"
     ]
    }
   ],
   "source": [
    "%%time\n",
    "df_cutted = df_cut1(df)\n",
    "print_time_windows(df_cutted)"
   ]
  },
  {
   "cell_type": "markdown",
   "metadata": {},
   "source": [
    "### 3.2 Ventanas de tiempo recogidas (Recorte 2)"
   ]
  },
  {
   "cell_type": "code",
   "execution_count": 21,
   "metadata": {
    "scrolled": false
   },
   "outputs": [
    {
     "name": "stdout",
     "output_type": "stream",
     "text": [
      "Tweet más temprano en el tiempo: \t2007-04-11 23:52:28\n",
      "Tweet más tardío en el tiempo: \t\t2018-10-30 00:35:36\n"
     ]
    },
    {
     "name": "stdout",
     "output_type": "stream",
     "text": [
      "Menor fecha de tweet disponible para todos los usuarios: 2018-10-24 15:35:09\n",
      "CPU times: user 3.93 s, sys: 1.01 s, total: 4.94 s\n",
      "Wall time: 4.84 s\n"
     ]
    }
   ],
   "source": [
    "%%time\n",
    "df_cutted = df_cut2(df)\n",
    "print_time_windows(df_cutted)"
   ]
  },
  {
   "cell_type": "code",
   "execution_count": 22,
   "metadata": {},
   "outputs": [
    {
     "name": "stdout",
     "output_type": "stream",
     "text": [
      "Usuarios que tienen (igual) o más que el límite de tweets: 10035576\n"
     ]
    }
   ],
   "source": [
    "############### ??????????????\n",
    "### 7578 usuarios que metieron mas de 3200 tweets en una semana?????\n",
    "users_on_tweet_limit = df_cutted.id_str.count()\n",
    "print('Usuarios que tienen (igual) o más que el límite de tweets: {}'.format(users_on_tweet_limit))"
   ]
  },
  {
   "cell_type": "markdown",
   "metadata": {},
   "source": [
    "### 4 Histograma de tweets y retweets por fecha"
   ]
  },
  {
   "cell_type": "code",
   "execution_count": 23,
   "metadata": {
    "scrolled": false
   },
   "outputs": [],
   "source": [
    "def plot_tweets_and_retweets_by_date(data_f):\n",
    "    fig, ax = plt.subplots(figsize=(10,5))\n",
    "    (data_f.created_at.groupby(data_f[\"created_at\"].dt.date).count()/1000).plot(kind=\"line\", ax=ax, rot=90, legend=True, label='Todos los tweets')\n",
    "    (data_f.created_at.groupby(df_only_rt(data_f)[\"created_at\"].dt.date).count()/1000).plot(kind=\"line\", ax=ax, rot=90, legend=True, label='Solo RT')\n",
    "    (data_f.created_at.groupby(df_commented(data_f)[\"created_at\"].dt.date).count()/1000).plot(kind=\"line\", ax=ax, rot=90, legend=True, label='Solo con commentarios')\n",
    "    ax.set_title('Histograma de tweets por fecha')\n",
    "    ax.set_ylabel('cantidad (miles)')\n",
    "    ax.set_xlabel('fecha')"
   ]
  },
  {
   "cell_type": "markdown",
   "metadata": {},
   "source": [
    "### 4.0 Histograma de tweets y retweets por fecha (Global)"
   ]
  },
  {
   "cell_type": "code",
   "execution_count": 24,
   "metadata": {},
   "outputs": [
    {
     "name": "stdout",
     "output_type": "stream",
     "text": [
      "CPU times: user 10.3 s, sys: 1.2 s, total: 11.5 s\n",
      "Wall time: 11.5 s\n"
     ]
    },
    {
     "data": {
      "image/png": "[encoded data removed]",
      "text/plain": [
       "<Figure size 720x360 with 1 Axes>"
      ]
     },
     "metadata": {
      "needs_background": "light"
     },
     "output_type": "display_data"
    }
   ],
   "source": [
    "%%time\n",
    "plot_tweets_and_retweets_by_date(df)"
   ]
  },
  {
   "cell_type": "markdown",
   "metadata": {},
   "source": [
    "### 4.1 Histograma de tweets y retweets por fecha (Recorte 1)"
   ]
  },
  {
   "cell_type": "code",
   "execution_count": 25,
   "metadata": {
    "scrolled": false
   },
   "outputs": [
    {
     "name": "stdout",
     "output_type": "stream",
     "text": [
      "CPU times: user 13.4 s, sys: 2.13 s, total: 15.6 s\n",
      "Wall time: 15.3 s\n"
     ]
    },
    {
     "data": {
      "image/png": "[encoded data removed]",
      "text/plain": [
       "<Figure size 720x360 with 1 Axes>"
      ]
     },
     "metadata": {
      "needs_background": "light"
     },
     "output_type": "display_data"
    }
   ],
   "source": [
    "%%time\n",
    "df_cutted = df_cut1(df)\n",
    "plot_tweets_and_retweets_by_date(df_cutted)"
   ]
  },
  {
   "cell_type": "markdown",
   "metadata": {},
   "source": [
    "### 4.2 Histograma de tweets y retweets por fecha (Recorte 2)"
   ]
  },
  {
   "cell_type": "code",
   "execution_count": 26,
   "metadata": {
    "scrolled": false
   },
   "outputs": [
    {
     "name": "stdout",
     "output_type": "stream",
     "text": [
      "CPU times: user 13.8 s, sys: 2.13 s, total: 15.9 s\n",
      "Wall time: 15.8 s\n"
     ]
    },
    {
     "data": {
      "image/png": "[encoded data removed]",
      "text/plain": [
       "<Figure size 720x360 with 1 Axes>"
      ]
     },
     "metadata": {
      "needs_background": "light"
     },
     "output_type": "display_data"
    }
   ],
   "source": [
    "%%time\n",
    "df_cutted = df_cut2(df)\n",
    "plot_tweets_and_retweets_by_date(df)"
   ]
  },
  {
   "cell_type": "markdown",
   "metadata": {},
   "source": [
    "### 5 Histograma de tweets y retweets por hora\n",
    "\n",
    "Nota: se dejan afuera las primeras n horas por exceder los ordenes de magnitud para el ploteo"
   ]
  },
  {
   "cell_type": "code",
   "execution_count": 27,
   "metadata": {},
   "outputs": [],
   "source": [
    "def plot_retweets_per_hour(data_f):\n",
    "    data_f = data_f.copy()\n",
    "    data_f['time_diff'] = df_only_rt(data_f).created_at - df_only_rt(data_f).retweeted_status__created_at\n",
    "    # agregar columna de primer aparicion en el dataset (created at oo si es RT, primer RT en el grupo)\n",
    "    counts_per_hour = df_only_rt(data_f).time_diff.groupby((df_only_rt(data_f).time_diff / np.timedelta64(1, 'D')).round(0)).count()\n",
    "    \n",
    "    def _find_first_n_outliers():\n",
    "        head = counts_per_hour[0]\n",
    "        for i in range(1, len(counts_per_hour)):\n",
    "            if head < 2 * counts_per_hour[i]:\n",
    "                break\n",
    "            head = counts_per_hour[i]\n",
    "        return i\n",
    "    n_head_outliers = _find_first_n_outliers()\n",
    "    first_n_hours_considered = 56\n",
    "\n",
    "    print(counts_per_hour.head(n_head_outliers))\n",
    "    print('Hay {} valores a plotear'.format(counts_per_hour.count()))\n",
    "    counts_per_hour.head(first_n_hours_considered)[n_head_outliers:].plot(kind=\"line\")"
   ]
  },
  {
   "cell_type": "markdown",
   "metadata": {},
   "source": [
    "### 5.0 Histograma de tweets y retweets por hora"
   ]
  },
  {
   "cell_type": "code",
   "execution_count": 28,
   "metadata": {
    "scrolled": false
   },
   "outputs": [
    {
     "name": "stdout",
     "output_type": "stream",
     "text": [
      "time_diff\n",
      "0.0    3954149\n",
      "1.0     570585\n",
      "2.0      97004\n",
      "3.0      34043\n",
      "Name: time_diff, dtype: int64\n",
      "Hay 2663 valores a plotear\n"
     ]
    },
    {
     "name": "stdout",
     "output_type": "stream",
     "text": [
      "CPU times: user 7.08 s, sys: 2.32 s, total: 9.4 s\n",
      "Wall time: 9.38 s\n"
     ]
    },
    {
     "data": {
      "image/png": "[encoded data removed]",
      "text/plain": [
       "<Figure size 432x288 with 1 Axes>"
      ]
     },
     "metadata": {
      "needs_background": "light"
     },
     "output_type": "display_data"
    }
   ],
   "source": [
    "%%time\n",
    "counts = plot_retweets_per_hour(df)### Histograma de tweets y retweets por hora"
   ]
  },
  {
   "cell_type": "markdown",
   "metadata": {},
   "source": [
    "### 5.1 Histograma de tweets y retweets por hora (Recorte 1)"
   ]
  },
  {
   "cell_type": "code",
   "execution_count": 29,
   "metadata": {
    "scrolled": false
   },
   "outputs": [
    {
     "name": "stdout",
     "output_type": "stream",
     "text": [
      "time_diff\n",
      "0.0    516411\n",
      "1.0     87015\n",
      "2.0     10651\n",
      "3.0      4070\n",
      "Name: time_diff, dtype: int64\n",
      "Hay 963 valores a plotear\n"
     ]
    },
    {
     "name": "stdout",
     "output_type": "stream",
     "text": [
      "CPU times: user 9.94 s, sys: 1.81 s, total: 11.7 s\n",
      "Wall time: 11.4 s\n"
     ]
    },
    {
     "data": {
      "image/png": "[encoded data removed]",
      "text/plain": [
       "<Figure size 432x288 with 1 Axes>"
      ]
     },
     "metadata": {
      "needs_background": "light"
     },
     "output_type": "display_data"
    }
   ],
   "source": [
    "%%time\n",
    "df_cutted = df_cut1(df)\n",
    "counts = plot_retweets_per_hour(df_cutted)"
   ]
  },
  {
   "cell_type": "markdown",
   "metadata": {},
   "source": [
    "### 5.2 Histograma de tweets y retweets por hora (Recorte 2)"
   ]
  },
  {
   "cell_type": "code",
   "execution_count": 30,
   "metadata": {
    "scrolled": false
   },
   "outputs": [
    {
     "name": "stdout",
     "output_type": "stream",
     "text": [
      "time_diff\n",
      "0.0    2327133\n",
      "1.0     327295\n",
      "2.0      52322\n",
      "3.0      18081\n",
      "Name: time_diff, dtype: int64\n",
      "Hay 2281 valores a plotear\n",
      "CPU times: user 7.22 s, sys: 1.7 s, total: 8.92 s"
     ]
    },
    {
     "name": "stdout",
     "output_type": "stream",
     "text": [
      "\n",
      "Wall time: 8.58 s\n"
     ]
    },
    {
     "data": {
      "image/png": "[encoded data removed]",
      "text/plain": [
       "<Figure size 432x288 with 1 Axes>"
      ]
     },
     "metadata": {
      "needs_background": "light"
     },
     "output_type": "display_data"
    }
   ],
   "source": [
    "%%time\n",
    "df_cutted = df_cut2(df)\n",
    "counts = plot_retweets_per_hour(df_cutted)"
   ]
  },
  {
   "cell_type": "code",
   "execution_count": null,
   "metadata": {},
   "outputs": [],
   "source": [
    "\n"
   ]
  },
  {
   "cell_type": "markdown",
   "metadata": {},
   "source": [
    "### Retweets por hora de los primeros n tweets"
   ]
  },
  {
   "cell_type": "code",
   "execution_count": 31,
   "metadata": {
    "scrolled": false
   },
   "outputs": [],
   "source": [
    "# TODO\n",
    "\n",
    "# n = 5\n",
    "# top_retweeted = df.nlargest(5, 'retweet_count')\n",
    "# top_retweeted"
   ]
  },
  {
   "cell_type": "markdown",
   "metadata": {},
   "source": [
    "Primer intento: ¿los tweets con más retweet counts aparecen en los storylines de otros users considerados?"
   ]
  },
  {
   "cell_type": "code",
   "execution_count": 32,
   "metadata": {},
   "outputs": [],
   "source": [
    "# for t_id in top_retweeted.id_str:\n",
    "#     retweeted = df[df.retweeted_status__id_str == str(t_id)]\n",
    "#     print(retweeted.shape[0])"
   ]
  },
  {
   "cell_type": "markdown",
   "metadata": {},
   "source": [
    "Segundo intento: considerar los top retweet_counts que sí ..."
   ]
  },
  {
   "cell_type": "code",
   "execution_count": 33,
   "metadata": {
    "scrolled": false
   },
   "outputs": [],
   "source": [
    "# for t_id in top_retweeted.id_str:\n",
    "#     retweeted = df[df.retweeted_status__id_str == str(t_id)]\n",
    "#     retweeted['time_diff'] = retweeted.created_at - retweeted.retweeted_status__created_at\n",
    "#     retweeted.time_diff.groupby((retweeted.time_diff / np.timedelta64(1, 'h')).round(0)).count().plot(kind=\"bar\")"
   ]
  },
  {
   "cell_type": "code",
   "execution_count": 34,
   "metadata": {},
   "outputs": [],
   "source": [
    "# retweeted = df[df.retweeted_status__id_str == str(1056986168024330240)]\n",
    "# retweeted.created_at.groupby(retweeted[\"created_at\"].dt.hour).count().plot(kind=\"line\")"
   ]
  },
  {
   "cell_type": "code",
   "execution_count": 35,
   "metadata": {},
   "outputs": [],
   "source": [
    "# row_max_rt = df.retweet_count.idxmax()\n",
    "# print(df.iloc[row_max_rt, :])\n",
    "# print(row_max_rt)\n",
    "# print(type(row_max_rt))"
   ]
  }
 ],
 "metadata": {
  "kernelspec": {
   "display_name": "Python 3",
   "language": "python",
   "name": "python3"
  },
  "language_info": {
   "codemirror_mode": {
    "name": "ipython",
    "version": 3
   },
   "file_extension": ".py",
   "mimetype": "text/x-python",
   "name": "python",
   "nbconvert_exporter": "python",
   "pygments_lexer": "ipython3",
   "version": "3.6.7"
  }
 },
 "nbformat": 4,
 "nbformat_minor": 2
}
