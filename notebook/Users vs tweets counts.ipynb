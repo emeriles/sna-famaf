{
 "cells": [
  {
   "cell_type": "code",
   "execution_count": 1,
   "metadata": {},
   "outputs": [],
   "source": [
    "csv_path =\"../data/raw/csvs/cut1_full.csv\""
   ]
  },
  {
   "cell_type": "code",
   "execution_count": 2,
   "metadata": {},
   "outputs": [],
   "source": [
    "import pandas as pd\n",
    "import pickle\n",
    "# from db import DBHandler\n",
    "import numpy as np\n",
    "import matplotlib.pyplot as plt\n",
    "%matplotlib inline"
   ]
  },
  {
   "cell_type": "code",
   "execution_count": 3,
   "metadata": {},
   "outputs": [],
   "source": [
    "dtypes = {\n",
    "    'user.id_str': str,\n",
    "    'id_str': str,\n",
    "    'retweeted_status.id_str': str ,\n",
    "    'retweeted_status.user.id_str': str,\n",
    "    'retweet_count': int,\n",
    "    'quoted_status_id_str': str,\n",
    "}\n",
    "df = pd.read_csv(csv_path, dtype=dtypes, encoding='utf-8')\n",
    "\n",
    "# parse dates\n",
    "datetime_cols = [c for c in df.columns if 'created_at' in c]\n",
    "for c in datetime_cols:\n",
    "    df[c] = pd.to_datetime(df[c])\n",
    "\n",
    "# reemplazar nombre de columnas: . por __ para sintactic sugar de pandas.\n",
    "df.rename(columns=lambda x: x.replace('.', '__'), inplace=True)"
   ]
  },
  {
   "cell_type": "code",
   "execution_count": null,
   "metadata": {},
   "outputs": [],
   "source": []
  },
  {
   "cell_type": "markdown",
   "metadata": {},
   "source": [
    "### Actividad medida por sólo retweets para los usuarios de prueba"
   ]
  },
  {
   "cell_type": "code",
   "execution_count": 4,
   "metadata": {
    "scrolled": true
   },
   "outputs": [
    {
     "name": "stdout",
     "output_type": "stream",
     "text": [
      "Cantidad de active and central users: 224\n"
     ]
    }
   ],
   "source": [
    "test_users_path = '../data/processed/active_and_central_ONLY_RT.pickle'\n",
    "with open(test_users_path, 'rb') as f:\n",
    "    ac_users_rt = pickle.load(f)\n",
    "ac_users_rt = [int(x) for x in ac_users_rt]\n",
    "print(\"Cantidad de active and central users: {}\".format(len(ac_users_rt)))"
   ]
  },
  {
   "cell_type": "code",
   "execution_count": 5,
   "metadata": {},
   "outputs": [
    {
     "name": "stdout",
     "output_type": "stream",
     "text": [
      "Promedio de cantidad de datos: 2385.0758928571427\n"
     ]
    },
    {
     "data": {
      "image/png": "[encoded data removed]",
      "text/plain": [
       "<Figure size 432x288 with 1 Axes>"
      ]
     },
     "metadata": {
      "needs_background": "light"
     },
     "output_type": "display_data"
    }
   ],
   "source": [
    "aux = df.user__id_str.groupby(df.user__id_str).count()\n",
    "values = aux[ac_users_rt].values\n",
    "values.sort()\n",
    "x_s = range(len(values))\n",
    "y_s = values\n",
    "plt.plot(x_s, y_s)\n",
    "\n",
    "avg = sum(values) * 1.0 / len(values)\n",
    "print('Promedio de cantidad de datos: {}'.format(avg))"
   ]
  },
  {
   "cell_type": "markdown",
   "metadata": {},
   "source": [
    "### Actividad medida por tweets originales para los usuarios de prueba"
   ]
  },
  {
   "cell_type": "code",
   "execution_count": 6,
   "metadata": {
    "scrolled": true
   },
   "outputs": [
    {
     "name": "stdout",
     "output_type": "stream",
     "text": [
      "Cantidad de active and central users: 179\n"
     ]
    }
   ],
   "source": [
    "test_users_path = '../data/processed/active_and_central_T_AND_RT.pickle'\n",
    "with open(test_users_path, 'rb') as f:\n",
    "    ac_users = pickle.load(f)\n",
    "ac_users = [int(x) for x in ac_users]\n",
    "print(\"Cantidad de active and central users: {}\".format(len(ac_users)))"
   ]
  },
  {
   "cell_type": "code",
   "execution_count": 7,
   "metadata": {},
   "outputs": [
    {
     "name": "stdout",
     "output_type": "stream",
     "text": [
      "Promedio de cantidad de datos: 3108.1284916201116\n"
     ]
    },
    {
     "data": {
      "image/png": "[encoded data removed]",
      "text/plain": [
       "<Figure size 432x288 with 1 Axes>"
      ]
     },
     "metadata": {
      "needs_background": "light"
     },
     "output_type": "display_data"
    }
   ],
   "source": [
    "aux = df.user__id_str.groupby(df.user__id_str).count()\n",
    "values = aux[ac_users].values\n",
    "values.sort()\n",
    "x_s = range(len(values))\n",
    "y_s = values\n",
    "plt.plot(x_s, y_s)\n",
    "\n",
    "avg = sum(values) * 1.0 / len(values)\n",
    "print('Promedio de cantidad de datos: {}'.format(avg))"
   ]
  },
  {
   "cell_type": "markdown",
   "metadata": {},
   "source": [
    "#### Interseccion de ambos métodos:"
   ]
  },
  {
   "cell_type": "code",
   "execution_count": 8,
   "metadata": {},
   "outputs": [
    {
     "data": {
      "text/plain": [
       "11"
      ]
     },
     "execution_count": 8,
     "metadata": {},
     "output_type": "execute_result"
    }
   ],
   "source": [
    "w_original_tweets = set(ac_users)\n",
    "w_retweets = set(ac_users_rt)\n",
    "inters = w_original_tweets.intersection(w_retweets)\n",
    "len(inters)"
   ]
  },
  {
   "cell_type": "code",
   "execution_count": null,
   "metadata": {},
   "outputs": [],
   "source": []
  },
  {
   "cell_type": "markdown",
   "metadata": {},
   "source": [
    "## Relacion con trabajo previo (Pablo)"
   ]
  },
  {
   "cell_type": "code",
   "execution_count": null,
   "metadata": {},
   "outputs": [],
   "source": []
  },
  {
   "cell_type": "code",
   "execution_count": 9,
   "metadata": {},
   "outputs": [
    {
     "name": "stdout",
     "output_type": "stream",
     "text": [
      "SQLITE_CONNECTION = None\n",
      "CSV_RAW = None\n",
      "CSV_CUTTED = None\n",
      "JSON_TEXTS = None\n"
     ]
    }
   ],
   "source": [
    "from sqlalchemy.orm import sessionmaker                                                                                                                                \n",
    "from sqlalchemy import create_engine\n",
    "from dbmodels import *\n",
    "\n",
    "connection = 'sqlite:///../data/processed/twitter_sample.db'\n",
    "engine = create_engine(connection)\n",
    "Session = sessionmaker(bind=engine)\n",
    "s = Session()\n",
    "\n",
    "rtcounts = {u: len(u.retweets) for u in s.query(User).all()}"
   ]
  },
  {
   "cell_type": "code",
   "execution_count": 10,
   "metadata": {},
   "outputs": [],
   "source": [
    "rtcounts_ids = {u.id: count for u, count in rtcounts.items()}"
   ]
  },
  {
   "cell_type": "code",
   "execution_count": 11,
   "metadata": {},
   "outputs": [
    {
     "name": "stdout",
     "output_type": "stream",
     "text": [
      "Cantidad de active and central users: 204\n"
     ]
    }
   ],
   "source": [
    "pablo_users_path = '../data/processed/active_and_central_PABLO.pickle'\n",
    "with open(pablo_users_path, 'rb') as f:\n",
    "    ac_users_pablo = pickle.load(f)\n",
    "ac_users_pablo = [int(x) for x in ac_users_pablo]\n",
    "print(\"Cantidad de active and central users: {}\".format(len(ac_users_pablo)))"
   ]
  },
  {
   "cell_type": "code",
   "execution_count": 12,
   "metadata": {},
   "outputs": [
    {
     "name": "stdout",
     "output_type": "stream",
     "text": [
      "Promedio de cantidad de datos: 360.80882352941177\n"
     ]
    },
    {
     "data": {
      "image/png": "[encoded data removed]",
      "text/plain": [
       "<Figure size 432x288 with 1 Axes>"
      ]
     },
     "metadata": {
      "needs_background": "light"
     },
     "output_type": "display_data"
    }
   ],
   "source": [
    "values = [rtcounts_ids[u] for u in ac_users_pablo]\n",
    "values.sort()\n",
    "x_s = range(len(values))\n",
    "y_s = values\n",
    "plt.plot(x_s, y_s)\n",
    "\n",
    "avg = sum(values) * 1.0 / len(values)\n",
    "print('Promedio de cantidad de datos: {}'.format(avg))"
   ]
  },
  {
   "cell_type": "markdown",
   "metadata": {},
   "source": [
    "### Interseccion con trabajo de pablo\n",
    "###### Seleccion de usuarios por actividad en RT solamente"
   ]
  },
  {
   "cell_type": "code",
   "execution_count": 13,
   "metadata": {},
   "outputs": [
    {
     "data": {
      "text/plain": [
       "22"
      ]
     },
     "execution_count": 13,
     "metadata": {},
     "output_type": "execute_result"
    }
   ],
   "source": [
    "w_retweets = set(ac_users_rt)\n",
    "pablo_users = set(ac_users_pablo)\n",
    "inters = pablo_users.intersection(w_retweets)\n",
    "len(inters)"
   ]
  },
  {
   "cell_type": "code",
   "execution_count": 14,
   "metadata": {},
   "outputs": [
    {
     "data": {
      "text/plain": [
       "5"
      ]
     },
     "execution_count": 14,
     "metadata": {},
     "output_type": "execute_result"
    }
   ],
   "source": [
    "w_original_tweets = set(ac_users)\n",
    "pablo_users = set(ac_users_pablo)\n",
    "inters = pablo_users.intersection(w_original_tweets)\n",
    "len(inters)"
   ]
  },
  {
   "cell_type": "code",
   "execution_count": null,
   "metadata": {},
   "outputs": [],
   "source": []
  }
 ],
 "metadata": {
  "kernelspec": {
   "display_name": "Python 3",
   "language": "python",
   "name": "python3"
  },
  "language_info": {
   "codemirror_mode": {
    "name": "ipython",
    "version": 3
   },
   "file_extension": ".py",
   "mimetype": "text/x-python",
   "name": "python",
   "nbconvert_exporter": "python",
   "pygments_lexer": "ipython3",
   "version": "3.7.3rc1"
  }
 },
 "nbformat": 4,
 "nbformat_minor": 2
}
